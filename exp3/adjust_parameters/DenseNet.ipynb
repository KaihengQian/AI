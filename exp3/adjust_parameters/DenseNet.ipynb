{
 "cells": [
  {
   "cell_type": "markdown",
   "source": [
    "# 实验准备"
   ],
   "metadata": {
    "collapsed": false
   },
   "id": "d119bd317418eba7"
  },
  {
   "cell_type": "code",
   "execution_count": 1,
   "outputs": [],
   "source": [
    "import numpy as np\n",
    "from mlxtend.data import loadlocal_mnist\n",
    "from sklearn.model_selection import train_test_split\n",
    "import torch\n",
    "import torch.nn as nn\n",
    "import torch.optim as optim\n",
    "from torch.utils.data import Dataset, DataLoader\n",
    "import torch.nn.functional as F\n",
    "import torchvision.transforms as T\n",
    "from collections import OrderedDict"
   ],
   "metadata": {
    "collapsed": false,
    "ExecuteTime": {
     "end_time": "2023-12-05T12:07:39.225870300Z",
     "start_time": "2023-12-05T12:07:36.661222Z"
    }
   },
   "id": "7aa3dcddc69039df"
  },
  {
   "cell_type": "code",
   "execution_count": 2,
   "outputs": [
    {
     "name": "stdout",
     "output_type": "stream",
     "text": [
      "using device: cuda\n"
     ]
    }
   ],
   "source": [
    "# 如果计算机安装有CUDA，则使用CUDA进行接下来的全部训练，否则使用CPU\n",
    "if torch.cuda.is_available():\n",
    "    device = torch.device('cuda')\n",
    "else:\n",
    "    device = torch.device('cpu')\n",
    "print('using device:', device)"
   ],
   "metadata": {
    "collapsed": false,
    "ExecuteTime": {
     "end_time": "2023-12-05T12:07:39.275881400Z",
     "start_time": "2023-12-05T12:07:39.226869800Z"
    }
   },
   "id": "5763bca56d318afd"
  },
  {
   "cell_type": "code",
   "execution_count": 3,
   "outputs": [
    {
     "name": "stdout",
     "output_type": "stream",
     "text": [
      "X_train:  (48000, 28, 28, 1)\n",
      "y_train:  (48000,)\n",
      "X_val:  (12000, 28, 28, 1)\n",
      "y_val:  (12000,)\n",
      "X_test:  (10000, 28, 28, 1)\n",
      "y_test:  (10000,)\n"
     ]
    }
   ],
   "source": [
    "class MnistDataset(Dataset):\n",
    "    def __init__(self, images, labels, transform=None):\n",
    "        self.images = images\n",
    "        self.labels = labels\n",
    "        self.transform = transform\n",
    "\n",
    "    def __len__(self):\n",
    "        return len(self.images)\n",
    "\n",
    "    def __getitem__(self, idx):\n",
    "        label = self.labels[idx]\n",
    "        image = self.images[idx]\n",
    "\n",
    "        if self.transform:\n",
    "            image = self.transform(image)\n",
    "\n",
    "        return image, label\n",
    "\n",
    "\n",
    "# 加载数据集\n",
    "train_images_path = '../data/train-images.idx3-ubyte'\n",
    "train_labels_path = '../data/train-labels.idx1-ubyte'\n",
    "test_images_path = '../data/t10k-images.idx3-ubyte'\n",
    "test_labels_path = '../data/t10k-labels.idx1-ubyte'\n",
    "\n",
    "# 读取训练数据\n",
    "X_train, y_train = loadlocal_mnist(\n",
    "    images_path=train_images_path,\n",
    "    labels_path=train_labels_path)\n",
    "# 调整图像形状\n",
    "X_train = X_train.reshape(-1, 28, 28, 1)\n",
    "\n",
    "# 将训练数据划分为训练集和验证集，固定划分（8:2）\n",
    "X_train, X_val, y_train, y_val = train_test_split(X_train, y_train, test_size=0.2, random_state=42)\n",
    "\n",
    "# 读取测试数据，即测试集\n",
    "X_test, y_test = loadlocal_mnist(\n",
    "    images_path=test_images_path,\n",
    "    labels_path=test_labels_path)\n",
    "# 调整图像形状\n",
    "X_test = X_test.reshape(-1, 28, 28, 1)\n",
    "\n",
    "print('X_train: ', X_train.shape)\n",
    "print('y_train: ', y_train.shape)\n",
    "print('X_val: ', X_val.shape)\n",
    "print('y_val: ', y_val.shape)\n",
    "print('X_test: ', X_test.shape)\n",
    "print('y_test: ', y_test.shape)\n",
    "\n",
    "# 将训练集、验证集、测试集分别包装为Dataloader\n",
    "transform = T.Compose([T.ToTensor(), T.Normalize((0.1307,), (0.3081,))])\n",
    "\n",
    "train_dataset = MnistDataset(X_train, y_train, transform=transform)\n",
    "val_dataset = MnistDataset(X_val, y_val, transform=transform)\n",
    "test_dataset = MnistDataset(X_test, y_test, transform=transform)\n",
    "\n",
    "train_loader = DataLoader(train_dataset, batch_size=64, shuffle=True)\n",
    "val_loader = DataLoader(val_dataset, batch_size=64, shuffle=False)\n",
    "test_loader = DataLoader(test_dataset, batch_size=64, shuffle=False)"
   ],
   "metadata": {
    "collapsed": false,
    "ExecuteTime": {
     "end_time": "2023-12-05T12:07:39.336895100Z",
     "start_time": "2023-12-05T12:07:39.270880100Z"
    }
   },
   "id": "8cbe52c5c24a5eab"
  },
  {
   "cell_type": "markdown",
   "source": [
    "# 寻找最佳超参数组合"
   ],
   "metadata": {
    "collapsed": false
   },
   "id": "c6e53ce2c9230d79"
  },
  {
   "cell_type": "code",
   "execution_count": 4,
   "outputs": [],
   "source": [
    "# 检查模型准确率（使用验证集或测试集）\n",
    "def check_accuracy(loader, model):\n",
    "    num_correct = 0\n",
    "    num_samples = 0\n",
    "    model.eval()\n",
    "    with torch.no_grad():\n",
    "        for x, y in loader:\n",
    "            x = x.to(device=device, dtype=torch.float32)\n",
    "            y = y.to(device=device, dtype=torch.long)\n",
    "            scores = model(x)\n",
    "            _, preds = scores.max(1)\n",
    "            num_correct += (preds == y).sum()\n",
    "            num_samples += preds.size(0)\n",
    "        acc = float(num_correct) / num_samples\n",
    "        return acc"
   ],
   "metadata": {
    "collapsed": false,
    "ExecuteTime": {
     "end_time": "2023-12-05T12:07:39.337895500Z",
     "start_time": "2023-12-05T12:07:39.318890800Z"
    }
   },
   "id": "cc0b424a281739fc"
  },
  {
   "cell_type": "code",
   "execution_count": 5,
   "outputs": [],
   "source": [
    "# 训练分类器\n",
    "def train_classifier(model, optimizer, epochs):\n",
    "    model = model.to(device=device)\n",
    "    for e in range(epochs):\n",
    "        for t, (x, y) in enumerate(train_loader):\n",
    "            model.train()\n",
    "            x = x.to(device=device, dtype=torch.float32)\n",
    "            y = y.to(device=device, dtype=torch.long)\n",
    "\n",
    "            scores = model(x)\n",
    "            loss = F.cross_entropy(scores, y)\n",
    "\n",
    "            # 将待更新参数的梯度置为零\n",
    "            optimizer.zero_grad()\n",
    "\n",
    "            # 反向传播，计算梯度\n",
    "            loss.backward()\n",
    "\n",
    "            # 利用梯度更新参数\n",
    "            optimizer.step()\n",
    "            \n",
    "    acc = check_accuracy(val_loader, model)\n",
    "    return acc"
   ],
   "metadata": {
    "collapsed": false,
    "ExecuteTime": {
     "end_time": "2023-12-05T12:07:39.347897Z",
     "start_time": "2023-12-05T12:07:39.334895200Z"
    }
   },
   "id": "68771d3d5d1fa84a"
  },
  {
   "cell_type": "code",
   "execution_count": 6,
   "outputs": [],
   "source": [
    "# 定义过渡层\n",
    "class _Transition(nn.Sequential):\n",
    "    def __init__(self, in_channels, out_channels):\n",
    "        super().__init__()\n",
    "        \n",
    "        self.add_module('norm', nn.BatchNorm2d(in_channels))\n",
    "        self.add_module('relu', nn.ReLU(inplace=True))\n",
    "\n",
    "        self.add_module('conv', nn.Conv2d(in_channels, out_channels, 1, bias=False))\n",
    "        self.add_module('pool', nn.AvgPool2d(2, 2))\n",
    "\n",
    "\n",
    "# 定义稠密层        \n",
    "class _DenseLayer(nn.Module):\n",
    "    def __init__(self, in_channels, growth_rate, bottleneck_size, dropout):\n",
    "        super().__init__()\n",
    "\n",
    "        self.norm1 = nn.BatchNorm2d(in_channels) \n",
    "        self.relu1 = nn.ReLU(inplace=True)\n",
    "        self.conv1 = nn.Conv2d(in_channels, growth_rate * bottleneck_size, 1, bias=False)\n",
    "\n",
    "        self.norm2 = nn.BatchNorm2d(growth_rate * bottleneck_size)\n",
    "        self.relu2 = nn.ReLU(inplace=True)\n",
    "        self.conv2 = nn.Conv2d(growth_rate * bottleneck_size, growth_rate, 3, padding=1, bias=False)\n",
    "        \n",
    "        self.dropout = nn.Dropout(p=dropout)  # 添加Dropout层\n",
    "\n",
    "    def forward(self, x):\n",
    "        x = [x] if torch.is_tensor(x) else x\n",
    "        x = self.conv1(self.relu1(self.norm1(torch.cat(x, 1))))\n",
    "        x = self.conv2(self.relu2(self.norm2(x)))\n",
    "        output = self.dropout(x)\n",
    "\n",
    "        return output\n",
    "    \n",
    "    \n",
    "# 定义稠密块\n",
    "class _DenseBlock(nn.ModuleDict):\n",
    "    def __init__(self, num_layers, in_channels, growth_rate, bottleneck_size, dropout):\n",
    "        super().__init__()\n",
    "\n",
    "        for i in range(num_layers):\n",
    "            layer = _DenseLayer(in_channels + i * growth_rate, growth_rate, bottleneck_size, dropout)\n",
    "            self.add_module(f'denselayer{i+1}', layer)\n",
    "              \n",
    "    def forward(self, x):\n",
    "        xs = [x]\n",
    "\n",
    "        for name, layer in self.items():\n",
    "            x_new = layer(xs)\n",
    "            xs.append(x_new)\n",
    "\n",
    "        return torch.cat(xs, 1)\n",
    "      \n",
    "      \n",
    "class DenseNet(nn.Module):\n",
    "    def __init__(self, block_config, growth_rate=16, bottleneck_size=4, num_classes=10, dropout=0.0):\n",
    "        super(DenseNet, self).__init__()\n",
    "\n",
    "        in_channels = 2 * growth_rate\n",
    "        self.features = nn.Sequential(OrderedDict([\n",
    "            ('conv0', nn.Conv2d(1, in_channels, 7, padding=3, bias=False)),\n",
    "            ('norm0', nn.BatchNorm2d(in_channels)),\n",
    "            ('relu0', nn.ReLU(inplace=True)),\n",
    "        ]))\n",
    "        \n",
    "        for i, num_layers in enumerate(block_config):\n",
    "            block = _DenseBlock(num_layers, in_channels, growth_rate, bottleneck_size, dropout)\n",
    "            self.features.add_module(f'denseblock{i+1}', block)\n",
    "            in_channels += num_layers * growth_rate\n",
    "            \n",
    "            if i != len(block_config) - 1:\n",
    "                trans = _Transition(in_channels, in_channels // 2)\n",
    "                self.features.add_module(f'transition{i+1}', trans)\n",
    "                in_channels = in_channels // 2\n",
    "            \n",
    "        self.features.add_module(f'norm{i+2}', nn.BatchNorm2d(in_channels))\n",
    "        self.features.add_module(f'relu{i+2}', nn.ReLU(inplace=True))\n",
    "\n",
    "        self.classifier = nn.Linear(in_channels, num_classes)\n",
    "\n",
    "        for m in self.modules():\n",
    "            if isinstance(m, nn.Conv2d):\n",
    "                nn.init.kaiming_normal_(m.weight)\n",
    "            elif isinstance(m, nn.BatchNorm2d):\n",
    "                nn.init.constant_(m.weight, 1)\n",
    "                nn.init.constant_(m.bias, 0)\n",
    "            elif isinstance(m, nn.Linear):\n",
    "                nn.init.constant_(m.bias, 0)\n",
    "                \n",
    "    def forward(self, x):\n",
    "        x = F.adaptive_avg_pool2d(self.features(x), (1, 1))\n",
    "        x = x.view(x.size(0), -1)\n",
    "        x = self.classifier(x)\n",
    "\n",
    "        return x"
   ],
   "metadata": {
    "collapsed": false,
    "ExecuteTime": {
     "end_time": "2023-12-05T12:07:39.376904400Z",
     "start_time": "2023-12-05T12:07:39.356898900Z"
    }
   },
   "id": "b08dccc47b926190"
  },
  {
   "cell_type": "code",
   "execution_count": 7,
   "outputs": [
    {
     "name": "stdout",
     "output_type": "stream",
     "text": [
      "optimizer SGD lr 5.000000e-03 momentum 9.000000e-01 weight_decay 1.000000e-04 val accuracy: 0.987500\n",
      "optimizer SGD lr 5.000000e-03 momentum 9.500000e-01 weight_decay 1.000000e-04 val accuracy: 0.992917\n",
      "optimizer SGD lr 6.000000e-03 momentum 9.000000e-01 weight_decay 1.000000e-04 val accuracy: 0.990500\n",
      "optimizer SGD lr 6.000000e-03 momentum 9.500000e-01 weight_decay 1.000000e-04 val accuracy: 0.992333\n",
      "best validation accuracy achieved:\n",
      "optimizer SGD lr 5.000000e-03 momentum 9.500000e-01 weight_decay 1.000000e-04 val accuracy: 0.992917\n"
     ]
    }
   ],
   "source": [
    "# SGD as optimizer\n",
    "best_model = None\n",
    "best_val_acc = -1\n",
    "best_lr = -1\n",
    "best_momentum = -1\n",
    "\n",
    "opt = \"SGD\"\n",
    "learning_rates = [5e-3, 6e-3]\n",
    "momentums = [0.9, 0.95]\n",
    "weight_decay = 0.0001\n",
    "dropout = 0.2\n",
    "\n",
    "for lr in learning_rates:\n",
    "    for momentum in momentums:\n",
    "        model = DenseNet(block_config=[6, 12, 24, 16], dropout=dropout)\n",
    "        optimizer = optim.SGD(model.parameters(), lr=lr, momentum=momentum, nesterov=True, weight_decay=weight_decay)\n",
    "        val_acc = train_classifier(model, optimizer, epochs=10)\n",
    "        if val_acc > best_val_acc:\n",
    "            best_model = model\n",
    "            best_val_acc = val_acc\n",
    "            best_lr = lr\n",
    "            best_momentum = momentum\n",
    "        print('optimizer %s lr %e momentum %e weight_decay %e val accuracy: %f' % (opt, lr, momentum, weight_decay, val_acc))\n",
    "            \n",
    "print('best validation accuracy achieved:')\n",
    "print('optimizer %s lr %e momentum %e weight_decay %e val accuracy: %f' % (opt, best_lr, best_momentum, weight_decay, best_val_acc))\n",
    "# optimizer SGD lr 5.000000e-03 momentum 9.500000e-01 weight_decay 1.000000e-04 val accuracy: 0.993917 test accuracy: 0.994300"
   ],
   "metadata": {
    "collapsed": false,
    "ExecuteTime": {
     "end_time": "2023-12-02T04:00:26.119538500Z",
     "start_time": "2023-12-02T03:12:12.996069100Z"
    }
   },
   "id": "initial_id"
  },
  {
   "cell_type": "code",
   "execution_count": 7,
   "outputs": [
    {
     "name": "stdout",
     "output_type": "stream",
     "text": [
      "optimizer Adam lr 1.000000e-05 weight_decay 1.000000e-04 val accuracy: 0.987417\n",
      "optimizer Adam lr 5.000000e-05 weight_decay 1.000000e-04 val accuracy: 0.990917\n",
      "optimizer Adam lr 2.000000e-04 weight_decay 1.000000e-04 val accuracy: 0.988917\n",
      "best validation accuracy achieved:\n",
      "optimizer Adam lr 5.000000e-05 weight_decay 1.000000e-04 val accuracy: 0.990917\n"
     ]
    }
   ],
   "source": [
    "# Adam as optimizer\n",
    "best_model = None\n",
    "best_val_acc = -1\n",
    "best_lr = -1\n",
    "\n",
    "opt = \"Adam\"\n",
    "learning_rates = [1e-5, 5e-5, 2e-4]\n",
    "weight_decay = 0.0001\n",
    "dropout = 0.0\n",
    "\n",
    "for lr in learning_rates:\n",
    "    model = DenseNet(block_config=[6, 12, 24, 16], dropout=dropout)\n",
    "    optimizer = optim.Adam(model.parameters(), lr=lr, weight_decay=weight_decay)\n",
    "    val_acc = train_classifier(model, optimizer, epochs=10)\n",
    "    if val_acc > best_val_acc:\n",
    "        best_model = model\n",
    "        best_val_acc = val_acc\n",
    "        best_lr = lr\n",
    "    print('optimizer %s lr %e weight_decay %e val accuracy: %f' % (opt, lr, weight_decay, val_acc))\n",
    "            \n",
    "print('best validation accuracy achieved:')\n",
    "print('optimizer %s lr %e weight_decay %e val accuracy: %f' % (opt, best_lr, weight_decay, best_val_acc))\n",
    "# optimizer Adam lr 1.000000e-04 weight_decay 1.000000e-04 val accuracy: 0.990667 test accuracy: 0.991900"
   ],
   "metadata": {
    "collapsed": false,
    "ExecuteTime": {
     "end_time": "2023-12-01T04:09:43.104316100Z",
     "start_time": "2023-12-01T03:32:56.411278Z"
    }
   },
   "id": "f23195cd58689cc4"
  },
  {
   "cell_type": "code",
   "execution_count": 9,
   "outputs": [
    {
     "name": "stdout",
     "output_type": "stream",
     "text": [
      "optimizer RMSprop lr 1.000000e-04 lr_decay 9.000000e-01 weight_decay 1.000000e-04 val accuracy: 0.983167\n",
      "optimizer RMSprop lr 1.000000e-04 lr_decay 9.500000e-01 weight_decay 1.000000e-04 val accuracy: 0.992333\n",
      "optimizer RMSprop lr 8.000000e-04 lr_decay 9.000000e-01 weight_decay 1.000000e-04 val accuracy: 0.990917\n",
      "optimizer RMSprop lr 8.000000e-04 lr_decay 9.500000e-01 weight_decay 1.000000e-04 val accuracy: 0.991500\n",
      "best validation accuracy achieved:\n",
      "optimizer RMSprop lr 1.000000e-04 lr_decay 9.500000e-01 weight_decay 1.000000e-04 val accuracy: 0.992333\n"
     ]
    }
   ],
   "source": [
    "# RMSprop as optimizer\n",
    "best_model = None\n",
    "best_val_acc = -1\n",
    "best_lr = -1\n",
    "best_lr_decay = -1\n",
    "\n",
    "opt = \"RMSprop\"\n",
    "learning_rates = [1e-4, 8e-4]\n",
    "lr_decays = [0.9, 0.95]\n",
    "weight_decay = 0.0001\n",
    "dropout = 0.0\n",
    "\n",
    "for lr in learning_rates:\n",
    "    for lr_decay in lr_decays:\n",
    "        model = DenseNet(block_config=[6, 12, 24, 16], dropout=dropout)\n",
    "        optimizer = optim.RMSprop(model.parameters(), lr=lr, alpha=lr_decay, weight_decay=weight_decay)\n",
    "        val_acc = train_classifier(model, optimizer, epochs=10)\n",
    "        if val_acc > best_val_acc:\n",
    "            best_model = model\n",
    "            best_val_acc = val_acc\n",
    "            best_lr = lr\n",
    "            best_lr_decay = lr_decay\n",
    "        print('optimizer %s lr %e lr_decay %e weight_decay %e val accuracy: %f' % (opt, lr, lr_decay, weight_decay, val_acc))\n",
    "            \n",
    "print('best validation accuracy achieved:')\n",
    "print('optimizer %s lr %e lr_decay %e weight_decay %e val accuracy: %f' % (opt, best_lr, best_lr_decay, weight_decay, best_val_acc))\n",
    "# optimizer RMSprop lr 5.000000e-04 lr_decay 9.000000e-01 weight_decay 1.000000e-04 val accuracy: 0.990833 test accuracy: 0.992000"
   ],
   "metadata": {
    "collapsed": false,
    "ExecuteTime": {
     "end_time": "2023-12-01T04:57:48.611773100Z",
     "start_time": "2023-12-01T04:10:50.861364400Z"
    }
   },
   "id": "37c9681d7a5a5629"
  },
  {
   "cell_type": "code",
   "execution_count": 8,
   "outputs": [
    {
     "name": "stdout",
     "output_type": "stream",
     "text": [
      "test accuracy: 0.992200\n"
     ]
    }
   ],
   "source": [
    "test_acc = check_accuracy(test_loader, best_model)\n",
    "print('test accuracy: %f' % test_acc)"
   ],
   "metadata": {
    "collapsed": false,
    "ExecuteTime": {
     "end_time": "2023-12-02T04:01:18.868422400Z",
     "start_time": "2023-12-02T04:01:13.706309200Z"
    }
   },
   "id": "56de3285d0fea6b3"
  },
  {
   "cell_type": "markdown",
   "source": [
    "# 训练最佳模型"
   ],
   "metadata": {
    "collapsed": false
   },
   "id": "e6c6eecedf28aeeb"
  },
  {
   "cell_type": "code",
   "execution_count": 7,
   "outputs": [],
   "source": [
    "def check_accuracy_alt(loader, model):\n",
    "    num_correct = 0\n",
    "    num_samples = 0\n",
    "    model.eval()\n",
    "    with torch.no_grad():\n",
    "        for x, y in loader:\n",
    "            x = x.to(device=device, dtype=torch.float32)\n",
    "            y = y.to(device=device, dtype=torch.long)\n",
    "            scores = model(x)\n",
    "            _, preds = scores.max(1)\n",
    "            num_correct += (preds == y).sum()\n",
    "            num_samples += preds.size(0)\n",
    "        acc = float(num_correct) / num_samples\n",
    "        res = 'Got %d / %d correct (%.2f)' % (num_correct, num_samples, 100 * acc)\n",
    "        return res"
   ],
   "metadata": {
    "collapsed": false,
    "ExecuteTime": {
     "end_time": "2023-12-05T12:07:47.112781200Z",
     "start_time": "2023-12-05T12:07:47.103764900Z"
    }
   },
   "id": "cb18f8110ca9e2ed"
  },
  {
   "cell_type": "code",
   "execution_count": 8,
   "outputs": [],
   "source": [
    "def evaluate_classifier_alt(model):\n",
    "    classifier_type = \"DenseNet\"\n",
    "    optimizer_type = \"SGD\"\n",
    "\n",
    "    path = '../evaluation/DenseNet_evaluation.txt'\n",
    "    with open(path, 'w') as f:\n",
    "        # 使用验证集\n",
    "        f.write(f\"{classifier_type} with {optimizer_type} on validation set:\\n\")\n",
    "        val_res = check_accuracy_alt(val_loader, model)\n",
    "        f.write(val_res + '\\n\\n')\n",
    "        # 使用测试集\n",
    "        f.write(f\"{classifier_type} with {optimizer_type} on test set:\\n\")\n",
    "        test_res = check_accuracy_alt(test_loader, model)\n",
    "        f.write(test_res)"
   ],
   "metadata": {
    "collapsed": false,
    "ExecuteTime": {
     "end_time": "2023-12-05T12:07:47.977492300Z",
     "start_time": "2023-12-05T12:07:47.960448100Z"
    }
   },
   "id": "f95ed9ffbbc51eda"
  },
  {
   "cell_type": "code",
   "execution_count": 9,
   "outputs": [],
   "source": [
    "def train_classifier_alt(model, optimizer, epochs):\n",
    "    loss_values = []\n",
    "    train_acc_values = []\n",
    "    val_acc_values = []\n",
    "    \n",
    "    model = model.to(device=device)\n",
    "    for e in range(epochs):\n",
    "        for t, (x, y) in enumerate(train_loader):\n",
    "            model.train()\n",
    "            x = x.to(device=device, dtype=torch.float32)\n",
    "            y = y.to(device=device, dtype=torch.long)\n",
    "\n",
    "            scores = model(x)\n",
    "            loss = F.cross_entropy(scores, y)\n",
    "\n",
    "            # 将待更新参数的梯度置为零\n",
    "            optimizer.zero_grad()\n",
    "\n",
    "            # 反向传播，计算梯度\n",
    "            loss.backward()\n",
    "\n",
    "            # 利用梯度更新参数\n",
    "            optimizer.step()\n",
    "            \n",
    "        loss_values.append(loss)\n",
    "        print(\"Epoch %d/%d:\" % (e + 1, epochs))\n",
    "        train_acc = check_accuracy(train_loader, model)\n",
    "        train_acc_values.append(train_acc)\n",
    "        val_acc = check_accuracy(val_loader, model)\n",
    "        val_acc_values.append(val_acc)\n",
    "        print(\"Train Accuracy: %f Validation Accuracy: %f\" % (train_acc, val_acc))\n",
    "        \n",
    "    evaluate_classifier_alt(model)\n",
    "        \n",
    "    path = '../models/DenseNet_classifier.pth'\n",
    "    torch.save(model.state_dict(), path)\n",
    "    \n",
    "    return loss_values, train_acc_values, val_acc_values"
   ],
   "metadata": {
    "collapsed": false,
    "ExecuteTime": {
     "end_time": "2023-12-05T12:07:49.329607400Z",
     "start_time": "2023-12-05T12:07:49.303601900Z"
    }
   },
   "id": "2173441044dd8db"
  },
  {
   "cell_type": "code",
   "execution_count": 10,
   "outputs": [
    {
     "name": "stdout",
     "output_type": "stream",
     "text": [
      "Epoch 1/10:\n",
      "Train Accuracy: 0.981625 Validation Accuracy: 0.976917\n",
      "Epoch 2/10:\n",
      "Train Accuracy: 0.993604 Validation Accuracy: 0.987750\n",
      "Epoch 3/10:\n",
      "Train Accuracy: 0.995188 Validation Accuracy: 0.989917\n",
      "Epoch 4/10:\n",
      "Train Accuracy: 0.997437 Validation Accuracy: 0.990750\n",
      "Epoch 5/10:\n",
      "Train Accuracy: 0.997583 Validation Accuracy: 0.989833\n",
      "Epoch 6/10:\n",
      "Train Accuracy: 0.999458 Validation Accuracy: 0.992667\n",
      "Epoch 7/10:\n",
      "Train Accuracy: 0.999812 Validation Accuracy: 0.993000\n",
      "Epoch 8/10:\n",
      "Train Accuracy: 0.999812 Validation Accuracy: 0.993333\n",
      "Epoch 9/10:\n",
      "Train Accuracy: 0.999354 Validation Accuracy: 0.992417\n",
      "Epoch 10/10:\n",
      "Train Accuracy: 0.999750 Validation Accuracy: 0.993417\n"
     ]
    }
   ],
   "source": [
    "lr = 5e-3\n",
    "momentum = 0.95\n",
    "weight_decay = 0.0001\n",
    "dropout = 0.0\n",
    "epochs = 10\n",
    "\n",
    "model = DenseNet(block_config=[6, 12, 24, 16], dropout=dropout)\n",
    "optimizer = optim.SGD(model.parameters(), lr=lr, momentum=momentum, nesterov=True, weight_decay=weight_decay)\n",
    "loss_values, train_acc_values, val_acc_values = train_classifier_alt(model, optimizer, epochs=epochs)"
   ],
   "metadata": {
    "collapsed": false,
    "ExecuteTime": {
     "end_time": "2023-12-05T12:24:21.139682800Z",
     "start_time": "2023-12-05T12:07:52.198295300Z"
    }
   },
   "id": "c8a45ec604e4ede9"
  },
  {
   "cell_type": "code",
   "execution_count": 11,
   "outputs": [
    {
     "data": {
      "text/plain": "<Figure size 1200x500 with 2 Axes>",
      "image/png": "[encoded data removed]"
     },
     "metadata": {},
     "output_type": "display_data"
    }
   ],
   "source": [
    "import matplotlib.pyplot as plt\n",
    "\n",
    "fig_path = \"../graph/DenseNet loss and acc.png\"\n",
    "\n",
    "fig, axs = plt.subplots(1, 2, figsize=(12, 5))\n",
    "epochs = [i + 1 for i in range(epochs)]\n",
    "loss_values = [tensor.cpu().detach().numpy() for tensor in loss_values]\n",
    "train_acc_values = np.array(train_acc_values) * 100\n",
    "val_acc_values = np.array(val_acc_values) * 100\n",
    "\n",
    "# 损失\n",
    "axs[0].plot(epochs, loss_values, marker='o')\n",
    "\n",
    "axs[0].set_xlabel('Epoch')\n",
    "axs[0].set_ylabel('Train Loss')\n",
    "\n",
    "# 准确率\n",
    "axs[1].plot(epochs, train_acc_values, label='train', marker='o')\n",
    "axs[1].plot(epochs, val_acc_values, label='val', marker='d')\n",
    "\n",
    "axs[1].set_xlabel('Epoch')\n",
    "axs[1].set_ylabel('Accuracy(%)')\n",
    "axs[1].legend()\n",
    "\n",
    "plt.tight_layout()\n",
    "plt.savefig(fig_path)"
   ],
   "metadata": {
    "collapsed": false,
    "ExecuteTime": {
     "end_time": "2023-12-05T12:24:37.834827500Z",
     "start_time": "2023-12-05T12:24:37.121457300Z"
    }
   },
   "id": "5ef243eacdbad6b9"
  },
  {
   "cell_type": "code",
   "execution_count": 12,
   "outputs": [],
   "source": [
    "def train_classifier_alt2(model, optimizer, epochs):\n",
    "    model = model.to(device=device)\n",
    "    for e in range(epochs):\n",
    "        for t, (x, y) in enumerate(train_loader):\n",
    "            model.train()\n",
    "            x = x.to(device=device, dtype=torch.float32)\n",
    "            y = y.to(device=device, dtype=torch.long)\n",
    "\n",
    "            scores = model(x)\n",
    "            loss = F.cross_entropy(scores, y)\n",
    "\n",
    "            # 将待更新参数的梯度置为零\n",
    "            optimizer.zero_grad()\n",
    "\n",
    "            # 反向传播，计算梯度\n",
    "            loss.backward()\n",
    "\n",
    "            # 利用梯度更新参数\n",
    "            optimizer.step()\n",
    "            \n",
    "    val_acc = check_accuracy(val_loader, model)\n",
    "    test_acc = check_accuracy(test_loader, model)\n",
    "    \n",
    "    return val_acc, test_acc"
   ],
   "metadata": {
    "collapsed": false,
    "ExecuteTime": {
     "end_time": "2023-12-05T12:25:00.978791Z",
     "start_time": "2023-12-05T12:25:00.965681300Z"
    }
   },
   "id": "cc3165497ecd13f1"
  },
  {
   "cell_type": "code",
   "execution_count": 13,
   "outputs": [
    {
     "name": "stdout",
     "output_type": "stream",
     "text": [
      "Validate:  [99.425, 99.26666666666667, 99.34166666666667, 99.18333333333334, 99.325, 99.36666666666667, 99.20833333333333, 99.38333333333334, 99.40833333333333, 99.25]\n",
      "Test:  [99.4, 99.42, 99.42, 99.25, 99.25, 99.44, 99.25, 99.22, 99.42999999999999, 99.38]\n"
     ]
    }
   ],
   "source": [
    "lr = 5e-3\n",
    "momentum = 0.95\n",
    "weight_decay = 0.0001\n",
    "dropout = 0.0\n",
    "epochs = 10\n",
    "\n",
    "val_acc_values = []\n",
    "test_acc_values = []\n",
    "\n",
    "for _ in range(10):\n",
    "    model = DenseNet(block_config=[6, 12, 24, 16], dropout=dropout)\n",
    "    optimizer = optim.SGD(model.parameters(), lr=lr, momentum=momentum, nesterov=True, weight_decay=weight_decay)\n",
    "    val_acc, test_acc = train_classifier_alt2(model, optimizer, epochs=epochs)\n",
    "    val_acc_values.append(val_acc * 100)\n",
    "    test_acc_values.append(test_acc * 100)\n",
    "    \n",
    "print(\"Validate: \", val_acc_values)\n",
    "print(\"Test: \", test_acc_values)"
   ],
   "metadata": {
    "collapsed": false,
    "ExecuteTime": {
     "end_time": "2023-12-05T14:23:13.249120500Z",
     "start_time": "2023-12-05T12:25:17.360683300Z"
    }
   },
   "id": "1026df9a5271a710"
  }
 ],
 "metadata": {
  "kernelspec": {
   "display_name": "Python 3",
   "language": "python",
   "name": "python3"
  },
  "language_info": {
   "codemirror_mode": {
    "name": "ipython",
    "version": 2
   },
   "file_extension": ".py",
   "mimetype": "text/x-python",
   "name": "python",
   "nbconvert_exporter": "python",
   "pygments_lexer": "ipython2",
   "version": "2.7.6"
  }
 },
 "nbformat": 4,
 "nbformat_minor": 5
}
