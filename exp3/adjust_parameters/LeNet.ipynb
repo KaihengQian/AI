{
 "cells": [
  {
   "cell_type": "markdown",
   "source": [
    "# 实验准备"
   ],
   "metadata": {
    "collapsed": false
   },
   "id": "2290831d3851c34f"
  },
  {
   "cell_type": "code",
   "execution_count": 1,
   "outputs": [],
   "source": [
    "import numpy as np\n",
    "from mlxtend.data import loadlocal_mnist\n",
    "from sklearn.model_selection import train_test_split\n",
    "import torch\n",
    "import torch.nn as nn\n",
    "import torch.optim as optim\n",
    "from torch.utils.data import Dataset, DataLoader\n",
    "import torch.nn.functional as F\n",
    "import torchvision.transforms as T"
   ],
   "metadata": {
    "collapsed": false,
    "ExecuteTime": {
     "end_time": "2023-12-05T10:36:03.782999Z",
     "start_time": "2023-12-05T10:35:59.186371400Z"
    }
   },
   "id": "7aa3dcddc69039df"
  },
  {
   "cell_type": "code",
   "execution_count": 2,
   "outputs": [
    {
     "name": "stdout",
     "output_type": "stream",
     "text": [
      "using device: cuda\n"
     ]
    }
   ],
   "source": [
    "# 如果计算机安装有CUDA，则使用CUDA进行接下来的全部训练，否则使用CPU\n",
    "if torch.cuda.is_available():\n",
    "    device = torch.device('cuda')\n",
    "else:\n",
    "    device = torch.device('cpu')\n",
    "print('using device:', device)"
   ],
   "metadata": {
    "collapsed": false,
    "ExecuteTime": {
     "end_time": "2023-12-05T10:36:03.875908800Z",
     "start_time": "2023-12-05T10:36:03.782999Z"
    }
   },
   "id": "5763bca56d318afd"
  },
  {
   "cell_type": "code",
   "execution_count": 3,
   "outputs": [
    {
     "name": "stdout",
     "output_type": "stream",
     "text": [
      "X_train:  (48000, 28, 28, 1)\n",
      "y_train:  (48000,)\n",
      "X_val:  (12000, 28, 28, 1)\n",
      "y_val:  (12000,)\n",
      "X_test:  (10000, 28, 28, 1)\n",
      "y_test:  (10000,)\n"
     ]
    }
   ],
   "source": [
    "class MnistDataset(Dataset):\n",
    "    def __init__(self, images, labels, transform=None):\n",
    "        self.images = images\n",
    "        self.labels = labels\n",
    "        self.transform = transform\n",
    "\n",
    "    def __len__(self):\n",
    "        return len(self.images)\n",
    "\n",
    "    def __getitem__(self, idx):\n",
    "        label = self.labels[idx]\n",
    "        image = self.images[idx]\n",
    "\n",
    "        if self.transform:\n",
    "            image = self.transform(image)\n",
    "\n",
    "        return image, label\n",
    "\n",
    "\n",
    "# 加载数据集\n",
    "train_images_path = '../data/train-images.idx3-ubyte'\n",
    "train_labels_path = '../data/train-labels.idx1-ubyte'\n",
    "test_images_path = '../data/t10k-images.idx3-ubyte'\n",
    "test_labels_path = '../data/t10k-labels.idx1-ubyte'\n",
    "\n",
    "# 读取训练数据\n",
    "X_train, y_train = loadlocal_mnist(\n",
    "    images_path=train_images_path,\n",
    "    labels_path=train_labels_path)\n",
    "# 调整图像形状\n",
    "X_train = X_train.reshape(-1, 28, 28, 1)\n",
    "\n",
    "# 将训练数据划分为训练集和验证集，固定划分（8:2）\n",
    "X_train, X_val, y_train, y_val = train_test_split(X_train, y_train, test_size=0.2, random_state=42)\n",
    "\n",
    "# 读取测试数据，即测试集\n",
    "X_test, y_test = loadlocal_mnist(\n",
    "    images_path=test_images_path,\n",
    "    labels_path=test_labels_path)\n",
    "# 调整图像形状\n",
    "X_test = X_test.reshape(-1, 28, 28, 1)\n",
    "\n",
    "print('X_train: ', X_train.shape)\n",
    "print('y_train: ', y_train.shape)\n",
    "print('X_val: ', X_val.shape)\n",
    "print('y_val: ', y_val.shape)\n",
    "print('X_test: ', X_test.shape)\n",
    "print('y_test: ', y_test.shape)\n",
    "\n",
    "# 将训练集、验证集、测试集分别包装为Dataloader\n",
    "transform = T.Compose([T.ToTensor(), T.Normalize((0.1307,), (0.3081,))])\n",
    "\n",
    "train_dataset = MnistDataset(X_train, y_train, transform=transform)\n",
    "val_dataset = MnistDataset(X_val, y_val, transform=transform)\n",
    "test_dataset = MnistDataset(X_test, y_test, transform=transform)\n",
    "\n",
    "train_loader = DataLoader(train_dataset, batch_size=64, shuffle=True)\n",
    "val_loader = DataLoader(val_dataset, batch_size=64, shuffle=False)\n",
    "test_loader = DataLoader(test_dataset, batch_size=64, shuffle=False)"
   ],
   "metadata": {
    "collapsed": false,
    "ExecuteTime": {
     "end_time": "2023-12-05T10:36:04.001693900Z",
     "start_time": "2023-12-05T10:36:03.881910300Z"
    }
   },
   "id": "8cbe52c5c24a5eab"
  },
  {
   "cell_type": "markdown",
   "source": [
    "# 寻找最佳超参数组合"
   ],
   "metadata": {
    "collapsed": false
   },
   "id": "147feec8d4d20b87"
  },
  {
   "cell_type": "code",
   "execution_count": 4,
   "outputs": [],
   "source": [
    "# 检查模型准确率（使用验证集或测试集）\n",
    "def check_accuracy(loader, model):\n",
    "    num_correct = 0\n",
    "    num_samples = 0\n",
    "    model.eval()\n",
    "    with torch.no_grad():\n",
    "        for x, y in loader:\n",
    "            x = x.to(device=device, dtype=torch.float32)\n",
    "            y = y.to(device=device, dtype=torch.long)\n",
    "            scores = model(x)\n",
    "            _, preds = scores.max(1)\n",
    "            num_correct += (preds == y).sum()\n",
    "            num_samples += preds.size(0)\n",
    "        acc = float(num_correct) / num_samples\n",
    "        return acc"
   ],
   "metadata": {
    "collapsed": false,
    "ExecuteTime": {
     "end_time": "2023-12-05T10:36:04.046703500Z",
     "start_time": "2023-12-05T10:36:04.003694300Z"
    }
   },
   "id": "cc0b424a281739fc"
  },
  {
   "cell_type": "code",
   "execution_count": 5,
   "outputs": [],
   "source": [
    "# 训练分类器\n",
    "def train_classifier(model, optimizer, epochs):\n",
    "    model = model.to(device=device)\n",
    "    for e in range(epochs):\n",
    "        for t, (x, y) in enumerate(train_loader):\n",
    "            model.train()\n",
    "            x = x.to(device=device, dtype=torch.float32)\n",
    "            y = y.to(device=device, dtype=torch.long)\n",
    "\n",
    "            scores = model(x)\n",
    "            loss = F.cross_entropy(scores, y)\n",
    "\n",
    "            # 将待更新参数的梯度置为零\n",
    "            optimizer.zero_grad()\n",
    "\n",
    "            # 反向传播，计算梯度\n",
    "            loss.backward()\n",
    "\n",
    "            # 利用梯度更新参数\n",
    "            optimizer.step()\n",
    "            \n",
    "    acc = check_accuracy(val_loader, model)\n",
    "    return acc"
   ],
   "metadata": {
    "collapsed": false,
    "ExecuteTime": {
     "end_time": "2023-12-05T10:36:04.054705600Z",
     "start_time": "2023-12-05T10:36:04.020700200Z"
    }
   },
   "id": "68771d3d5d1fa84a"
  },
  {
   "cell_type": "code",
   "execution_count": 6,
   "outputs": [],
   "source": [
    "class LeNet(nn.Module):\n",
    "    def __init__(self, num_classes=10, dropout=0.0):\n",
    "        super(LeNet, self).__init__()\n",
    "        self.conv1 = nn.Conv2d(1, 6, kernel_size=5, stride=1, padding=2)\n",
    "        self.relu1 = nn.ReLU()\n",
    "        self.maxpool1 = nn.MaxPool2d(kernel_size=2, stride=2)\n",
    "\n",
    "        self.conv2 = nn.Conv2d(6, 16, kernel_size=5, stride=1, padding=0)\n",
    "        self.relu2 = nn.ReLU()\n",
    "        self.maxpool2 = nn.MaxPool2d(kernel_size=2, stride=2)\n",
    "\n",
    "        self.conv3 = nn.Conv2d(16, 120, kernel_size=5, stride=1, padding=0)\n",
    "        self.relu3 = nn.ReLU()\n",
    "\n",
    "        self.flatten = nn.Flatten()\n",
    "        self.dropout1 = nn.Dropout(p=dropout)\n",
    "        self.fc1 = nn.Linear(120, 84)\n",
    "        self.relu4 = nn.ReLU()\n",
    "        self.dropout2 = nn.Dropout(p=dropout)\n",
    "        self.fc2 = nn.Linear(84, num_classes)\n",
    "\n",
    "    def forward(self, x):\n",
    "        x = self.conv1(x)\n",
    "        x = self.relu1(x)\n",
    "        x = self.maxpool1(x)\n",
    "\n",
    "        x = self.conv2(x)\n",
    "        x = self.relu2(x)\n",
    "        x = self.maxpool2(x)\n",
    "\n",
    "        x = self.conv3(x)\n",
    "        x = self.relu3(x)\n",
    "\n",
    "        x = self.flatten(x)\n",
    "        x = self.dropout1(x)  # 添加Dropout层\n",
    "        x = self.fc1(x)\n",
    "        x = self.relu4(x)\n",
    "        x = self.dropout2(x)  # 添加Dropout层\n",
    "        x = self.fc2(x)\n",
    "        return x"
   ],
   "metadata": {
    "collapsed": false,
    "ExecuteTime": {
     "end_time": "2023-12-05T10:36:04.055706300Z",
     "start_time": "2023-12-05T10:36:04.032700600Z"
    }
   },
   "id": "74ad3bd6179087c3"
  },
  {
   "cell_type": "code",
   "execution_count": 19,
   "outputs": [
    {
     "name": "stdout",
     "output_type": "stream",
     "text": [
      "optimizer SGD lr 4.000000e-03 momentum 9.000000e-01 weight_decay 1.000000e-04 val accuracy: 0.988583\n",
      "optimizer SGD lr 4.000000e-03 momentum 9.500000e-01 weight_decay 1.000000e-04 val accuracy: 0.988833\n",
      "optimizer SGD lr 6.000000e-03 momentum 9.000000e-01 weight_decay 1.000000e-04 val accuracy: 0.987750\n",
      "optimizer SGD lr 6.000000e-03 momentum 9.500000e-01 weight_decay 1.000000e-04 val accuracy: 0.989833\n",
      "optimizer SGD lr 8.000000e-03 momentum 9.000000e-01 weight_decay 1.000000e-04 val accuracy: 0.986667\n",
      "optimizer SGD lr 8.000000e-03 momentum 9.500000e-01 weight_decay 1.000000e-04 val accuracy: 0.988667\n",
      "optimizer SGD lr 9.500000e-03 momentum 9.000000e-01 weight_decay 1.000000e-04 val accuracy: 0.988000\n",
      "optimizer SGD lr 9.500000e-03 momentum 9.500000e-01 weight_decay 1.000000e-04 val accuracy: 0.987417\n",
      "optimizer SGD lr 1.500000e-02 momentum 9.000000e-01 weight_decay 1.000000e-04 val accuracy: 0.985167\n",
      "optimizer SGD lr 1.500000e-02 momentum 9.500000e-01 weight_decay 1.000000e-04 val accuracy: 0.990000\n",
      "best validation accuracy achieved:\n",
      "optimizer SGD lr 1.500000e-02 momentum 9.500000e-01 weight_decay 1.000000e-04 val accuracy: 0.990000\n"
     ]
    }
   ],
   "source": [
    "# SGD as optimizer\n",
    "best_model = None\n",
    "best_val_acc = -1\n",
    "best_lr = -1\n",
    "best_momentum = -1\n",
    "\n",
    "opt = \"SGD\"\n",
    "learning_rates = [4e-3, 6e-3, 8e-3, 9.5e-3, 1.5e-2]\n",
    "momentums = [0.9, 0.95]\n",
    "weight_decay = 0.0001\n",
    "dropout = 0.0\n",
    "\n",
    "for lr in learning_rates:\n",
    "    for momentum in momentums:\n",
    "        model = LeNet(dropout=dropout)\n",
    "        optimizer = optim.SGD(model.parameters(), lr=lr, momentum=momentum, nesterov=True, weight_decay=weight_decay)\n",
    "        val_acc = train_classifier(model, optimizer, epochs=10)\n",
    "        if val_acc > best_val_acc:\n",
    "            best_model = model\n",
    "            best_val_acc = val_acc\n",
    "            best_lr = lr\n",
    "            best_momentum = momentum\n",
    "        print('optimizer %s lr %e momentum %e weight_decay %e val accuracy: %f' % (opt, lr, momentum, weight_decay, val_acc))\n",
    "            \n",
    "print('best validation accuracy achieved:')\n",
    "print('optimizer %s lr %e momentum %e weight_decay %e val accuracy: %f' % (opt, best_lr, best_momentum, weight_decay, best_val_acc))\n",
    "# optimizer SGD lr 1.000000e-02 momentum 9.000000e-01 weight_decay 1.000000e-04 val accuracy: 0.990083 test accuracy: 0.989800"
   ],
   "metadata": {
    "collapsed": false,
    "ExecuteTime": {
     "end_time": "2023-12-03T05:51:08.012210300Z",
     "start_time": "2023-12-03T05:43:12.185573Z"
    }
   },
   "id": "initial_id"
  },
  {
   "cell_type": "code",
   "execution_count": 21,
   "outputs": [
    {
     "name": "stdout",
     "output_type": "stream",
     "text": [
      "optimizer Adam lr 4.000000e-04 weight_decay 1.000000e-04 val accuracy: 0.988417\n",
      "optimizer Adam lr 6.000000e-04 weight_decay 1.000000e-04 val accuracy: 0.988250\n",
      "optimizer Adam lr 8.000000e-04 weight_decay 1.000000e-04 val accuracy: 0.985417\n",
      "optimizer Adam lr 9.500000e-04 weight_decay 1.000000e-04 val accuracy: 0.988667\n",
      "optimizer Adam lr 1.500000e-03 weight_decay 1.000000e-04 val accuracy: 0.989667\n",
      "optimizer Adam lr 3.000000e-03 weight_decay 1.000000e-04 val accuracy: 0.985667\n",
      "best validation accuracy achieved:\n",
      "optimizer Adam lr 1.500000e-03 weight_decay 1.000000e-04 val accuracy: 0.989667\n"
     ]
    }
   ],
   "source": [
    "# Adam as optimizer\n",
    "best_model = None\n",
    "best_val_acc = -1\n",
    "best_lr = -1\n",
    "\n",
    "opt = \"Adam\"\n",
    "learning_rates = [4e-4, 6e-4, 8e-4, 9.5e-4, 1.5e-3, 3e-3]\n",
    "weight_decay = 0.0001\n",
    "dropout = 0.0\n",
    "\n",
    "for lr in learning_rates:\n",
    "    model = LeNet(dropout=dropout)\n",
    "    optimizer = optim.Adam(model.parameters(), lr=lr, weight_decay=weight_decay)\n",
    "    val_acc = train_classifier(model, optimizer, epochs=10)\n",
    "    if val_acc > best_val_acc:\n",
    "        best_model = model\n",
    "        best_val_acc = val_acc\n",
    "        best_lr = lr\n",
    "    print('optimizer %s lr %e weight_decay %e val accuracy: %f' % (opt, lr, weight_decay, val_acc))\n",
    "            \n",
    "print('best validation accuracy achieved:')\n",
    "print('optimizer %s lr %e weight_decay %e val accuracy: %f' % (opt, best_lr, weight_decay, best_val_acc))\n",
    "# optimizer Adam lr 1.500000e-03 weight_decay 1.000000e-04 val accuracy: 0.989667 test accuracy: 0.990900"
   ],
   "metadata": {
    "collapsed": false,
    "ExecuteTime": {
     "end_time": "2023-12-03T05:57:25.511844600Z",
     "start_time": "2023-12-03T05:52:29.282578Z"
    }
   },
   "id": "f23195cd58689cc4"
  },
  {
   "cell_type": "code",
   "execution_count": 23,
   "outputs": [
    {
     "name": "stdout",
     "output_type": "stream",
     "text": [
      "optimizer RMSprop lr 6.000000e-04 lr_decay 9.000000e-01 weight_decay 1.000000e-04 val accuracy: 0.989083\n",
      "optimizer RMSprop lr 6.000000e-04 lr_decay 9.500000e-01 weight_decay 1.000000e-04 val accuracy: 0.985583\n",
      "optimizer RMSprop lr 8.000000e-04 lr_decay 9.000000e-01 weight_decay 1.000000e-04 val accuracy: 0.984333\n",
      "optimizer RMSprop lr 8.000000e-04 lr_decay 9.500000e-01 weight_decay 1.000000e-04 val accuracy: 0.988417\n",
      "optimizer RMSprop lr 9.500000e-04 lr_decay 9.000000e-01 weight_decay 1.000000e-04 val accuracy: 0.987833\n",
      "optimizer RMSprop lr 9.500000e-04 lr_decay 9.500000e-01 weight_decay 1.000000e-04 val accuracy: 0.987750\n",
      "optimizer RMSprop lr 1.500000e-03 lr_decay 9.000000e-01 weight_decay 1.000000e-04 val accuracy: 0.986333\n",
      "optimizer RMSprop lr 1.500000e-03 lr_decay 9.500000e-01 weight_decay 1.000000e-04 val accuracy: 0.988667\n",
      "optimizer RMSprop lr 3.000000e-03 lr_decay 9.000000e-01 weight_decay 1.000000e-04 val accuracy: 0.981833\n",
      "optimizer RMSprop lr 3.000000e-03 lr_decay 9.500000e-01 weight_decay 1.000000e-04 val accuracy: 0.986417\n",
      "best validation accuracy achieved:\n",
      "optimizer RMSprop lr 6.000000e-04 lr_decay 9.000000e-01 weight_decay 1.000000e-04 val accuracy: 0.989083\n"
     ]
    }
   ],
   "source": [
    "# RMSprop as optimizer\n",
    "best_model = None\n",
    "best_val_acc = -1\n",
    "best_lr = -1\n",
    "best_lr_decay = -1\n",
    "\n",
    "opt = \"RMSprop\"\n",
    "learning_rates = [6e-4, 8e-4, 9.5e-4, 1.5e-3, 3e-3]\n",
    "lr_decays = [0.9, 0.95]\n",
    "weight_decay = 0.0001\n",
    "dropout = 0.0\n",
    "\n",
    "for lr in learning_rates:\n",
    "    for lr_decay in lr_decays:\n",
    "        model = LeNet(dropout=dropout)\n",
    "        optimizer = optim.RMSprop(model.parameters(), lr=lr, alpha=lr_decay, weight_decay=weight_decay)\n",
    "        val_acc = train_classifier(model, optimizer, epochs=10)\n",
    "        if val_acc > best_val_acc:\n",
    "            best_model = model\n",
    "            best_val_acc = val_acc\n",
    "            best_lr = lr\n",
    "            best_lr_decay = lr_decay\n",
    "        print('optimizer %s lr %e lr_decay %e weight_decay %e val accuracy: %f' % (opt, lr, lr_decay, weight_decay, val_acc))\n",
    "            \n",
    "print('best validation accuracy achieved:')\n",
    "print('optimizer %s lr %e lr_decay %e weight_decay %e val accuracy: %f' % (opt, best_lr, best_lr_decay, weight_decay, best_val_acc))\n",
    "# optimizer RMSprop lr 1.000000e-03 lr_decay 9.500000e-01 weight_decay 1.000000e-04 val accuracy: 0.989250 test accuracy: 0.990200"
   ],
   "metadata": {
    "collapsed": false,
    "ExecuteTime": {
     "end_time": "2023-12-03T06:14:34.465315700Z",
     "start_time": "2023-12-03T06:06:35.645669500Z"
    }
   },
   "id": "37c9681d7a5a5629"
  },
  {
   "cell_type": "code",
   "execution_count": 24,
   "outputs": [
    {
     "name": "stdout",
     "output_type": "stream",
     "text": [
      "test accuracy: 0.990200\n"
     ]
    }
   ],
   "source": [
    "test_acc = check_accuracy(test_loader, best_model)\n",
    "print('test accuracy: %f' % test_acc)"
   ],
   "metadata": {
    "collapsed": false,
    "ExecuteTime": {
     "end_time": "2023-12-03T06:19:57.873034800Z",
     "start_time": "2023-12-03T06:19:56.637610100Z"
    }
   },
   "id": "56de3285d0fea6b3"
  },
  {
   "cell_type": "markdown",
   "source": [
    "# 训练最佳模型"
   ],
   "metadata": {
    "collapsed": false
   },
   "id": "e4efa202e330878"
  },
  {
   "cell_type": "code",
   "execution_count": 7,
   "outputs": [],
   "source": [
    "def check_accuracy_alt(loader, model):\n",
    "    num_correct = 0\n",
    "    num_samples = 0\n",
    "    model.eval()\n",
    "    with torch.no_grad():\n",
    "        for x, y in loader:\n",
    "            x = x.to(device=device, dtype=torch.float32)\n",
    "            y = y.to(device=device, dtype=torch.long)\n",
    "            scores = model(x)\n",
    "            _, preds = scores.max(1)\n",
    "            num_correct += (preds == y).sum()\n",
    "            num_samples += preds.size(0)\n",
    "        acc = float(num_correct) / num_samples\n",
    "        res = 'Got %d / %d correct (%.2f)' % (num_correct, num_samples, 100 * acc)\n",
    "        return res"
   ],
   "metadata": {
    "collapsed": false,
    "ExecuteTime": {
     "end_time": "2023-12-05T10:36:30.165861700Z",
     "start_time": "2023-12-05T10:36:30.140856900Z"
    }
   },
   "id": "bb2de6639310a319"
  },
  {
   "cell_type": "code",
   "execution_count": 8,
   "outputs": [],
   "source": [
    "def evaluate_classifier_alt(model):\n",
    "    classifier_type = \"LeNet\"\n",
    "    optimizer_type = \"Adam\"\n",
    "\n",
    "    path = '../evaluation/LeNet_evaluation.txt'\n",
    "    with open(path, 'w') as f:\n",
    "        # 使用验证集\n",
    "        f.write(f\"{classifier_type} with {optimizer_type} on validation set:\\n\")\n",
    "        val_res = check_accuracy_alt(val_loader, model)\n",
    "        f.write(val_res + '\\n\\n')\n",
    "        # 使用测试集\n",
    "        f.write(f\"{classifier_type} with {optimizer_type} on test set:\\n\")\n",
    "        test_res = check_accuracy_alt(test_loader, model)\n",
    "        f.write(test_res)"
   ],
   "metadata": {
    "collapsed": false,
    "ExecuteTime": {
     "end_time": "2023-12-05T10:36:33.592709800Z",
     "start_time": "2023-12-05T10:36:33.581707100Z"
    }
   },
   "id": "c42c69ce7db4ee63"
  },
  {
   "cell_type": "code",
   "execution_count": 9,
   "outputs": [],
   "source": [
    "def train_classifier_alt(model, optimizer, epochs):\n",
    "    loss_values = []\n",
    "    train_acc_values = []\n",
    "    val_acc_values = []\n",
    "    \n",
    "    model = model.to(device=device)\n",
    "    for e in range(epochs):\n",
    "        for t, (x, y) in enumerate(train_loader):\n",
    "            model.train()\n",
    "            x = x.to(device=device, dtype=torch.float32)\n",
    "            y = y.to(device=device, dtype=torch.long)\n",
    "\n",
    "            scores = model(x)\n",
    "            loss = F.cross_entropy(scores, y)\n",
    "\n",
    "            # 将待更新参数的梯度置为零\n",
    "            optimizer.zero_grad()\n",
    "\n",
    "            # 反向传播，计算梯度\n",
    "            loss.backward()\n",
    "\n",
    "            # 利用梯度更新参数\n",
    "            optimizer.step()\n",
    "            \n",
    "        loss_values.append(loss)\n",
    "        print(\"Epoch %d/%d:\" % (e + 1, epochs))\n",
    "        train_acc = check_accuracy(train_loader, model)\n",
    "        train_acc_values.append(train_acc)\n",
    "        val_acc = check_accuracy(val_loader, model)\n",
    "        val_acc_values.append(val_acc)\n",
    "        print(\"Train Accuracy: %f Validation Accuracy: %f\" % (train_acc, val_acc))\n",
    "        \n",
    "    evaluate_classifier_alt(model)\n",
    "        \n",
    "    path = '../models/LeNet_classifier.pth'\n",
    "    torch.save(model.state_dict(), path)\n",
    "    \n",
    "    return loss_values, train_acc_values, val_acc_values"
   ],
   "metadata": {
    "collapsed": false,
    "ExecuteTime": {
     "end_time": "2023-12-05T10:36:34.412806300Z",
     "start_time": "2023-12-05T10:36:34.384802700Z"
    }
   },
   "id": "8c421c25bd749b68"
  },
  {
   "cell_type": "code",
   "execution_count": 10,
   "outputs": [
    {
     "name": "stdout",
     "output_type": "stream",
     "text": [
      "Epoch 1/10:\n",
      "Train Accuracy: 0.977354 Validation Accuracy: 0.975917\n",
      "Epoch 2/10:\n",
      "Train Accuracy: 0.984938 Validation Accuracy: 0.980333\n",
      "Epoch 3/10:\n",
      "Train Accuracy: 0.988688 Validation Accuracy: 0.985083\n",
      "Epoch 4/10:\n",
      "Train Accuracy: 0.990125 Validation Accuracy: 0.985417\n",
      "Epoch 5/10:\n",
      "Train Accuracy: 0.990917 Validation Accuracy: 0.985750\n",
      "Epoch 6/10:\n",
      "Train Accuracy: 0.992833 Validation Accuracy: 0.986833\n",
      "Epoch 7/10:\n",
      "Train Accuracy: 0.994896 Validation Accuracy: 0.985500\n",
      "Epoch 8/10:\n",
      "Train Accuracy: 0.993208 Validation Accuracy: 0.987250\n",
      "Epoch 9/10:\n",
      "Train Accuracy: 0.993146 Validation Accuracy: 0.986583\n",
      "Epoch 10/10:\n",
      "Train Accuracy: 0.995958 Validation Accuracy: 0.988083\n"
     ]
    }
   ],
   "source": [
    "lr = 1.5e-3\n",
    "weight_decay = 0.0001\n",
    "dropout = 0.0\n",
    "epochs = 10\n",
    "\n",
    "model = LeNet(dropout=dropout)\n",
    "optimizer = optim.Adam(model.parameters(), lr=lr, weight_decay=weight_decay)\n",
    "loss_values, train_acc_values, val_acc_values = train_classifier_alt(model, optimizer, epochs=epochs)"
   ],
   "metadata": {
    "collapsed": false,
    "ExecuteTime": {
     "end_time": "2023-12-05T10:38:32.618569800Z",
     "start_time": "2023-12-05T10:36:40.655463Z"
    }
   },
   "id": "13e947f0b8f909eb"
  },
  {
   "cell_type": "code",
   "execution_count": 11,
   "outputs": [
    {
     "data": {
      "text/plain": "<Figure size 1200x500 with 2 Axes>",
      "image/png": "[encoded data removed]"
     },
     "metadata": {},
     "output_type": "display_data"
    }
   ],
   "source": [
    "import matplotlib.pyplot as plt\n",
    "\n",
    "fig_path = \"../graph/LeNet loss and acc.png\"\n",
    "\n",
    "fig, axs = plt.subplots(1, 2, figsize=(12, 5))\n",
    "epochs = [i + 1 for i in range(epochs)]\n",
    "loss_values = [tensor.cpu().detach().numpy() for tensor in loss_values]\n",
    "train_acc_values = np.array(train_acc_values) * 100\n",
    "val_acc_values = np.array(val_acc_values) * 100\n",
    "\n",
    "# 损失\n",
    "axs[0].plot(epochs, loss_values, marker='o')\n",
    "\n",
    "axs[0].set_xlabel('Epoch')\n",
    "axs[0].set_ylabel('Train Loss')\n",
    "\n",
    "# 准确率\n",
    "axs[1].plot(epochs, train_acc_values, label='train', marker='o')\n",
    "axs[1].plot(epochs, val_acc_values, label='val', marker='d')\n",
    "\n",
    "axs[1].set_xlabel('Epoch')\n",
    "axs[1].set_ylabel('Accuracy(%)')\n",
    "axs[1].legend()\n",
    "\n",
    "plt.tight_layout()\n",
    "plt.savefig(fig_path)"
   ],
   "metadata": {
    "collapsed": false,
    "ExecuteTime": {
     "end_time": "2023-12-05T10:39:13.780726600Z",
     "start_time": "2023-12-05T10:39:13.047929400Z"
    }
   },
   "id": "e146249381b81fcd"
  },
  {
   "cell_type": "code",
   "execution_count": 12,
   "outputs": [],
   "source": [
    "def train_classifier_alt2(model, optimizer, epochs):\n",
    "    model = model.to(device=device)\n",
    "    for e in range(epochs):\n",
    "        for t, (x, y) in enumerate(train_loader):\n",
    "            model.train()\n",
    "            x = x.to(device=device, dtype=torch.float32)\n",
    "            y = y.to(device=device, dtype=torch.long)\n",
    "\n",
    "            scores = model(x)\n",
    "            loss = F.cross_entropy(scores, y)\n",
    "\n",
    "            # 将待更新参数的梯度置为零\n",
    "            optimizer.zero_grad()\n",
    "\n",
    "            # 反向传播，计算梯度\n",
    "            loss.backward()\n",
    "\n",
    "            # 利用梯度更新参数\n",
    "            optimizer.step()\n",
    "            \n",
    "    val_acc = check_accuracy(val_loader, model)\n",
    "    test_acc = check_accuracy(test_loader, model)\n",
    "    \n",
    "    return val_acc, test_acc"
   ],
   "metadata": {
    "collapsed": false,
    "ExecuteTime": {
     "end_time": "2023-12-05T10:39:53.684851100Z",
     "start_time": "2023-12-05T10:39:53.664823800Z"
    }
   },
   "id": "8798773f39392f73"
  },
  {
   "cell_type": "code",
   "execution_count": 13,
   "outputs": [
    {
     "name": "stdout",
     "output_type": "stream",
     "text": [
      "Validate:  [98.84166666666667, 98.66666666666667, 98.95, 98.675, 98.75833333333334, 98.83333333333333, 98.98333333333333, 98.76666666666667, 98.16666666666667, 98.25]\n",
      "Test:  [98.75, 98.9, 98.97, 98.71, 98.81, 99.0, 99.02, 98.92999999999999, 98.47, 98.48]\n"
     ]
    }
   ],
   "source": [
    "lr = 1.5e-3\n",
    "weight_decay = 0.0001\n",
    "dropout = 0.0\n",
    "epochs = 10\n",
    "\n",
    "val_acc_values = []\n",
    "test_acc_values = []\n",
    "\n",
    "for _ in range(10):\n",
    "    model = LeNet(dropout=dropout)\n",
    "    optimizer = optim.Adam(model.parameters(), lr=lr, weight_decay=weight_decay)\n",
    "    val_acc, test_acc = train_classifier_alt2(model, optimizer, epochs=epochs)\n",
    "    val_acc_values.append(val_acc * 100)\n",
    "    test_acc_values.append(test_acc * 100)\n",
    "    \n",
    "print(\"Validate: \", val_acc_values)\n",
    "print(\"Test: \", test_acc_values)"
   ],
   "metadata": {
    "collapsed": false,
    "ExecuteTime": {
     "end_time": "2023-12-05T10:48:13.646093500Z",
     "start_time": "2023-12-05T10:39:54.695269700Z"
    }
   },
   "id": "ec4177b6ee38b7a2"
  }
 ],
 "metadata": {
  "kernelspec": {
   "display_name": "Python 3",
   "language": "python",
   "name": "python3"
  },
  "language_info": {
   "codemirror_mode": {
    "name": "ipython",
    "version": 2
   },
   "file_extension": ".py",
   "mimetype": "text/x-python",
   "name": "python",
   "nbconvert_exporter": "python",
   "pygments_lexer": "ipython2",
   "version": "2.7.6"
  }
 },
 "nbformat": 4,
 "nbformat_minor": 5
}
