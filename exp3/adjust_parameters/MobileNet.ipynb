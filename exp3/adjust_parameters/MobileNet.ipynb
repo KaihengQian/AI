{
 "cells": [
  {
   "cell_type": "markdown",
   "source": [
    "# 实验准备"
   ],
   "metadata": {
    "collapsed": false
   },
   "id": "3e37bffb1078a364"
  },
  {
   "cell_type": "code",
   "execution_count": 1,
   "outputs": [],
   "source": [
    "import numpy as np\n",
    "from mlxtend.data import loadlocal_mnist\n",
    "from sklearn.model_selection import train_test_split\n",
    "import torch\n",
    "import torch.nn as nn\n",
    "import torch.optim as optim\n",
    "from torch.utils.data import Dataset, DataLoader\n",
    "import torch.nn.functional as F\n",
    "import torchvision.transforms as T"
   ],
   "metadata": {
    "collapsed": false,
    "ExecuteTime": {
     "end_time": "2023-12-05T10:52:45.991041800Z",
     "start_time": "2023-12-05T10:52:43.608111100Z"
    }
   },
   "id": "7aa3dcddc69039df"
  },
  {
   "cell_type": "code",
   "execution_count": 2,
   "outputs": [
    {
     "name": "stdout",
     "output_type": "stream",
     "text": [
      "using device: cuda\n"
     ]
    }
   ],
   "source": [
    "# 如果计算机安装有CUDA，则使用CUDA进行接下来的全部训练，否则使用CPU\n",
    "if torch.cuda.is_available():\n",
    "    device = torch.device('cuda')\n",
    "else:\n",
    "    device = torch.device('cpu')\n",
    "print('using device:', device)"
   ],
   "metadata": {
    "collapsed": false,
    "ExecuteTime": {
     "end_time": "2023-12-05T10:52:46.049043700Z",
     "start_time": "2023-12-05T10:52:45.992042Z"
    }
   },
   "id": "5763bca56d318afd"
  },
  {
   "cell_type": "code",
   "execution_count": 3,
   "outputs": [
    {
     "name": "stdout",
     "output_type": "stream",
     "text": [
      "X_train:  (48000, 28, 28, 1)\n",
      "y_train:  (48000,)\n",
      "X_val:  (12000, 28, 28, 1)\n",
      "y_val:  (12000,)\n",
      "X_test:  (10000, 28, 28, 1)\n",
      "y_test:  (10000,)\n"
     ]
    }
   ],
   "source": [
    "class MnistDataset(Dataset):\n",
    "    def __init__(self, images, labels, transform=None):\n",
    "        self.images = images\n",
    "        self.labels = labels\n",
    "        self.transform = transform\n",
    "\n",
    "    def __len__(self):\n",
    "        return len(self.images)\n",
    "\n",
    "    def __getitem__(self, idx):\n",
    "        label = self.labels[idx]\n",
    "        image = self.images[idx]\n",
    "\n",
    "        if self.transform:\n",
    "            image = self.transform(image)\n",
    "\n",
    "        return image, label\n",
    "\n",
    "\n",
    "# 加载数据集\n",
    "train_images_path = '../data/train-images.idx3-ubyte'\n",
    "train_labels_path = '../data/train-labels.idx1-ubyte'\n",
    "test_images_path = '../data/t10k-images.idx3-ubyte'\n",
    "test_labels_path = '../data/t10k-labels.idx1-ubyte'\n",
    "\n",
    "# 读取训练数据\n",
    "X_train, y_train = loadlocal_mnist(\n",
    "    images_path=train_images_path,\n",
    "    labels_path=train_labels_path)\n",
    "# 调整图像形状\n",
    "X_train = X_train.reshape(-1, 28, 28, 1)\n",
    "\n",
    "# 将训练数据划分为训练集和验证集，固定划分（8:2）\n",
    "X_train, X_val, y_train, y_val = train_test_split(X_train, y_train, test_size=0.2, random_state=42)\n",
    "\n",
    "# 读取测试数据，即测试集\n",
    "X_test, y_test = loadlocal_mnist(\n",
    "    images_path=test_images_path,\n",
    "    labels_path=test_labels_path)\n",
    "# 调整图像形状\n",
    "X_test = X_test.reshape(-1, 28, 28, 1)\n",
    "\n",
    "print('X_train: ', X_train.shape)\n",
    "print('y_train: ', y_train.shape)\n",
    "print('X_val: ', X_val.shape)\n",
    "print('y_val: ', y_val.shape)\n",
    "print('X_test: ', X_test.shape)\n",
    "print('y_test: ', y_test.shape)\n",
    "\n",
    "# 将训练集、验证集、测试集分别包装为Dataloader\n",
    "transform = T.Compose([T.ToTensor(), T.Normalize((0.1307,), (0.3081,))])\n",
    "\n",
    "train_dataset = MnistDataset(X_train, y_train, transform=transform)\n",
    "val_dataset = MnistDataset(X_val, y_val, transform=transform)\n",
    "test_dataset = MnistDataset(X_test, y_test, transform=transform)\n",
    "\n",
    "train_loader = DataLoader(train_dataset, batch_size=64, shuffle=True)\n",
    "val_loader = DataLoader(val_dataset, batch_size=64, shuffle=False)\n",
    "test_loader = DataLoader(test_dataset, batch_size=64, shuffle=False)"
   ],
   "metadata": {
    "collapsed": false,
    "ExecuteTime": {
     "end_time": "2023-12-05T10:52:46.082051400Z",
     "start_time": "2023-12-05T10:52:46.036041Z"
    }
   },
   "id": "8cbe52c5c24a5eab"
  },
  {
   "cell_type": "markdown",
   "source": [
    "# 寻找最佳超参数组合"
   ],
   "metadata": {
    "collapsed": false
   },
   "id": "dd2e205efa9ad2c"
  },
  {
   "cell_type": "code",
   "execution_count": 4,
   "outputs": [],
   "source": [
    "# 检查模型准确率（使用验证集或测试集）\n",
    "def check_accuracy(loader, model):\n",
    "    num_correct = 0\n",
    "    num_samples = 0\n",
    "    model.eval()\n",
    "    with torch.no_grad():\n",
    "        for x, y in loader:\n",
    "            x = x.to(device=device, dtype=torch.float32)\n",
    "            y = y.to(device=device, dtype=torch.long)\n",
    "            scores = model(x)\n",
    "            _, preds = scores.max(1)\n",
    "            num_correct += (preds == y).sum()\n",
    "            num_samples += preds.size(0)\n",
    "        acc = float(num_correct) / num_samples\n",
    "        return acc"
   ],
   "metadata": {
    "collapsed": false,
    "ExecuteTime": {
     "end_time": "2023-12-05T10:52:46.096852900Z",
     "start_time": "2023-12-05T10:52:46.082051400Z"
    }
   },
   "id": "cc0b424a281739fc"
  },
  {
   "cell_type": "code",
   "execution_count": 5,
   "outputs": [],
   "source": [
    "# 训练分类器\n",
    "def train_classifier(model, optimizer, epochs):\n",
    "    model = model.to(device=device)\n",
    "    for e in range(epochs):\n",
    "        for t, (x, y) in enumerate(train_loader):\n",
    "            model.train()\n",
    "            x = x.to(device=device, dtype=torch.float32)\n",
    "            y = y.to(device=device, dtype=torch.long)\n",
    "\n",
    "            scores = model(x)\n",
    "            loss = F.cross_entropy(scores, y)\n",
    "\n",
    "            # 将待更新参数的梯度置为零\n",
    "            optimizer.zero_grad()\n",
    "\n",
    "            # 反向传播，计算梯度\n",
    "            loss.backward()\n",
    "\n",
    "            # 利用梯度更新参数\n",
    "            optimizer.step()\n",
    "            \n",
    "    acc = check_accuracy(val_loader, model)\n",
    "    return acc"
   ],
   "metadata": {
    "collapsed": false,
    "ExecuteTime": {
     "end_time": "2023-12-05T10:52:46.140862600Z",
     "start_time": "2023-12-05T10:52:46.099853300Z"
    }
   },
   "id": "68771d3d5d1fa84a"
  },
  {
   "cell_type": "code",
   "execution_count": 6,
   "outputs": [],
   "source": [
    "# 定义深度可分离卷积层\n",
    "class DepthwiseSeparableConv(nn.Module):\n",
    "    def __init__(self, in_channels, out_channels, stride, dropout):\n",
    "        super(DepthwiseSeparableConv, self).__init__()\n",
    "        self.depthwise_conv = nn.Conv2d(in_channels, in_channels, kernel_size=3, stride=stride, padding=1,\n",
    "                                        groups=in_channels, bias=False)\n",
    "        self.pointwise_conv = nn.Conv2d(in_channels, out_channels, kernel_size=1, stride=1, padding=0, bias=False)\n",
    "        self.batch_norm = nn.BatchNorm2d(out_channels)\n",
    "        self.relu = nn.ReLU(inplace=True)\n",
    "        self.dropout = nn.Dropout(p=dropout)  # 添加Dropout层\n",
    "\n",
    "    def forward(self, x):\n",
    "        x = self.depthwise_conv(x)\n",
    "        x = self.pointwise_conv(x)\n",
    "        x = self.batch_norm(x)\n",
    "        x = self.relu(x)\n",
    "        return x\n",
    "\n",
    "\n",
    "class MobileNetV1(nn.Module):\n",
    "    def __init__(self, num_classes=10, dropout=0.0):\n",
    "        super(MobileNetV1, self).__init__()\n",
    "        self.model = nn.Sequential(\n",
    "            nn.Conv2d(1, 32, kernel_size=3, stride=2, padding=1, bias=False),\n",
    "            nn.BatchNorm2d(32),\n",
    "            nn.ReLU(inplace=True),\n",
    "\n",
    "            DepthwiseSeparableConv(32, 64, stride=1, dropout=dropout),\n",
    "            DepthwiseSeparableConv(64, 128, stride=2, dropout=dropout),\n",
    "            DepthwiseSeparableConv(128, 128, stride=1, dropout=dropout),\n",
    "            DepthwiseSeparableConv(128, 256, stride=2, dropout=dropout),\n",
    "            DepthwiseSeparableConv(256, 256, stride=1, dropout=dropout),\n",
    "\n",
    "            DepthwiseSeparableConv(256, 512, stride=2, dropout=dropout),\n",
    "            DepthwiseSeparableConv(512, 512, stride=1, dropout=dropout),\n",
    "            DepthwiseSeparableConv(512, 512, stride=1, dropout=dropout),\n",
    "            DepthwiseSeparableConv(512, 512, stride=1, dropout=dropout),\n",
    "            DepthwiseSeparableConv(512, 512, stride=1, dropout=dropout),\n",
    "\n",
    "            DepthwiseSeparableConv(512, 1024, stride=2, dropout=dropout),\n",
    "            DepthwiseSeparableConv(1024, 1024, stride=1, dropout=dropout),\n",
    "\n",
    "            nn.AdaptiveAvgPool2d(1)\n",
    "        )\n",
    "\n",
    "        self.fc = nn.Linear(1024, num_classes)\n",
    "\n",
    "    def forward(self, x):\n",
    "        x = self.model(x)\n",
    "        x = x.view(x.size(0), -1)\n",
    "        x = self.fc(x)\n",
    "        return x"
   ],
   "metadata": {
    "collapsed": false,
    "ExecuteTime": {
     "end_time": "2023-12-05T10:52:46.148864600Z",
     "start_time": "2023-12-05T10:52:46.118858300Z"
    }
   },
   "id": "74ad3bd6179087c3"
  },
  {
   "cell_type": "code",
   "execution_count": 19,
   "outputs": [
    {
     "name": "stdout",
     "output_type": "stream",
     "text": [
      "optimizer SGD lr 6.000000e-03 momentum 9.000000e-01 weight_decay 1.000000e-04 val accuracy: 0.989417\n",
      "optimizer SGD lr 6.000000e-03 momentum 9.500000e-01 weight_decay 1.000000e-04 val accuracy: 0.989667\n",
      "optimizer SGD lr 8.000000e-03 momentum 9.000000e-01 weight_decay 1.000000e-04 val accuracy: 0.991000\n",
      "optimizer SGD lr 8.000000e-03 momentum 9.500000e-01 weight_decay 1.000000e-04 val accuracy: 0.989167\n",
      "optimizer SGD lr 9.500000e-03 momentum 9.000000e-01 weight_decay 1.000000e-04 val accuracy: 0.988250\n",
      "optimizer SGD lr 9.500000e-03 momentum 9.500000e-01 weight_decay 1.000000e-04 val accuracy: 0.987750\n",
      "optimizer SGD lr 1.500000e-02 momentum 9.000000e-01 weight_decay 1.000000e-04 val accuracy: 0.989417\n",
      "optimizer SGD lr 1.500000e-02 momentum 9.500000e-01 weight_decay 1.000000e-04 val accuracy: 0.990167\n",
      "optimizer SGD lr 3.000000e-02 momentum 9.000000e-01 weight_decay 1.000000e-04 val accuracy: 0.990917\n",
      "optimizer SGD lr 3.000000e-02 momentum 9.500000e-01 weight_decay 1.000000e-04 val accuracy: 0.989917\n",
      "best validation accuracy achieved:\n",
      "optimizer SGD lr 8.000000e-03 momentum 9.000000e-01 weight_decay 1.000000e-04 val accuracy: 0.991000\n"
     ]
    }
   ],
   "source": [
    "# SGD as optimizer\n",
    "best_model = None\n",
    "best_val_acc = -1\n",
    "best_lr = -1\n",
    "best_momentum = -1\n",
    "\n",
    "opt = \"SGD\"\n",
    "learning_rates = [6e-3, 8e-3, 9.5e-3, 1.5e-2, 3e-2]\n",
    "momentums = [0.9, 0.95]\n",
    "weight_decay = 0.0001\n",
    "dropout = 0.0\n",
    "\n",
    "for lr in learning_rates:\n",
    "    for momentum in momentums:\n",
    "        model = MobileNetV1(dropout=dropout)\n",
    "        optimizer = optim.SGD(model.parameters(), lr=lr, momentum=momentum, nesterov=True, weight_decay=weight_decay)\n",
    "        val_acc = train_classifier(model, optimizer, epochs=10)\n",
    "        if val_acc > best_val_acc:\n",
    "            best_model = model\n",
    "            best_val_acc = val_acc\n",
    "            best_lr = lr\n",
    "            best_momentum = momentum\n",
    "        print('optimizer %s lr %e momentum %e weight_decay %e val accuracy: %f' % (opt, lr, momentum, weight_decay, val_acc))\n",
    "            \n",
    "print('best validation accuracy achieved:')\n",
    "print('optimizer %s lr %e momentum %e weight_decay %e val accuracy: %f' % (opt, best_lr, best_momentum, weight_decay, best_val_acc))\n",
    "# optimizer SGD lr 8.000000e-03 momentum 9.000000e-01 weight_decay 1.000000e-04 val accuracy: 0.991000 test accuracy: 0.992500"
   ],
   "metadata": {
    "collapsed": false,
    "ExecuteTime": {
     "end_time": "2023-12-03T12:26:10.269870300Z",
     "start_time": "2023-12-03T12:11:45.868403700Z"
    }
   },
   "id": "initial_id"
  },
  {
   "cell_type": "code",
   "execution_count": 21,
   "outputs": [
    {
     "name": "stdout",
     "output_type": "stream",
     "text": [
      "optimizer Adam lr 8.000000e-04 weight_decay 1.000000e-04 val accuracy: 0.987833\n",
      "optimizer Adam lr 3.000000e-03 weight_decay 1.000000e-04 val accuracy: 0.985333\n",
      "optimizer Adam lr 5.000000e-03 weight_decay 1.000000e-04 val accuracy: 0.983750\n",
      "optimizer Adam lr 7.000000e-03 weight_decay 1.000000e-04 val accuracy: 0.983750\n",
      "optimizer Adam lr 8.000000e-03 weight_decay 1.000000e-04 val accuracy: 0.971083\n",
      "optimizer Adam lr 9.000000e-03 weight_decay 1.000000e-04 val accuracy: 0.981417\n",
      "best validation accuracy achieved:\n",
      "optimizer Adam lr 8.000000e-04 weight_decay 1.000000e-04 val accuracy: 0.987833\n"
     ]
    }
   ],
   "source": [
    "# Adam as optimizer\n",
    "best_model = None\n",
    "best_val_acc = -1\n",
    "best_lr = -1\n",
    "\n",
    "opt = \"Adam\"\n",
    "learning_rates = [8e-4, 3e-3, 5e-3, 7e-3, 8e-3, 9e-3]\n",
    "weight_decay = 0.0001\n",
    "dropout = 0.0\n",
    "\n",
    "for lr in learning_rates:\n",
    "    model = MobileNetV1(dropout=dropout)\n",
    "    optimizer = optim.Adam(model.parameters(), lr=lr, weight_decay=weight_decay)\n",
    "    val_acc = train_classifier(model, optimizer, epochs=10)\n",
    "    if val_acc > best_val_acc:\n",
    "        best_model = model\n",
    "        best_val_acc = val_acc\n",
    "        best_lr = lr\n",
    "    print('optimizer %s lr %e weight_decay %e val accuracy: %f' % (opt, lr, weight_decay, val_acc))\n",
    "            \n",
    "print('best validation accuracy achieved:')\n",
    "print('optimizer %s lr %e weight_decay %e val accuracy: %f' % (opt, best_lr, weight_decay, best_val_acc))\n",
    "# optimizer Adam lr 8.000000e-04 weight_decay 1.000000e-04 val accuracy: 0.987833 test accuracy: 0.989400"
   ],
   "metadata": {
    "collapsed": false,
    "ExecuteTime": {
     "end_time": "2023-12-03T12:36:58.759414200Z",
     "start_time": "2023-12-03T12:27:51.657115100Z"
    }
   },
   "id": "f23195cd58689cc4"
  },
  {
   "cell_type": "code",
   "execution_count": 23,
   "outputs": [
    {
     "name": "stdout",
     "output_type": "stream",
     "text": [
      "optimizer RMSprop lr 8.000000e-04 lr_decay 9.000000e-01 weight_decay 1.000000e-04 val accuracy: 0.987250\n",
      "optimizer RMSprop lr 8.000000e-04 lr_decay 9.500000e-01 weight_decay 1.000000e-04 val accuracy: 0.988333\n",
      "optimizer RMSprop lr 1.500000e-03 lr_decay 9.000000e-01 weight_decay 1.000000e-04 val accuracy: 0.989167\n",
      "optimizer RMSprop lr 1.500000e-03 lr_decay 9.500000e-01 weight_decay 1.000000e-04 val accuracy: 0.989667\n",
      "optimizer RMSprop lr 3.000000e-03 lr_decay 9.000000e-01 weight_decay 1.000000e-04 val accuracy: 0.986167\n",
      "optimizer RMSprop lr 3.000000e-03 lr_decay 9.500000e-01 weight_decay 1.000000e-04 val accuracy: 0.985500\n",
      "optimizer RMSprop lr 5.000000e-03 lr_decay 9.000000e-01 weight_decay 1.000000e-04 val accuracy: 0.984750\n",
      "optimizer RMSprop lr 5.000000e-03 lr_decay 9.500000e-01 weight_decay 1.000000e-04 val accuracy: 0.985250\n",
      "best validation accuracy achieved:\n",
      "optimizer RMSprop lr 1.500000e-03 lr_decay 9.500000e-01 weight_decay 1.000000e-04 val accuracy: 0.989667\n"
     ]
    }
   ],
   "source": [
    "# RMSprop as optimizer\n",
    "best_model = None\n",
    "best_val_acc = -1\n",
    "best_lr = -1\n",
    "best_lr_decay = -1\n",
    "\n",
    "opt = \"RMSprop\"\n",
    "learning_rates = [8e-4, 1.5e-3, 3e-3, 5e-3]\n",
    "lr_decays = [0.9, 0.95]\n",
    "weight_decay = 0.0001\n",
    "dropout = 0.0\n",
    "\n",
    "for lr in learning_rates:\n",
    "    for lr_decay in lr_decays:\n",
    "        model = MobileNetV1(dropout=dropout)\n",
    "        optimizer = optim.RMSprop(model.parameters(), lr=lr, alpha=lr_decay, weight_decay=weight_decay)\n",
    "        val_acc = train_classifier(model, optimizer, epochs=10)\n",
    "        if val_acc > best_val_acc:\n",
    "            best_model = model\n",
    "            best_val_acc = val_acc\n",
    "            best_lr = lr\n",
    "            best_lr_decay = lr_decay\n",
    "        print('optimizer %s lr %e lr_decay %e weight_decay %e val accuracy: %f' % (opt, lr, lr_decay, weight_decay, val_acc))\n",
    "            \n",
    "print('best validation accuracy achieved:')\n",
    "print('optimizer %s lr %e lr_decay %e weight_decay %e val accuracy: %f' % (opt, best_lr, best_lr_decay, weight_decay, best_val_acc))\n",
    "# optimizer RMSprop lr 2.000000e-03 lr_decay 9.000000e-01 weight_decay 1.000000e-04 val accuracy: 0.988667 test accuracy: 0.989100"
   ],
   "metadata": {
    "collapsed": false,
    "ExecuteTime": {
     "end_time": "2023-12-03T12:53:08.130051400Z",
     "start_time": "2023-12-03T12:41:25.058930300Z"
    }
   },
   "id": "37c9681d7a5a5629"
  },
  {
   "cell_type": "code",
   "execution_count": 24,
   "outputs": [
    {
     "name": "stdout",
     "output_type": "stream",
     "text": [
      "test accuracy: 0.988200\n"
     ]
    }
   ],
   "source": [
    "test_acc = check_accuracy(test_loader, best_model)\n",
    "print('test accuracy: %f' % test_acc)"
   ],
   "metadata": {
    "collapsed": false,
    "ExecuteTime": {
     "end_time": "2023-12-03T12:54:17.877201900Z",
     "start_time": "2023-12-03T12:54:16.575776100Z"
    }
   },
   "id": "56de3285d0fea6b3"
  },
  {
   "cell_type": "markdown",
   "source": [
    "# 训练最佳模型"
   ],
   "metadata": {
    "collapsed": false
   },
   "id": "83eab9a660993ebb"
  },
  {
   "cell_type": "code",
   "execution_count": 7,
   "outputs": [],
   "source": [
    "def check_accuracy_alt(loader, model):\n",
    "    num_correct = 0\n",
    "    num_samples = 0\n",
    "    model.eval()\n",
    "    with torch.no_grad():\n",
    "        for x, y in loader:\n",
    "            x = x.to(device=device, dtype=torch.float32)\n",
    "            y = y.to(device=device, dtype=torch.long)\n",
    "            scores = model(x)\n",
    "            _, preds = scores.max(1)\n",
    "            num_correct += (preds == y).sum()\n",
    "            num_samples += preds.size(0)\n",
    "        acc = float(num_correct) / num_samples\n",
    "        res = 'Got %d / %d correct (%.2f)' % (num_correct, num_samples, 100 * acc)\n",
    "        return res"
   ],
   "metadata": {
    "collapsed": false,
    "ExecuteTime": {
     "end_time": "2023-12-05T10:52:58.091893500Z",
     "start_time": "2023-12-05T10:52:58.084890400Z"
    }
   },
   "id": "577d16e5595b2d23"
  },
  {
   "cell_type": "code",
   "execution_count": 8,
   "outputs": [],
   "source": [
    "def evaluate_classifier_alt(model):\n",
    "    classifier_type = \"MobileNet\"\n",
    "    optimizer_type = \"SGD\"\n",
    "\n",
    "    path = '../evaluation/MobileNet_evaluation.txt'\n",
    "    with open(path, 'w') as f:\n",
    "        # 使用验证集\n",
    "        f.write(f\"{classifier_type} with {optimizer_type} on validation set:\\n\")\n",
    "        val_res = check_accuracy_alt(val_loader, model)\n",
    "        f.write(val_res + '\\n\\n')\n",
    "        # 使用测试集\n",
    "        f.write(f\"{classifier_type} with {optimizer_type} on test set:\\n\")\n",
    "        test_res = check_accuracy_alt(test_loader, model)\n",
    "        f.write(test_res)"
   ],
   "metadata": {
    "collapsed": false,
    "ExecuteTime": {
     "end_time": "2023-12-05T10:52:59.447239500Z",
     "start_time": "2023-12-05T10:52:59.428212Z"
    }
   },
   "id": "6b19012b5b299244"
  },
  {
   "cell_type": "code",
   "execution_count": 9,
   "outputs": [],
   "source": [
    "def train_classifier_alt(model, optimizer, epochs):\n",
    "    loss_values = []\n",
    "    train_acc_values = []\n",
    "    val_acc_values = []\n",
    "    \n",
    "    model = model.to(device=device)\n",
    "    for e in range(epochs):\n",
    "        for t, (x, y) in enumerate(train_loader):\n",
    "            model.train()\n",
    "            x = x.to(device=device, dtype=torch.float32)\n",
    "            y = y.to(device=device, dtype=torch.long)\n",
    "\n",
    "            scores = model(x)\n",
    "            loss = F.cross_entropy(scores, y)\n",
    "\n",
    "            # 将待更新参数的梯度置为零\n",
    "            optimizer.zero_grad()\n",
    "\n",
    "            # 反向传播，计算梯度\n",
    "            loss.backward()\n",
    "\n",
    "            # 利用梯度更新参数\n",
    "            optimizer.step()\n",
    "            \n",
    "        loss_values.append(loss)\n",
    "        print(\"Epoch %d/%d:\" % (e + 1, epochs))\n",
    "        train_acc = check_accuracy(train_loader, model)\n",
    "        train_acc_values.append(train_acc)\n",
    "        val_acc = check_accuracy(val_loader, model)\n",
    "        val_acc_values.append(val_acc)\n",
    "        print(\"Train Accuracy: %f Validation Accuracy: %f\" % (train_acc, val_acc))\n",
    "        \n",
    "    evaluate_classifier_alt(model)\n",
    "        \n",
    "    path = '../models/MobileNet_classifier.pth'\n",
    "    torch.save(model.state_dict(), path)\n",
    "    \n",
    "    return loss_values, train_acc_values, val_acc_values"
   ],
   "metadata": {
    "collapsed": false,
    "ExecuteTime": {
     "end_time": "2023-12-05T10:53:05.315046700Z",
     "start_time": "2023-12-05T10:53:05.309045300Z"
    }
   },
   "id": "890d9c26db0048d3"
  },
  {
   "cell_type": "code",
   "execution_count": 12,
   "outputs": [
    {
     "name": "stdout",
     "output_type": "stream",
     "text": [
      "Epoch 1/10:\n",
      "Train Accuracy: 0.985604 Validation Accuracy: 0.980083\n",
      "Epoch 2/10:\n",
      "Train Accuracy: 0.985542 Validation Accuracy: 0.979500\n",
      "Epoch 3/10:\n",
      "Train Accuracy: 0.993354 Validation Accuracy: 0.986667\n",
      "Epoch 4/10:\n",
      "Train Accuracy: 0.994979 Validation Accuracy: 0.988750\n",
      "Epoch 5/10:\n",
      "Train Accuracy: 0.996708 Validation Accuracy: 0.986750\n",
      "Epoch 6/10:\n",
      "Train Accuracy: 0.997208 Validation Accuracy: 0.987250\n",
      "Epoch 7/10:\n",
      "Train Accuracy: 0.993021 Validation Accuracy: 0.981917\n",
      "Epoch 8/10:\n",
      "Train Accuracy: 0.998208 Validation Accuracy: 0.988917\n",
      "Epoch 9/10:\n",
      "Train Accuracy: 0.998417 Validation Accuracy: 0.988917\n",
      "Epoch 10/10:\n",
      "Train Accuracy: 0.998687 Validation Accuracy: 0.989250\n"
     ]
    }
   ],
   "source": [
    "lr = 8e-3\n",
    "momentum = 0.9\n",
    "weight_decay = 0.0001\n",
    "dropout = 0.0\n",
    "epochs = 10\n",
    "\n",
    "model = MobileNetV1(dropout=dropout)\n",
    "optimizer = optim.SGD(model.parameters(), lr=lr, momentum=momentum, nesterov=True, weight_decay=weight_decay)\n",
    "loss_values, train_acc_values, val_acc_values = train_classifier_alt(model, optimizer, epochs=epochs)"
   ],
   "metadata": {
    "collapsed": false,
    "ExecuteTime": {
     "end_time": "2023-12-05T10:58:49.372346Z",
     "start_time": "2023-12-05T10:56:20.278516900Z"
    }
   },
   "id": "bfa17ee486d3b642"
  },
  {
   "cell_type": "code",
   "execution_count": 13,
   "outputs": [
    {
     "data": {
      "text/plain": "<Figure size 1200x500 with 2 Axes>",
      "image/png": "[encoded data removed]"
     },
     "metadata": {},
     "output_type": "display_data"
    }
   ],
   "source": [
    "import matplotlib.pyplot as plt\n",
    "\n",
    "fig_path = \"../graph/MobileNet loss and acc.png\"\n",
    "\n",
    "fig, axs = plt.subplots(1, 2, figsize=(12, 5))\n",
    "epochs = [i + 1 for i in range(epochs)]\n",
    "loss_values = [tensor.cpu().detach().numpy() for tensor in loss_values]\n",
    "train_acc_values = np.array(train_acc_values) * 100\n",
    "val_acc_values = np.array(val_acc_values) * 100\n",
    "\n",
    "# 损失\n",
    "axs[0].plot(epochs, loss_values, marker='o')\n",
    "\n",
    "axs[0].set_xlabel('Epoch')\n",
    "axs[0].set_ylabel('Train Loss')\n",
    "\n",
    "# 准确率\n",
    "axs[1].plot(epochs, train_acc_values, label='train', marker='o')\n",
    "axs[1].plot(epochs, val_acc_values, label='val', marker='d')\n",
    "\n",
    "axs[1].set_xlabel('Epoch')\n",
    "axs[1].set_ylabel('Accuracy(%)')\n",
    "axs[1].legend()\n",
    "\n",
    "plt.tight_layout()\n",
    "plt.savefig(fig_path)"
   ],
   "metadata": {
    "collapsed": false,
    "ExecuteTime": {
     "end_time": "2023-12-05T10:58:54.706077300Z",
     "start_time": "2023-12-05T10:58:54.169682600Z"
    }
   },
   "id": "7cb4248174d17e94"
  },
  {
   "cell_type": "code",
   "execution_count": 14,
   "outputs": [],
   "source": [
    "def train_classifier_alt2(model, optimizer, epochs):\n",
    "    model = model.to(device=device)\n",
    "    for e in range(epochs):\n",
    "        for t, (x, y) in enumerate(train_loader):\n",
    "            model.train()\n",
    "            x = x.to(device=device, dtype=torch.float32)\n",
    "            y = y.to(device=device, dtype=torch.long)\n",
    "\n",
    "            scores = model(x)\n",
    "            loss = F.cross_entropy(scores, y)\n",
    "\n",
    "            # 将待更新参数的梯度置为零\n",
    "            optimizer.zero_grad()\n",
    "\n",
    "            # 反向传播，计算梯度\n",
    "            loss.backward()\n",
    "\n",
    "            # 利用梯度更新参数\n",
    "            optimizer.step()\n",
    "            \n",
    "    val_acc = check_accuracy(val_loader, model)\n",
    "    test_acc = check_accuracy(test_loader, model)\n",
    "    \n",
    "    return val_acc, test_acc"
   ],
   "metadata": {
    "collapsed": false,
    "ExecuteTime": {
     "end_time": "2023-12-05T10:59:07.088744600Z",
     "start_time": "2023-12-05T10:59:07.074742900Z"
    }
   },
   "id": "f36a68b1c67bf358"
  },
  {
   "cell_type": "code",
   "execution_count": 15,
   "outputs": [
    {
     "name": "stdout",
     "output_type": "stream",
     "text": [
      "Validate:  [98.97500000000001, 98.875, 98.84166666666667, 98.91666666666666, 98.825, 98.85000000000001, 98.85833333333333, 98.71666666666667, 98.90833333333333, 98.98333333333333]\n",
      "Test:  [98.98, 99.15, 98.79, 98.97, 98.97, 99.09, 98.85000000000001, 98.8, 98.89, 99.14]\n"
     ]
    }
   ],
   "source": [
    "lr = 8e-3\n",
    "momentum = 0.9\n",
    "weight_decay = 0.0001\n",
    "dropout = 0.0\n",
    "epochs = 10\n",
    "\n",
    "val_acc_values = []\n",
    "test_acc_values = []\n",
    "\n",
    "for _ in range(10):\n",
    "    model = MobileNetV1(dropout=dropout)\n",
    "    optimizer = optim.SGD(model.parameters(), lr=lr, momentum=momentum, nesterov=True, weight_decay=weight_decay)\n",
    "    val_acc, test_acc = train_classifier_alt2(model, optimizer, epochs=epochs)\n",
    "    val_acc_values.append(val_acc * 100)\n",
    "    test_acc_values.append(test_acc * 100)\n",
    "    \n",
    "print(\"Validate: \", val_acc_values)\n",
    "print(\"Test: \", test_acc_values)"
   ],
   "metadata": {
    "collapsed": false,
    "ExecuteTime": {
     "end_time": "2023-12-05T11:13:58.338145500Z",
     "start_time": "2023-12-05T10:59:15.996924Z"
    }
   },
   "id": "563093251ec1fdd8"
  }
 ],
 "metadata": {
  "kernelspec": {
   "display_name": "Python 3",
   "language": "python",
   "name": "python3"
  },
  "language_info": {
   "codemirror_mode": {
    "name": "ipython",
    "version": 2
   },
   "file_extension": ".py",
   "mimetype": "text/x-python",
   "name": "python",
   "nbconvert_exporter": "python",
   "pygments_lexer": "ipython2",
   "version": "2.7.6"
  }
 },
 "nbformat": 4,
 "nbformat_minor": 5
}
