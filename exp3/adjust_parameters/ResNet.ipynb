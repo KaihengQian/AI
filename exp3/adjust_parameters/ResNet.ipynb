{
 "cells": [
  {
   "cell_type": "markdown",
   "source": [
    "# 实验准备"
   ],
   "metadata": {
    "collapsed": false
   },
   "id": "c52a6d739c3b1f06"
  },
  {
   "cell_type": "code",
   "execution_count": 1,
   "outputs": [],
   "source": [
    "import numpy as np\n",
    "from mlxtend.data import loadlocal_mnist\n",
    "from sklearn.model_selection import train_test_split\n",
    "import torch\n",
    "import torch.nn as nn\n",
    "import torch.optim as optim\n",
    "from torch.utils.data import Dataset, DataLoader\n",
    "import torch.nn.functional as F\n",
    "import torchvision.transforms as T"
   ],
   "metadata": {
    "collapsed": false,
    "ExecuteTime": {
     "end_time": "2023-12-06T10:37:15.452969500Z",
     "start_time": "2023-12-06T10:37:12.933495100Z"
    }
   },
   "id": "7aa3dcddc69039df"
  },
  {
   "cell_type": "code",
   "execution_count": 2,
   "outputs": [
    {
     "name": "stdout",
     "output_type": "stream",
     "text": [
      "using device: cuda\n"
     ]
    }
   ],
   "source": [
    "# 如果计算机安装有CUDA，则使用CUDA进行接下来的全部训练，否则使用CPU\n",
    "if torch.cuda.is_available():\n",
    "    device = torch.device('cuda')\n",
    "else:\n",
    "    device = torch.device('cpu')\n",
    "print('using device:', device)"
   ],
   "metadata": {
    "collapsed": false,
    "ExecuteTime": {
     "end_time": "2023-12-06T10:37:15.531527600Z",
     "start_time": "2023-12-06T10:37:15.452969500Z"
    }
   },
   "id": "5763bca56d318afd"
  },
  {
   "cell_type": "code",
   "execution_count": 3,
   "outputs": [
    {
     "name": "stdout",
     "output_type": "stream",
     "text": [
      "X_train:  (48000, 28, 28, 1)\n",
      "y_train:  (48000,)\n",
      "X_val:  (12000, 28, 28, 1)\n",
      "y_val:  (12000,)\n",
      "X_test:  (10000, 28, 28, 1)\n",
      "y_test:  (10000,)\n"
     ]
    }
   ],
   "source": [
    "class MnistDataset(Dataset):\n",
    "    def __init__(self, images, labels, transform=None):\n",
    "        self.images = images\n",
    "        self.labels = labels\n",
    "        self.transform = transform\n",
    "\n",
    "    def __len__(self):\n",
    "        return len(self.images)\n",
    "\n",
    "    def __getitem__(self, idx):\n",
    "        label = self.labels[idx]\n",
    "        image = self.images[idx]\n",
    "\n",
    "        if self.transform:\n",
    "            image = self.transform(image)\n",
    "\n",
    "        return image, label\n",
    "\n",
    "\n",
    "# 加载数据集\n",
    "train_images_path = '../data/train-images.idx3-ubyte'\n",
    "train_labels_path = '../data/train-labels.idx1-ubyte'\n",
    "test_images_path = '../data/t10k-images.idx3-ubyte'\n",
    "test_labels_path = '../data/t10k-labels.idx1-ubyte'\n",
    "\n",
    "# 读取训练数据\n",
    "X_train, y_train = loadlocal_mnist(\n",
    "    images_path=train_images_path,\n",
    "    labels_path=train_labels_path)\n",
    "# 调整图像形状\n",
    "X_train = X_train.reshape(-1, 28, 28, 1)\n",
    "\n",
    "# 将训练数据划分为训练集和验证集，固定划分（8:2）\n",
    "X_train, X_val, y_train, y_val = train_test_split(X_train, y_train, test_size=0.2, random_state=42)\n",
    "\n",
    "# 读取测试数据，即测试集\n",
    "X_test, y_test = loadlocal_mnist(\n",
    "    images_path=test_images_path,\n",
    "    labels_path=test_labels_path)\n",
    "# 调整图像形状\n",
    "X_test = X_test.reshape(-1, 28, 28, 1)\n",
    "\n",
    "print('X_train: ', X_train.shape)\n",
    "print('y_train: ', y_train.shape)\n",
    "print('X_val: ', X_val.shape)\n",
    "print('y_val: ', y_val.shape)\n",
    "print('X_test: ', X_test.shape)\n",
    "print('y_test: ', y_test.shape)\n",
    "\n",
    "# 将训练集、验证集、测试集分别包装为Dataloader\n",
    "transform = T.Compose([T.ToTensor(), T.Normalize((0.1307,), (0.3081,))])\n",
    "\n",
    "train_dataset = MnistDataset(X_train, y_train, transform=transform)\n",
    "val_dataset = MnistDataset(X_val, y_val, transform=transform)\n",
    "test_dataset = MnistDataset(X_test, y_test, transform=transform)\n",
    "\n",
    "train_loader = DataLoader(train_dataset, batch_size=64, shuffle=True)\n",
    "val_loader = DataLoader(val_dataset, batch_size=64, shuffle=False)\n",
    "test_loader = DataLoader(test_dataset, batch_size=64, shuffle=False)"
   ],
   "metadata": {
    "collapsed": false,
    "ExecuteTime": {
     "end_time": "2023-12-06T10:37:21.619612800Z",
     "start_time": "2023-12-06T10:37:21.558160100Z"
    }
   },
   "id": "8cbe52c5c24a5eab"
  },
  {
   "cell_type": "markdown",
   "source": [
    "# 寻找最佳超参数组合"
   ],
   "metadata": {
    "collapsed": false
   },
   "id": "8b3b29d4b2890cf1"
  },
  {
   "cell_type": "code",
   "execution_count": 4,
   "outputs": [],
   "source": [
    "# 检查模型准确率（使用验证集或测试集）\n",
    "def check_accuracy(loader, model):\n",
    "    num_correct = 0\n",
    "    num_samples = 0\n",
    "    model.eval()\n",
    "    with torch.no_grad():\n",
    "        for x, y in loader:\n",
    "            x = x.to(device=device, dtype=torch.float32)\n",
    "            y = y.to(device=device, dtype=torch.long)\n",
    "            scores = model(x)\n",
    "            _, preds = scores.max(1)\n",
    "            num_correct += (preds == y).sum()\n",
    "            num_samples += preds.size(0)\n",
    "        acc = float(num_correct) / num_samples\n",
    "        return acc"
   ],
   "metadata": {
    "collapsed": false,
    "ExecuteTime": {
     "end_time": "2023-12-06T10:37:23.641442700Z",
     "start_time": "2023-12-06T10:37:23.625947100Z"
    }
   },
   "id": "cc0b424a281739fc"
  },
  {
   "cell_type": "code",
   "execution_count": 5,
   "outputs": [],
   "source": [
    "# 训练分类器\n",
    "def train_classifier(model, optimizer, epochs):\n",
    "    model = model.to(device=device)\n",
    "    for e in range(epochs):\n",
    "        for t, (x, y) in enumerate(train_loader):\n",
    "            model.train()\n",
    "            x = x.to(device=device, dtype=torch.float32)\n",
    "            y = y.to(device=device, dtype=torch.long)\n",
    "\n",
    "            scores = model(x)\n",
    "            loss = F.cross_entropy(scores, y)\n",
    "\n",
    "            # 将待更新参数的梯度置为零\n",
    "            optimizer.zero_grad()\n",
    "\n",
    "            # 反向传播，计算梯度\n",
    "            loss.backward()\n",
    "\n",
    "            # 利用梯度更新参数\n",
    "            optimizer.step()\n",
    "            \n",
    "    acc = check_accuracy(val_loader, model)\n",
    "    return acc"
   ],
   "metadata": {
    "collapsed": false,
    "ExecuteTime": {
     "end_time": "2023-12-06T10:37:24.853504400Z",
     "start_time": "2023-12-06T10:37:24.837875800Z"
    }
   },
   "id": "68771d3d5d1fa84a"
  },
  {
   "cell_type": "code",
   "execution_count": 6,
   "outputs": [],
   "source": [
    "# 定义基本残差块\n",
    "class BasicBlock(nn.Module):\n",
    "    expansion = 1\n",
    "\n",
    "    def __init__(self, in_channels, out_channels, stride=1):\n",
    "        super(BasicBlock, self).__init__()\n",
    "        self.conv1 = nn.Conv2d(in_channels, out_channels, kernel_size=3, stride=stride, padding=1, bias=False)\n",
    "        self.bn1 = nn.BatchNorm2d(out_channels)\n",
    "        self.conv2 = nn.Conv2d(out_channels, out_channels, kernel_size=3, stride=1, padding=1, bias=False)\n",
    "        self.bn2 = nn.BatchNorm2d(out_channels)\n",
    "\n",
    "        self.shortcut = nn.Sequential()\n",
    "        if stride != 1 or in_channels != self.expansion * out_channels:\n",
    "            self.shortcut = nn.Sequential(\n",
    "                nn.Conv2d(in_channels, self.expansion * out_channels, kernel_size=1, stride=stride, bias=False),\n",
    "                nn.BatchNorm2d(self.expansion * out_channels)\n",
    "            )\n",
    "\n",
    "    def forward(self, x):\n",
    "        out = F.relu(self.bn1(self.conv1(x)))\n",
    "        out = self.bn2(self.conv2(out))\n",
    "        out += self.shortcut(x)\n",
    "        out = F.relu(out)\n",
    "        return out\n",
    "\n",
    "\n",
    "class ResNet(nn.Module):\n",
    "    def __init__(self, block, num_blocks, num_classes=10, dropout=0.0):\n",
    "        super(ResNet, self).__init__()\n",
    "        self.in_channels = 64\n",
    "\n",
    "        self.conv1 = nn.Conv2d(1, 64, kernel_size=3, stride=1, padding=1, bias=False)\n",
    "        self.bn1 = nn.BatchNorm2d(64)\n",
    "        self.layer1 = self._make_layer(block, 64, num_blocks[0], stride=1)\n",
    "        self.layer2 = self._make_layer(block, 128, num_blocks[1], stride=2)\n",
    "        self.layer3 = self._make_layer(block, 256, num_blocks[2], stride=2)\n",
    "        self.layer4 = self._make_layer(block, 512, num_blocks[3], stride=2)\n",
    "        self.avg_pool = nn.AdaptiveAvgPool2d((1, 1))\n",
    "        self.dropout = nn.Dropout(p=dropout)\n",
    "        self.fc = nn.Linear(512 * block.expansion, num_classes)\n",
    "\n",
    "    def _make_layer(self, block, out_channels, num_blocks, stride):\n",
    "        strides = [stride] + [1] * (num_blocks - 1)\n",
    "        layers = []\n",
    "        for stride in strides:\n",
    "            layers.append(block(self.in_channels, out_channels, stride))\n",
    "            self.in_channels = out_channels * block.expansion\n",
    "        return nn.Sequential(*layers)\n",
    "\n",
    "    def forward(self, x):\n",
    "        out = F.relu(self.bn1(self.conv1(x)))\n",
    "        out = self.layer1(out)\n",
    "        out = self.layer2(out)\n",
    "        out = self.layer3(out)\n",
    "        out = self.layer4(out)\n",
    "        out = self.avg_pool(out)\n",
    "        out = out.view(out.size(0), -1)\n",
    "        out = self.dropout(out)  # 添加Dropout层\n",
    "        out = self.fc(out)\n",
    "        return out"
   ],
   "metadata": {
    "collapsed": false,
    "ExecuteTime": {
     "end_time": "2023-12-06T10:37:26.151291900Z",
     "start_time": "2023-12-06T10:37:26.122748Z"
    }
   },
   "id": "74ad3bd6179087c3"
  },
  {
   "cell_type": "code",
   "execution_count": 9,
   "outputs": [
    {
     "name": "stdout",
     "output_type": "stream",
     "text": [
      "optimizer SGD lr 1.000000e-03 momentum 9.000000e-01 weight_decay 1.000000e-04 val accuracy: 0.993167\n",
      "optimizer SGD lr 1.000000e-03 momentum 9.500000e-01 weight_decay 1.000000e-04 val accuracy: 0.993917\n",
      "optimizer SGD lr 1.500000e-03 momentum 9.000000e-01 weight_decay 1.000000e-04 val accuracy: 0.993250\n",
      "optimizer SGD lr 1.500000e-03 momentum 9.500000e-01 weight_decay 1.000000e-04 val accuracy: 0.993833\n",
      "best validation accuracy achieved:\n",
      "optimizer SGD lr 1.000000e-03 momentum 9.500000e-01 weight_decay 1.000000e-04 val accuracy: 0.993917\n"
     ]
    }
   ],
   "source": [
    "# SGD as optimizer\n",
    "best_model = None\n",
    "best_val_acc = -1\n",
    "best_lr = -1\n",
    "best_momentum = -1\n",
    "\n",
    "opt = \"SGD\"\n",
    "learning_rates = [1e-3, 1.5e-3]\n",
    "momentums = [0.9, 0.95]\n",
    "weight_decay = 0.0001\n",
    "dropout = 0.0\n",
    "\n",
    "for lr in learning_rates:\n",
    "    for momentum in momentums:\n",
    "        model = ResNet(BasicBlock, num_blocks=[3, 4, 6, 3], dropout=dropout)\n",
    "        optimizer = optim.SGD(model.parameters(), lr=lr, momentum=momentum, nesterov=True, weight_decay=weight_decay)\n",
    "        val_acc = train_classifier(model, optimizer, epochs=10)\n",
    "        if val_acc > best_val_acc:\n",
    "            best_model = model\n",
    "            best_val_acc = val_acc\n",
    "            best_lr = lr\n",
    "            best_momentum = momentum\n",
    "        print('optimizer %s lr %e momentum %e weight_decay %e val accuracy: %f' % (opt, lr, momentum, weight_decay, val_acc))\n",
    "            \n",
    "print('best validation accuracy achieved:')\n",
    "print('optimizer %s lr %e momentum %e weight_decay %e val accuracy: %f' % (opt, best_lr, best_momentum, weight_decay, best_val_acc))\n",
    "# optimizer SGD lr 1.000000e-03 momentum 9.500000e-01 weight_decay 1.000000e-04 val accuracy: 0.994500 test accuracy: 0.995300"
   ],
   "metadata": {
    "collapsed": false,
    "ExecuteTime": {
     "end_time": "2023-12-03T04:19:01.245282200Z",
     "start_time": "2023-12-03T03:22:40.251390700Z"
    }
   },
   "id": "initial_id"
  },
  {
   "cell_type": "code",
   "execution_count": 9,
   "outputs": [
    {
     "name": "stdout",
     "output_type": "stream",
     "text": [
      "optimizer Adam lr 9.000000e-05 weight_decay 1.000000e-04 val accuracy: 0.991250\n",
      "optimizer Adam lr 1.500000e-04 weight_decay 1.000000e-04 val accuracy: 0.988417\n",
      "optimizer Adam lr 3.000000e-04 weight_decay 1.000000e-04 val accuracy: 0.989167\n",
      "best validation accuracy achieved:\n",
      "optimizer Adam lr 9.000000e-05 weight_decay 1.000000e-04 val accuracy: 0.991250\n"
     ]
    }
   ],
   "source": [
    "# Adam as optimizer\n",
    "best_model = None\n",
    "best_val_acc = -1\n",
    "best_lr = -1\n",
    "\n",
    "opt = \"Adam\"\n",
    "learning_rates = [9e-5, 1.5e-4, 3e-4]\n",
    "weight_decay = 0.0001\n",
    "dropout = 0.0\n",
    "\n",
    "for lr in learning_rates:\n",
    "    model = ResNet(BasicBlock, num_blocks=[3, 4, 6, 3], dropout=dropout)\n",
    "    optimizer = optim.Adam(model.parameters(), lr=lr, weight_decay=weight_decay)\n",
    "    val_acc = train_classifier(model, optimizer, epochs=10)\n",
    "    if val_acc > best_val_acc:\n",
    "        best_model = model\n",
    "        best_val_acc = val_acc\n",
    "        best_lr = lr\n",
    "    print('optimizer %s lr %e weight_decay %e val accuracy: %f' % (opt, lr, weight_decay, val_acc))\n",
    "            \n",
    "print('best validation accuracy achieved:')\n",
    "print('optimizer %s lr %e weight_decay %e val accuracy: %f' % (opt, best_lr, weight_decay, best_val_acc))\n",
    "# optimizer Adam lr 9.000000e-05 weight_decay 1.000000e-04 val accuracy: 0.991250 test accuracy: 0.992000"
   ],
   "metadata": {
    "collapsed": false,
    "ExecuteTime": {
     "end_time": "2023-12-02T13:28:49.139276100Z",
     "start_time": "2023-12-02T12:44:56.998028Z"
    }
   },
   "id": "f23195cd58689cc4"
  },
  {
   "cell_type": "code",
   "execution_count": 7,
   "outputs": [
    {
     "name": "stdout",
     "output_type": "stream",
     "text": [
      "optimizer RMSprop lr 1.000000e-05 lr_decay 9.000000e-01 weight_decay 1.000000e-04 val accuracy: 0.987833\n",
      "optimizer RMSprop lr 1.000000e-05 lr_decay 9.500000e-01 weight_decay 1.000000e-04 val accuracy: 0.989250\n",
      "optimizer RMSprop lr 6.000000e-05 lr_decay 9.000000e-01 weight_decay 1.000000e-04 val accuracy: 0.992583\n",
      "optimizer RMSprop lr 6.000000e-05 lr_decay 9.500000e-01 weight_decay 1.000000e-04 val accuracy: 0.987500\n",
      "optimizer RMSprop lr 5.000000e-03 lr_decay 9.000000e-01 weight_decay 1.000000e-04 val accuracy: 0.936750\n",
      "optimizer RMSprop lr 5.000000e-03 lr_decay 9.500000e-01 weight_decay 1.000000e-04 val accuracy: 0.987750\n",
      "best validation accuracy achieved:\n",
      "optimizer RMSprop lr 6.000000e-05 lr_decay 9.000000e-01 weight_decay 1.000000e-04 val accuracy: 0.992583\n"
     ]
    }
   ],
   "source": [
    "# RMSprop as optimizer\n",
    "best_model = None\n",
    "best_val_acc = -1\n",
    "best_lr = -1\n",
    "best_lr_decay = -1\n",
    "\n",
    "opt = \"RMSprop\"\n",
    "learning_rates = [1e-5, 6e-5, 5e-3]\n",
    "lr_decays = [0.9, 0.95]\n",
    "weight_decay = 0.0001\n",
    "dropout = 0.0\n",
    "\n",
    "for lr in learning_rates:\n",
    "    for lr_decay in lr_decays:\n",
    "        model = ResNet(BasicBlock, num_blocks=[3, 4, 6, 3], dropout=dropout)\n",
    "        optimizer = optim.RMSprop(model.parameters(), lr=lr, alpha=lr_decay, weight_decay=weight_decay)\n",
    "        val_acc = train_classifier(model, optimizer, epochs=10)\n",
    "        if val_acc > best_val_acc:\n",
    "            best_model = model\n",
    "            best_val_acc = val_acc\n",
    "            best_lr = lr\n",
    "            best_lr_decay = lr_decay\n",
    "        print('optimizer %s lr %e lr_decay %e weight_decay %e val accuracy: %f' % (opt, lr, lr_decay, weight_decay, val_acc))\n",
    "            \n",
    "print('best validation accuracy achieved:')\n",
    "print('optimizer %s lr %e lr_decay %e weight_decay %e val accuracy: %f' % (opt, best_lr, best_lr_decay, weight_decay, best_val_acc))\n",
    "# optimizer RMSprop lr 6.000000e-05 lr_decay 9.000000e-01 weight_decay 1.000000e-04 val accuracy: 0.992583 test accuracy: 0.992500"
   ],
   "metadata": {
    "collapsed": false,
    "ExecuteTime": {
     "end_time": "2023-12-03T03:21:00.964192200Z",
     "start_time": "2023-12-03T01:59:29.555991800Z"
    }
   },
   "id": "37c9681d7a5a5629"
  },
  {
   "cell_type": "code",
   "execution_count": 10,
   "outputs": [
    {
     "name": "stdout",
     "output_type": "stream",
     "text": [
      "test accuracy: 0.993600\n"
     ]
    }
   ],
   "source": [
    "test_acc = check_accuracy(test_loader, best_model)\n",
    "print('test accuracy: %f' % test_acc)"
   ],
   "metadata": {
    "collapsed": false,
    "ExecuteTime": {
     "end_time": "2023-12-03T04:19:56.068961900Z",
     "start_time": "2023-12-03T04:19:50.602934300Z"
    }
   },
   "id": "56de3285d0fea6b3"
  },
  {
   "cell_type": "markdown",
   "source": [
    "# 训练最佳模型"
   ],
   "metadata": {
    "collapsed": false
   },
   "id": "e3e614eda4148940"
  },
  {
   "cell_type": "code",
   "execution_count": 7,
   "outputs": [],
   "source": [
    "def check_accuracy_alt(loader, model):\n",
    "    num_correct = 0\n",
    "    num_samples = 0\n",
    "    model.eval()\n",
    "    with torch.no_grad():\n",
    "        for x, y in loader:\n",
    "            x = x.to(device=device, dtype=torch.float32)\n",
    "            y = y.to(device=device, dtype=torch.long)\n",
    "            scores = model(x)\n",
    "            _, preds = scores.max(1)\n",
    "            num_correct += (preds == y).sum()\n",
    "            num_samples += preds.size(0)\n",
    "        acc = float(num_correct) / num_samples\n",
    "        res = 'Got %d / %d correct (%.2f)' % (num_correct, num_samples, 100 * acc)\n",
    "        return res"
   ],
   "metadata": {
    "collapsed": false,
    "ExecuteTime": {
     "end_time": "2023-12-06T02:52:15.578357300Z",
     "start_time": "2023-12-06T02:52:15.562750300Z"
    }
   },
   "id": "10f55b211faa322a"
  },
  {
   "cell_type": "code",
   "execution_count": 8,
   "outputs": [],
   "source": [
    "def evaluate_classifier_alt(model):\n",
    "    classifier_type = \"ResNet\"\n",
    "    optimizer_type = \"SGD\"\n",
    "\n",
    "    path = '../evaluation/ResNet_evaluation.txt'\n",
    "    with open(path, 'w') as f:\n",
    "        # 使用验证集\n",
    "        f.write(f\"{classifier_type} with {optimizer_type} on validation set:\\n\")\n",
    "        val_res = check_accuracy_alt(val_loader, model)\n",
    "        f.write(val_res + '\\n\\n')\n",
    "        # 使用测试集\n",
    "        f.write(f\"{classifier_type} with {optimizer_type} on test set:\\n\")\n",
    "        test_res = check_accuracy_alt(test_loader, model)\n",
    "        f.write(test_res)"
   ],
   "metadata": {
    "collapsed": false,
    "ExecuteTime": {
     "end_time": "2023-12-06T02:52:16.408717300Z",
     "start_time": "2023-12-06T02:52:16.393524900Z"
    }
   },
   "id": "efbc89f318d701d0"
  },
  {
   "cell_type": "code",
   "execution_count": 9,
   "outputs": [],
   "source": [
    "def train_classifier_alt(model, optimizer, epochs):\n",
    "    loss_values = []\n",
    "    train_acc_values = []\n",
    "    val_acc_values = []\n",
    "    \n",
    "    model = model.to(device=device)\n",
    "    for e in range(epochs):\n",
    "        for t, (x, y) in enumerate(train_loader):\n",
    "            model.train()\n",
    "            x = x.to(device=device, dtype=torch.float32)\n",
    "            y = y.to(device=device, dtype=torch.long)\n",
    "\n",
    "            scores = model(x)\n",
    "            loss = F.cross_entropy(scores, y)\n",
    "\n",
    "            # 将待更新参数的梯度置为零\n",
    "            optimizer.zero_grad()\n",
    "\n",
    "            # 反向传播，计算梯度\n",
    "            loss.backward()\n",
    "\n",
    "            # 利用梯度更新参数\n",
    "            optimizer.step()\n",
    "            \n",
    "        loss_values.append(loss)\n",
    "        print(\"Epoch %d/%d:\" % (e + 1, epochs))\n",
    "        train_acc = check_accuracy(train_loader, model)\n",
    "        train_acc_values.append(train_acc)\n",
    "        val_acc = check_accuracy(val_loader, model)\n",
    "        val_acc_values.append(val_acc)\n",
    "        print(\"Train Accuracy: %f Validation Accuracy: %f\" % (train_acc, val_acc))\n",
    "        \n",
    "    evaluate_classifier_alt(model)\n",
    "        \n",
    "    path = '../models/ResNet_classifier.pth'\n",
    "    torch.save(model.state_dict(), path)\n",
    "    \n",
    "    return loss_values, train_acc_values, val_acc_values"
   ],
   "metadata": {
    "collapsed": false,
    "ExecuteTime": {
     "end_time": "2023-12-06T02:52:17.589428500Z",
     "start_time": "2023-12-06T02:52:17.576274500Z"
    }
   },
   "id": "7dcfd763b64fa03e"
  },
  {
   "cell_type": "code",
   "execution_count": 10,
   "outputs": [
    {
     "name": "stdout",
     "output_type": "stream",
     "text": [
      "Epoch 1/10:\n",
      "Train Accuracy: 0.991229 Validation Accuracy: 0.987750\n",
      "Epoch 2/10:\n",
      "Train Accuracy: 0.995563 Validation Accuracy: 0.990250\n",
      "Epoch 3/10:\n",
      "Train Accuracy: 0.998021 Validation Accuracy: 0.991917\n",
      "Epoch 4/10:\n",
      "Train Accuracy: 0.998521 Validation Accuracy: 0.992750\n",
      "Epoch 5/10:\n",
      "Train Accuracy: 0.999062 Validation Accuracy: 0.992167\n",
      "Epoch 6/10:\n",
      "Train Accuracy: 0.999875 Validation Accuracy: 0.993667\n",
      "Epoch 7/10:\n",
      "Train Accuracy: 0.999479 Validation Accuracy: 0.992917\n",
      "Epoch 8/10:\n",
      "Train Accuracy: 1.000000 Validation Accuracy: 0.994583\n",
      "Epoch 9/10:\n",
      "Train Accuracy: 1.000000 Validation Accuracy: 0.995000\n",
      "Epoch 10/10:\n",
      "Train Accuracy: 1.000000 Validation Accuracy: 0.994667\n"
     ]
    }
   ],
   "source": [
    "lr = 1e-3\n",
    "momentum = 0.95\n",
    "weight_decay = 0.0001\n",
    "dropout = 0.0\n",
    "epochs = 10\n",
    "\n",
    "model = ResNet(BasicBlock, num_blocks=[3, 4, 6, 3], dropout=dropout)\n",
    "optimizer = optim.SGD(model.parameters(), lr=lr, momentum=momentum, nesterov=True, weight_decay=weight_decay)\n",
    "loss_values, train_acc_values, val_acc_values = train_classifier_alt(model, optimizer, epochs=epochs)"
   ],
   "metadata": {
    "collapsed": false,
    "ExecuteTime": {
     "end_time": "2023-12-06T03:11:13.175360300Z",
     "start_time": "2023-12-06T02:52:23.401499500Z"
    }
   },
   "id": "61a77bb132f421fd"
  },
  {
   "cell_type": "code",
   "execution_count": 11,
   "outputs": [
    {
     "data": {
      "text/plain": "<Figure size 1200x500 with 2 Axes>",
      "image/png": "[encoded data removed]"
     },
     "metadata": {},
     "output_type": "display_data"
    }
   ],
   "source": [
    "import matplotlib.pyplot as plt\n",
    "\n",
    "fig_path = \"../graph/ResNet loss and acc.png\"\n",
    "\n",
    "fig, axs = plt.subplots(1, 2, figsize=(12, 5))\n",
    "epochs = [i + 1 for i in range(epochs)]\n",
    "loss_values = [tensor.cpu().detach().numpy() for tensor in loss_values]\n",
    "train_acc_values = np.array(train_acc_values) * 100\n",
    "val_acc_values = np.array(val_acc_values) * 100\n",
    "\n",
    "# 损失\n",
    "axs[0].plot(epochs, loss_values, marker='o')\n",
    "\n",
    "axs[0].set_xlabel('Epoch')\n",
    "axs[0].set_ylabel('Train Loss')\n",
    "\n",
    "# 准确率\n",
    "axs[1].plot(epochs, train_acc_values, label='train', marker='o')\n",
    "axs[1].plot(epochs, val_acc_values, label='val', marker='d')\n",
    "\n",
    "axs[1].set_xlabel('Epoch')\n",
    "axs[1].set_ylabel('Accuracy(%)')\n",
    "axs[1].legend()\n",
    "\n",
    "plt.tight_layout()\n",
    "plt.savefig(fig_path)"
   ],
   "metadata": {
    "collapsed": false,
    "ExecuteTime": {
     "end_time": "2023-12-06T03:11:28.386727100Z",
     "start_time": "2023-12-06T03:11:27.459897100Z"
    }
   },
   "id": "13d305e1fdf19d4b"
  },
  {
   "cell_type": "code",
   "execution_count": 7,
   "outputs": [],
   "source": [
    "def train_classifier_alt2(model, optimizer, epochs):\n",
    "    model = model.to(device=device)\n",
    "    for e in range(epochs):\n",
    "        for t, (x, y) in enumerate(train_loader):\n",
    "            model.train()\n",
    "            x = x.to(device=device, dtype=torch.float32)\n",
    "            y = y.to(device=device, dtype=torch.long)\n",
    "\n",
    "            scores = model(x)\n",
    "            loss = F.cross_entropy(scores, y)\n",
    "\n",
    "            # 将待更新参数的梯度置为零\n",
    "            optimizer.zero_grad()\n",
    "\n",
    "            # 反向传播，计算梯度\n",
    "            loss.backward()\n",
    "\n",
    "            # 利用梯度更新参数\n",
    "            optimizer.step()\n",
    "            \n",
    "    val_acc = check_accuracy(val_loader, model)\n",
    "    test_acc = check_accuracy(test_loader, model)\n",
    "    \n",
    "    return val_acc, test_acc"
   ],
   "metadata": {
    "collapsed": false,
    "ExecuteTime": {
     "end_time": "2023-12-06T10:37:44.812921300Z",
     "start_time": "2023-12-06T10:37:44.797293100Z"
    }
   },
   "id": "dadb216dc36b32b2"
  },
  {
   "cell_type": "code",
   "execution_count": 9,
   "outputs": [
    {
     "name": "stdout",
     "output_type": "stream",
     "text": [
      "Validate:  [99.39166666666667, 99.41666666666666, 99.45, 99.44166666666666, 99.38333333333334]\n",
      "Test:  [99.44, 99.46000000000001, 99.49, 99.45, 99.31]\n"
     ]
    }
   ],
   "source": [
    "lr = 1e-3\n",
    "momentum = 0.95\n",
    "weight_decay = 0.0001\n",
    "dropout = 0.0\n",
    "epochs = 10\n",
    "\n",
    "val_acc_values = []\n",
    "test_acc_values = []\n",
    "\n",
    "for _ in range(5):\n",
    "    model = ResNet(BasicBlock, num_blocks=[3, 4, 6, 3], dropout=dropout)\n",
    "    optimizer = optim.SGD(model.parameters(), lr=lr, momentum=momentum, nesterov=True, weight_decay=weight_decay)\n",
    "    val_acc, test_acc = train_classifier_alt2(model, optimizer, epochs=epochs)\n",
    "    val_acc_values.append(val_acc * 100)\n",
    "    test_acc_values.append(test_acc * 100)\n",
    "    \n",
    "print(\"Validate: \", val_acc_values)\n",
    "print(\"Test: \", test_acc_values)"
   ],
   "metadata": {
    "collapsed": false,
    "ExecuteTime": {
     "end_time": "2023-12-06T12:59:26.293448800Z",
     "start_time": "2023-12-06T11:50:40.106510600Z"
    }
   },
   "id": "2c7ad2ad37d76852"
  }
 ],
 "metadata": {
  "kernelspec": {
   "display_name": "Python 3",
   "language": "python",
   "name": "python3"
  },
  "language_info": {
   "codemirror_mode": {
    "name": "ipython",
    "version": 2
   },
   "file_extension": ".py",
   "mimetype": "text/x-python",
   "name": "python",
   "nbconvert_exporter": "python",
   "pygments_lexer": "ipython2",
   "version": "2.7.6"
  }
 },
 "nbformat": 4,
 "nbformat_minor": 5
}
