{
 "cells": [
  {
   "cell_type": "markdown",
   "source": [
    "# 实验准备"
   ],
   "metadata": {
    "collapsed": false,
    "id": "a902fcebdc223667"
   },
   "id": "a902fcebdc223667"
  },
  {
   "cell_type": "code",
   "source": [
    "from google.colab import drive\n",
    "drive.mount('/content/drive')"
   ],
   "metadata": {
    "colab": {
     "base_uri": "https://localhost:8080/"
    },
    "id": "5E688chup19y",
    "executionInfo": {
     "status": "ok",
     "timestamp": 1703726584724,
     "user_tz": -480,
     "elapsed": 22485,
     "user": {
      "displayName": "Kelvin Qian",
      "userId": "04294370645728923331"
     }
    },
    "outputId": "739d6659-fd67-456f-841e-ff40ac9572c0"
   },
   "id": "5E688chup19y",
   "execution_count": null,
   "outputs": [
    {
     "output_type": "stream",
     "name": "stdout",
     "text": [
      "Mounted at /content/drive\n"
     ]
    }
   ]
  },
  {
   "cell_type": "code",
   "source": [
    "!pip install rouge_score\n",
    "!pip install pycocoevalcap"
   ],
   "metadata": {
    "colab": {
     "base_uri": "https://localhost:8080/"
    },
    "id": "r-YqVVczqEVo",
    "executionInfo": {
     "status": "ok",
     "timestamp": 1703726604655,
     "user_tz": -480,
     "elapsed": 19933,
     "user": {
      "displayName": "Kelvin Qian",
      "userId": "04294370645728923331"
     }
    },
    "outputId": "d6b41906-9b90-479f-8988-7c3c49d4b511"
   },
   "id": "r-YqVVczqEVo",
   "execution_count": null,
   "outputs": [
    {
     "output_type": "stream",
     "name": "stdout",
     "text": [
      "Collecting rouge_score\n",
      "  Downloading rouge_score-0.1.2.tar.gz (17 kB)\n",
      "  Preparing metadata (setup.py) ... \u001B[?25l\u001B[?25hdone\n",
      "Requirement already satisfied: absl-py in /usr/local/lib/python3.10/dist-packages (from rouge_score) (1.4.0)\n",
      "Requirement already satisfied: nltk in /usr/local/lib/python3.10/dist-packages (from rouge_score) (3.8.1)\n",
      "Requirement already satisfied: numpy in /usr/local/lib/python3.10/dist-packages (from rouge_score) (1.23.5)\n",
      "Requirement already satisfied: six>=1.14.0 in /usr/local/lib/python3.10/dist-packages (from rouge_score) (1.16.0)\n",
      "Requirement already satisfied: click in /usr/local/lib/python3.10/dist-packages (from nltk->rouge_score) (8.1.7)\n",
      "Requirement already satisfied: joblib in /usr/local/lib/python3.10/dist-packages (from nltk->rouge_score) (1.3.2)\n",
      "Requirement already satisfied: regex>=2021.8.3 in /usr/local/lib/python3.10/dist-packages (from nltk->rouge_score) (2023.6.3)\n",
      "Requirement already satisfied: tqdm in /usr/local/lib/python3.10/dist-packages (from nltk->rouge_score) (4.66.1)\n",
      "Building wheels for collected packages: rouge_score\n",
      "  Building wheel for rouge_score (setup.py) ... \u001B[?25l\u001B[?25hdone\n",
      "  Created wheel for rouge_score: filename=rouge_score-0.1.2-py3-none-any.whl size=24933 sha256=2c1cbc59dc549a89f5bdeb1f5b45011a0ff072c6fd32bb32d86e86f8151fb70c\n",
      "  Stored in directory: /root/.cache/pip/wheels/5f/dd/89/461065a73be61a532ff8599a28e9beef17985c9e9c31e541b4\n",
      "Successfully built rouge_score\n",
      "Installing collected packages: rouge_score\n",
      "Successfully installed rouge_score-0.1.2\n",
      "Collecting pycocoevalcap\n",
      "  Downloading pycocoevalcap-1.2-py3-none-any.whl (104.3 MB)\n",
      "\u001B[2K     \u001B[90m━━━━━━━━━━━━━━━━━━━━━━━━━━━━━━━━━━━━━━━━\u001B[0m \u001B[32m104.3/104.3 MB\u001B[0m \u001B[31m5.4 MB/s\u001B[0m eta \u001B[36m0:00:00\u001B[0m\n",
      "\u001B[?25hRequirement already satisfied: pycocotools>=2.0.2 in /usr/local/lib/python3.10/dist-packages (from pycocoevalcap) (2.0.7)\n",
      "Requirement already satisfied: matplotlib>=2.1.0 in /usr/local/lib/python3.10/dist-packages (from pycocotools>=2.0.2->pycocoevalcap) (3.7.1)\n",
      "Requirement already satisfied: numpy in /usr/local/lib/python3.10/dist-packages (from pycocotools>=2.0.2->pycocoevalcap) (1.23.5)\n",
      "Requirement already satisfied: contourpy>=1.0.1 in /usr/local/lib/python3.10/dist-packages (from matplotlib>=2.1.0->pycocotools>=2.0.2->pycocoevalcap) (1.2.0)\n",
      "Requirement already satisfied: cycler>=0.10 in /usr/local/lib/python3.10/dist-packages (from matplotlib>=2.1.0->pycocotools>=2.0.2->pycocoevalcap) (0.12.1)\n",
      "Requirement already satisfied: fonttools>=4.22.0 in /usr/local/lib/python3.10/dist-packages (from matplotlib>=2.1.0->pycocotools>=2.0.2->pycocoevalcap) (4.46.0)\n",
      "Requirement already satisfied: kiwisolver>=1.0.1 in /usr/local/lib/python3.10/dist-packages (from matplotlib>=2.1.0->pycocotools>=2.0.2->pycocoevalcap) (1.4.5)\n",
      "Requirement already satisfied: packaging>=20.0 in /usr/local/lib/python3.10/dist-packages (from matplotlib>=2.1.0->pycocotools>=2.0.2->pycocoevalcap) (23.2)\n",
      "Requirement already satisfied: pillow>=6.2.0 in /usr/local/lib/python3.10/dist-packages (from matplotlib>=2.1.0->pycocotools>=2.0.2->pycocoevalcap) (9.4.0)\n",
      "Requirement already satisfied: pyparsing>=2.3.1 in /usr/local/lib/python3.10/dist-packages (from matplotlib>=2.1.0->pycocotools>=2.0.2->pycocoevalcap) (3.1.1)\n",
      "Requirement already satisfied: python-dateutil>=2.7 in /usr/local/lib/python3.10/dist-packages (from matplotlib>=2.1.0->pycocotools>=2.0.2->pycocoevalcap) (2.8.2)\n",
      "Requirement already satisfied: six>=1.5 in /usr/local/lib/python3.10/dist-packages (from python-dateutil>=2.7->matplotlib>=2.1.0->pycocotools>=2.0.2->pycocoevalcap) (1.16.0)\n",
      "Installing collected packages: pycocoevalcap\n",
      "Successfully installed pycocoevalcap-1.2\n"
     ]
    }
   ]
  },
  {
   "cell_type": "code",
   "execution_count": null,
   "outputs": [],
   "source": [
    "import numpy as np\n",
    "import pandas as pd\n",
    "from sklearn.model_selection import train_test_split\n",
    "import torch\n",
    "import torch.optim as optim\n",
    "from torch.utils.data import Dataset, DataLoader\n",
    "from transformers import BartForConditionalGeneration, BartTokenizer\n",
    "\n",
    "from nltk.translate.bleu_score import sentence_bleu, SmoothingFunction\n",
    "from rouge_score import rouge_scorer\n",
    "from pycocoevalcap.cider.cider import Cider"
   ],
   "metadata": {
    "ExecuteTime": {
     "end_time": "2023-12-27T05:02:20.367967100Z",
     "start_time": "2023-12-27T05:02:15.604910200Z"
    },
    "id": "fd45712d8471b68a"
   },
   "id": "fd45712d8471b68a"
  },
  {
   "cell_type": "code",
   "execution_count": null,
   "outputs": [
    {
     "output_type": "stream",
     "name": "stdout",
     "text": [
      "using device: cuda\n"
     ]
    }
   ],
   "source": [
    "# 如果计算机安装有CUDA，则使用CUDA进行接下来的全部训练，否则使用CPU\n",
    "if torch.cuda.is_available():\n",
    "    device = torch.device('cuda')\n",
    "else:\n",
    "    device = torch.device('cpu')\n",
    "print('using device:', device)"
   ],
   "metadata": {
    "ExecuteTime": {
     "end_time": "2023-12-27T05:02:20.420823400Z",
     "start_time": "2023-12-27T05:02:20.369967500Z"
    },
    "colab": {
     "base_uri": "https://localhost:8080/"
    },
    "id": "652fc857b3e56842",
    "executionInfo": {
     "status": "ok",
     "timestamp": 1703726613776,
     "user_tz": -480,
     "elapsed": 3,
     "user": {
      "displayName": "Kelvin Qian",
      "userId": "04294370645728923331"
     }
    },
    "outputId": "29b6054d-fece-4c50-a211-c635ae4e35d0"
   },
   "id": "652fc857b3e56842"
  },
  {
   "cell_type": "code",
   "execution_count": null,
   "outputs": [
    {
     "output_type": "stream",
     "name": "stdout",
     "text": [
      "X_train:  (14400, 2)\n",
      "X_val:  (3600, 2)\n",
      "X_test:  (2000, 2)\n"
     ]
    }
   ],
   "source": [
    "class DiagnosisDataset(Dataset):\n",
    "    def __init__(self, dataframe):\n",
    "        self.data = dataframe\n",
    "\n",
    "    def __len__(self):\n",
    "        return len(self.data)\n",
    "\n",
    "    def __getitem__(self, index):\n",
    "        description = self.data.iloc[index]['description']\n",
    "        diagnosis = self.data.iloc[index]['diagnosis']\n",
    "\n",
    "        return description, diagnosis\n",
    "\n",
    "folder_path = '/content/drive/MyDrive/Colab Notebooks/exp4'\n",
    "train_set_path = folder_path + '/data/train.csv'\n",
    "test_set_path = folder_path + '/data/test.csv'\n",
    "\n",
    "# 读取训练数据\n",
    "train_df = pd.read_csv(train_set_path, index_col=0)\n",
    "\n",
    "# 将训练数据划分为训练集和验证集，固定划分（8:2）\n",
    "train_df, val_df = train_test_split(train_df, test_size=0.2, random_state=42)\n",
    "\n",
    "# 读取测试数据，即测试集\n",
    "test_df = pd.read_csv(test_set_path, index_col=0)\n",
    "\n",
    "print('X_train: ', train_df.shape)\n",
    "print('X_val: ', val_df.shape)\n",
    "print('X_test: ', test_df.shape)\n",
    "\n",
    "train_dataset = DiagnosisDataset(train_df)\n",
    "val_dataset = DiagnosisDataset(val_df)\n",
    "test_dataset = DiagnosisDataset(test_df)\n",
    "\n",
    "train_loader = DataLoader(train_dataset, batch_size=32, shuffle=True)\n",
    "val_loader = DataLoader(val_dataset, batch_size=32, shuffle=False)\n",
    "test_loader = DataLoader(test_dataset, batch_size=32, shuffle=False)"
   ],
   "metadata": {
    "ExecuteTime": {
     "end_time": "2023-12-27T05:02:20.508410700Z",
     "start_time": "2023-12-27T05:02:20.418823200Z"
    },
    "colab": {
     "base_uri": "https://localhost:8080/"
    },
    "id": "974051affd25fa03",
    "executionInfo": {
     "status": "ok",
     "timestamp": 1703726616556,
     "user_tz": -480,
     "elapsed": 2080,
     "user": {
      "displayName": "Kelvin Qian",
      "userId": "04294370645728923331"
     }
    },
    "outputId": "b46965cf-1392-4799-b725-a7820b4e0c96"
   },
   "id": "974051affd25fa03"
  },
  {
   "cell_type": "markdown",
   "source": [
    "# 训练并评价模型"
   ],
   "metadata": {
    "collapsed": false,
    "id": "f47f047251810ade"
   },
   "id": "f47f047251810ade"
  },
  {
   "cell_type": "code",
   "execution_count": null,
   "outputs": [],
   "source": [
    "# 计算BLEU-4指标\n",
    "def calculate_bleu_4(generated, reference):\n",
    "    # 4-gram权重\n",
    "    weights = [0.25, 0.25, 0.25, 0.25]\n",
    "\n",
    "    # 使用加一平滑\n",
    "    smoothing_function = SmoothingFunction().method1\n",
    "\n",
    "    score = sentence_bleu([reference], generated, weights=weights, smoothing_function=smoothing_function)\n",
    "    return score\n",
    "\n",
    "\n",
    "# 计算ROUGE-2指标\n",
    "def calculate_rouge_2(generated, reference):\n",
    "    scorer = rouge_scorer.RougeScorer(['rouge2'])\n",
    "    scores = scorer.score(' '.join(generated), ' '.join(reference))\n",
    "    score = scores['rouge2'][0]\n",
    "    return score\n",
    "\n",
    "\n",
    "# 计算CIDEr指标\n",
    "def calculate_cider(generated, reference):\n",
    "    cider_scorer = Cider()\n",
    "    score, _ = cider_scorer.compute_score(gts={0: [' '.join(reference)]}, res={0: [' '.join(generated)]})\n",
    "    return score"
   ],
   "metadata": {
    "ExecuteTime": {
     "end_time": "2023-12-27T05:02:20.550178900Z",
     "start_time": "2023-12-27T05:02:20.509411600Z"
    },
    "id": "66fd8b817973a1fd"
   },
   "id": "66fd8b817973a1fd"
  },
  {
   "cell_type": "code",
   "execution_count": null,
   "outputs": [],
   "source": [
    "# 训练模型\n",
    "def train_model(model, tokenizer, optimizer, epochs):\n",
    "    model.to(device)\n",
    "\n",
    "    train_loss = []\n",
    "\n",
    "    for epoch in range(epochs):\n",
    "        model.train()\n",
    "        total_loss = 0\n",
    "        for input_seq, target_seq in train_loader:\n",
    "            # 将待更新参数的梯度置为零\n",
    "            optimizer.zero_grad()\n",
    "\n",
    "            input_encoded = tokenizer.batch_encode_plus(list(input_seq), padding=True, return_tensors='pt').to(device)\n",
    "            target_encoded = tokenizer.batch_encode_plus(list(target_seq), padding=True, return_tensors='pt').to(device)\n",
    "\n",
    "            output = model(input_ids=input_encoded[\"input_ids\"], attention_mask=input_encoded[\"attention_mask\"], labels=target_encoded[\"input_ids\"])\n",
    "\n",
    "            loss = output.loss\n",
    "\n",
    "            # 反向传播，计算梯度\n",
    "            loss.backward()\n",
    "\n",
    "            # 利用梯度更新参数\n",
    "            optimizer.step()\n",
    "\n",
    "            total_loss += loss.item()\n",
    "\n",
    "        avg_loss = total_loss / len(train_loader)\n",
    "        print(f'Epoch: {epoch + 1}/{epochs}')\n",
    "        print(f'Train Loss: {avg_loss}')\n",
    "        train_loss.append(avg_loss)\n",
    "\n",
    "    return model, train_loss"
   ],
   "metadata": {
    "ExecuteTime": {
     "end_time": "2023-12-27T05:02:20.558182400Z",
     "start_time": "2023-12-27T05:02:20.521538500Z"
    },
    "id": "dfa663d6a6592205"
   },
   "id": "dfa663d6a6592205"
  },
  {
   "cell_type": "code",
   "execution_count": null,
   "outputs": [],
   "source": [
    "# 评价模型\n",
    "def evaluate_model(model, tokenizer, loader):\n",
    "    model.to(device)\n",
    "    model.eval()\n",
    "\n",
    "    sum_bleu4 = 0\n",
    "    sum_rouge2 = 0\n",
    "\n",
    "    with torch.no_grad():\n",
    "        for input_seq, target_seq in loader:\n",
    "            input_encoded = tokenizer.batch_encode_plus(list(input_seq), padding=True, return_tensors='pt').to(device)\n",
    "\n",
    "            output_ids = model.generate(input_ids=input_encoded[\"input_ids\"], attention_mask=input_encoded[\"attention_mask\"],max_length=20, num_beams=4, length_penalty=2.0, no_repeat_ngram_size=3)\n",
    "\n",
    "            outputs = []\n",
    "            for i in range(len(output_ids)):\n",
    "                output = tokenizer.decode(output_ids[i], skip_special_tokens=True)\n",
    "                outputs.append(output)\n",
    "\n",
    "            bleu4 = 0\n",
    "            rouge_2 = 0\n",
    "\n",
    "            for i in range(len(target_seq)):\n",
    "                output_valid = outputs[i].split()\n",
    "                target_seq_valid = target_seq[i].split()\n",
    "                bleu4 += calculate_bleu_4(output_valid, target_seq_valid)\n",
    "                rouge_2 += calculate_rouge_2(output_valid, target_seq_valid)\n",
    "\n",
    "            sum_bleu4 += bleu4\n",
    "            sum_rouge2 += rouge_2\n",
    "\n",
    "    avg_bleu4 = sum_bleu4 / len(loader)\n",
    "    avg_rouge2 = sum_rouge2 / len(loader)\n",
    "\n",
    "    print('BLEU-4: ', avg_bleu4)\n",
    "    print('ROUGE-2: ', avg_rouge2)\n",
    "\n",
    "    return avg_bleu4, avg_rouge2"
   ],
   "metadata": {
    "ExecuteTime": {
     "end_time": "2023-12-27T05:02:20.559182200Z",
     "start_time": "2023-12-27T05:02:20.536790400Z"
    },
    "id": "4efdef17be4a4402"
   },
   "id": "4efdef17be4a4402"
  },
  {
   "cell_type": "code",
   "execution_count": null,
   "outputs": [],
   "source": [
    "# 加载BART模型和分词器\n",
    "model_name = 'facebook/bart-base'\n",
    "model_path = folder_path + '/model/models--facebook--bart-base/snapshots/aadd2ab0ae0c8268c7c9693540e9904811f36177'\n",
    "tokenizer = BartTokenizer.from_pretrained(model_path)\n",
    "model = BartForConditionalGeneration.from_pretrained(model_path)"
   ],
   "metadata": {
    "ExecuteTime": {
     "end_time": "2023-12-27T05:02:22.259797500Z",
     "start_time": "2023-12-27T05:02:20.553182100Z"
    },
    "id": "58edf97ac6effcd"
   },
   "id": "58edf97ac6effcd"
  },
  {
   "cell_type": "code",
   "execution_count": null,
   "outputs": [
    {
     "output_type": "stream",
     "name": "stdout",
     "text": [
      "Epoch: 1/15\n",
      "Train Loss: 1.5478282442357805\n",
      "Epoch: 2/15\n",
      "Train Loss: 0.8261300155851576\n",
      "Epoch: 3/15\n",
      "Train Loss: 0.7453406517373191\n",
      "Epoch: 4/15\n",
      "Train Loss: 0.7039316068092982\n",
      "Epoch: 5/15\n",
      "Train Loss: 0.6627774135271708\n",
      "Epoch: 6/15\n",
      "Train Loss: 0.634591862294409\n",
      "Epoch: 7/15\n",
      "Train Loss: 0.6173603374428219\n",
      "Epoch: 8/15\n",
      "Train Loss: 0.589740817281935\n",
      "Epoch: 9/15\n",
      "Train Loss: 0.566215555800332\n",
      "Epoch: 10/15\n",
      "Train Loss: 0.5470928762356441\n",
      "Epoch: 11/15\n",
      "Train Loss: 0.5250701816214456\n",
      "Epoch: 12/15\n",
      "Train Loss: 0.49729294684198166\n",
      "Epoch: 13/15\n",
      "Train Loss: 0.47927301353878443\n",
      "Epoch: 14/15\n",
      "Train Loss: 0.4485736052195231\n",
      "Epoch: 15/15\n",
      "Train Loss: 0.42578270071082647\n",
      "Validation:\n",
      "BLEU-4:  7.692383029592882\n",
      "ROUGE-2:  10.921829398098357\n",
      "Test:\n",
      "BLEU-4:  7.969509482823933\n",
      "ROUGE-2:  11.14315382054427\n"
     ]
    }
   ],
   "source": [
    "learning_rate = 1e-4\n",
    "\n",
    "optimizer = optim.Adam(model.parameters(), lr=learning_rate)\n",
    "model, train_loss = train_model(model, tokenizer, optimizer, epochs=15)\n",
    "print('Validation:')\n",
    "val_bleu4, val_rouge2 = evaluate_model(model, tokenizer, val_loader)\n",
    "print('Test:')\n",
    "test_bleu4, test_rouge2 = evaluate_model(model, tokenizer, test_loader)"
   ],
   "metadata": {
    "ExecuteTime": {
     "end_time": "2023-12-27T05:02:29.436486800Z",
     "start_time": "2023-12-27T05:02:24.027509100Z"
    },
    "colab": {
     "base_uri": "https://localhost:8080/"
    },
    "id": "4e07cc1d3c79c9c3",
    "outputId": "fc347039-ca1d-4cc6-d54e-662f755bcec4",
    "executionInfo": {
     "status": "ok",
     "timestamp": 1703732247400,
     "user_tz": -480,
     "elapsed": 5601842,
     "user": {
      "displayName": "Kelvin Qian",
      "userId": "04294370645728923331"
     }
    }
   },
   "id": "4e07cc1d3c79c9c3"
  },
  {
   "cell_type": "code",
   "source": [
    "# best: learning_rate = 1e-4, epochs = 10\n",
    "print('Validation:')\n",
    "print(\"BLEU-4: \", val_bleu4)\n",
    "print(\"ROUGE-2: \", val_rouge2)\n",
    "print('Test:')\n",
    "print(\"BLEU-4: \", test_bleu4)\n",
    "print(\"ROUGE-2: \", test_rouge2)"
   ],
   "metadata": {
    "colab": {
     "base_uri": "https://localhost:8080/"
    },
    "id": "nhuO3WgUBciA",
    "executionInfo": {
     "status": "ok",
     "timestamp": 1703680629147,
     "user_tz": -480,
     "elapsed": 716,
     "user": {
      "displayName": "Kelvin Qian",
      "userId": "04294370645728923331"
     }
    },
    "outputId": "29b83193-c93c-417e-905f-e1b5323e23f2"
   },
   "id": "nhuO3WgUBciA",
   "execution_count": null,
   "outputs": [
    {
     "output_type": "stream",
     "name": "stdout",
     "text": [
      "Validation:\n",
      "BLEU-4:  7.844874289948872\n",
      "ROUGE-2:  11.135870606309311\n",
      "CIDEr:  0.0\n",
      "Test:\n",
      "BLEU-4:  8.127961046142788\n",
      "ROUGE-2:  11.34432920509659\n",
      "CIDEr:  0.0\n"
     ]
    }
   ]
  },
  {
   "cell_type": "markdown",
   "source": [
    "# 绘制图像"
   ],
   "metadata": {
    "collapsed": false,
    "id": "d9b6f07451b8e1c5"
   },
   "id": "d9b6f07451b8e1c5"
  },
  {
   "cell_type": "code",
   "execution_count": null,
   "outputs": [],
   "source": [
    "import matplotlib.pyplot as plt\n",
    "\n",
    "# 绘制训练损失变化图\n",
    "def plot_train_loss(train_loss, path):\n",
    "    epoch = np.arange(1, 11)\n",
    "\n",
    "    plt.plot(epoch, train_loss)\n",
    "\n",
    "    plt.legend()\n",
    "    plt.title('Train Loss for BART')\n",
    "    plt.xlabel('Epoch')\n",
    "    plt.ylabel('Train Loss')\n",
    "    plt.savefig(path)"
   ],
   "metadata": {
    "id": "d9dcfd33c9e8bc65"
   },
   "id": "d9dcfd33c9e8bc65"
  },
  {
   "cell_type": "code",
   "execution_count": null,
   "outputs": [
    {
     "output_type": "stream",
     "name": "stderr",
     "text": [
      "WARNING:matplotlib.legend:No artists with labels found to put in legend.  Note that artists whose label start with an underscore are ignored when legend() is called with no argument.\n"
     ]
    },
    {
     "output_type": "display_data",
     "data": {
      "text/plain": [
       "<Figure size 640x480 with 1 Axes>"
      ],
      "image/png": "[encoded data removed]"
     },
     "metadata": {}
    }
   ],
   "source": [
    "fig_path = folder_path + '/graph/Train Loss for BART.png'\n",
    "plot_train_loss(train_loss, fig_path)"
   ],
   "metadata": {
    "id": "2a2e7f35069c4791",
    "colab": {
     "base_uri": "https://localhost:8080/",
     "height": 509
    },
    "executionInfo": {
     "status": "ok",
     "timestamp": 1703680705980,
     "user_tz": -480,
     "elapsed": 4,
     "user": {
      "displayName": "Kelvin Qian",
      "userId": "04294370645728923331"
     }
    },
    "outputId": "83e5e3c8-4773-4e01-ba80-563a32334422"
   },
   "id": "2a2e7f35069c4791"
  }
 ],
 "metadata": {
  "kernelspec": {
   "display_name": "Python 3",
   "name": "python3"
  },
  "language_info": {
   "codemirror_mode": {
    "name": "ipython",
    "version": 2
   },
   "file_extension": ".py",
   "mimetype": "text/x-python",
   "name": "python",
   "nbconvert_exporter": "python",
   "pygments_lexer": "ipython2",
   "version": "2.7.6"
  },
  "colab": {
   "provenance": [],
   "gpuType": "T4"
  },
  "accelerator": "GPU"
 },
 "nbformat": 4,
 "nbformat_minor": 5
}
