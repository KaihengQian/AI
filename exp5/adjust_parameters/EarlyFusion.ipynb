{
 "cells": [
  {
   "cell_type": "markdown",
   "source": [
    "# 实验准备"
   ],
   "metadata": {
    "collapsed": false
   },
   "id": "a902fcebdc223667"
  },
  {
   "cell_type": "code",
   "execution_count": 1,
   "outputs": [],
   "source": [
    "import numpy as np\n",
    "import pandas as pd\n",
    "import matplotlib.pyplot as plt\n",
    "\n",
    "import torch\n",
    "import torch.nn as nn\n",
    "import torch.optim as optim\n",
    "from sklearn.model_selection import train_test_split\n",
    "from torch.utils.data import Dataset, DataLoader\n",
    "from torchvision import transforms\n",
    "import torch.nn.functional as F\n",
    "from torch.nn.utils.rnn import pad_sequence\n",
    "from collections import defaultdict\n",
    "\n",
    "import nltk\n",
    "from nltk.tokenize import word_tokenize\n",
    "from PIL import Image\n",
    "\n",
    "from transformers import BertModel"
   ],
   "metadata": {
    "collapsed": false,
    "ExecuteTime": {
     "end_time": "2024-01-28T06:09:01.846358700Z",
     "start_time": "2024-01-28T06:08:55.963594400Z"
    }
   },
   "id": "fd45712d8471b68a"
  },
  {
   "cell_type": "code",
   "execution_count": 2,
   "outputs": [
    {
     "name": "stderr",
     "output_type": "stream",
     "text": [
      "[nltk_data] Downloading package punkt to\n",
      "[nltk_data]     C:\\Users\\user\\AppData\\Roaming\\nltk_data...\n",
      "[nltk_data]   Package punkt is already up-to-date!\n"
     ]
    },
    {
     "data": {
      "text/plain": "True"
     },
     "execution_count": 2,
     "metadata": {},
     "output_type": "execute_result"
    }
   ],
   "source": [
    "nltk.download('punkt')"
   ],
   "metadata": {
    "collapsed": false,
    "ExecuteTime": {
     "end_time": "2024-01-26T04:34:50.816121Z",
     "start_time": "2024-01-26T04:34:45.065429200Z"
    }
   },
   "id": "e6f7dc16011be58a"
  },
  {
   "cell_type": "markdown",
   "source": [
    "如果计算机安装有CUDA，则使用CUDA进行接下来的全部训练，否则使用CPU"
   ],
   "metadata": {
    "collapsed": false
   },
   "id": "cd586d9a675d3c72"
  },
  {
   "cell_type": "code",
   "execution_count": 3,
   "outputs": [
    {
     "name": "stdout",
     "output_type": "stream",
     "text": [
      "using device: cuda\n"
     ]
    }
   ],
   "source": [
    "if torch.cuda.is_available():\n",
    "    device = torch.device('cuda')\n",
    "else:\n",
    "    device = torch.device('cpu')\n",
    "print('using device:', device)"
   ],
   "metadata": {
    "collapsed": false,
    "ExecuteTime": {
     "end_time": "2024-01-26T04:34:50.866132200Z",
     "start_time": "2024-01-26T04:34:50.816121Z"
    }
   },
   "id": "652fc857b3e56842"
  },
  {
   "cell_type": "markdown",
   "source": [
    "根据训练数据查看文本的长度分布"
   ],
   "metadata": {
    "collapsed": false
   },
   "id": "b771f8745533f1e6"
  },
  {
   "cell_type": "code",
   "execution_count": 4,
   "outputs": [
    {
     "data": {
      "text/plain": "<Figure size 640x480 with 1 Axes>",
      "image/png": "[encoded data removed]"
     },
     "metadata": {},
     "output_type": "display_data"
    }
   ],
   "source": [
    "train_set_path = '../dataset/train.txt'\n",
    "text_path = '../dataset/data/'\n",
    "\n",
    "train_df = pd.read_csv(train_set_path, index_col=False)\n",
    "guids = train_df['guid'].values\n",
    "\n",
    "train_text = []\n",
    "train_text_len = []\n",
    "\n",
    "for guid in guids:\n",
    "    path = text_path + str(guid) + '.txt'\n",
    "    with open(path, 'r', encoding='utf-8', errors='ignore') as f:\n",
    "        text = [line.strip() for line in f.readlines() if line.strip()]  # 去除空行\n",
    "    text = ' '.join(text)\n",
    "        \n",
    "    tokens = word_tokenize(text)  # 分词\n",
    "    tokens = [word for word in tokens if word.isalpha()]  # 去除标点符号和数字\n",
    "    tokens = [word.lower() for word in tokens]  # 转换为小写字母\n",
    "    \n",
    "    train_text.append(tokens)\n",
    "    train_text_len.append(len(tokens))\n",
    "\n",
    "plt.hist(train_text_len, bins=80)\n",
    "plt.title('Distribution of Text Length')\n",
    "plt.xlabel('Length')\n",
    "plt.ylabel('Count')\n",
    "\n",
    "fig_path = \"../graph/Distribution of Text Length\"\n",
    "plt.savefig(fig_path)"
   ],
   "metadata": {
    "collapsed": false,
    "ExecuteTime": {
     "end_time": "2024-01-26T04:34:52.248135700Z",
     "start_time": "2024-01-26T04:34:50.866132200Z"
    }
   },
   "id": "f23898dbe9c8a16d"
  },
  {
   "cell_type": "markdown",
   "source": [
    "根据训练数据建立词表"
   ],
   "metadata": {
    "collapsed": false
   },
   "id": "8ec0348705a57f7c"
  },
  {
   "cell_type": "code",
   "execution_count": 5,
   "outputs": [],
   "source": [
    "class Vocab:\n",
    "    def __init__(self, text, min_freq=1, reserved_tokens=None):\n",
    "        self.idx2token = list()\n",
    "        self.token2idx = {}\n",
    "        token_freqs = defaultdict(int)\n",
    "        self.UNK_TOKEN = '<UNK>'\n",
    "        \n",
    "        for sentence in text:\n",
    "            for token in sentence:\n",
    "                token_freqs[token] += 1\n",
    "                \n",
    "        unique_tokens = [self.UNK_TOKEN]\n",
    "        if reserved_tokens:\n",
    "            unique_tokens += reserved_tokens\n",
    "        # 过滤掉出现频率过低的词\n",
    "        unique_tokens += [token for token, freq in token_freqs.items() if freq >= min_freq]\n",
    "\n",
    "        for token in unique_tokens:\n",
    "            self.idx2token.append(token)\n",
    "            self.token2idx[token] = len(self.idx2token) - 1\n",
    "        self.unk = self.token2idx[self.UNK_TOKEN]\n",
    "\n",
    "    def __len__(self):\n",
    "        return len(self.idx2token)\n",
    "\n",
    "    def __getitem__(self, token):\n",
    "        return self.token2idx.get(token, self.unk)\n",
    "\n",
    "    def convert_tokens_to_ids(self, tokens):\n",
    "        return [self[token] for token in tokens]\n",
    "\n",
    "    def convert_ids_to_tokens(self, ids):\n",
    "        return [self.idx2token[idx] for idx in ids]\n",
    "\n",
    "PAD_TOKEN = '<PAD>'\n",
    "reserved_tokens = [PAD_TOKEN]\n",
    "vocab = Vocab(train_text, reserved_tokens=reserved_tokens)"
   ],
   "metadata": {
    "collapsed": false,
    "ExecuteTime": {
     "end_time": "2024-01-26T04:34:52.299158400Z",
     "start_time": "2024-01-26T04:34:52.245135200Z"
    }
   },
   "id": "5e6832d88d269167"
  },
  {
   "cell_type": "markdown",
   "source": [
    "划分训练集、验证集、测试集，并转换为Dataloader对象"
   ],
   "metadata": {
    "collapsed": false
   },
   "id": "7a112833c5f90618"
  },
  {
   "cell_type": "code",
   "execution_count": 6,
   "outputs": [
    {
     "name": "stdout",
     "output_type": "stream",
     "text": [
      "X_train:  3200\n",
      "X_val:  800\n",
      "X_test:  511\n"
     ]
    }
   ],
   "source": [
    "class SentimentDataset(Dataset):\n",
    "    def __init__(self, dataframe, text_path, image_path, transform=None):\n",
    "        self.guids = dataframe['guid'].values\n",
    "        self.tags = dataframe['tag'].values\n",
    "        self.text_path = text_path\n",
    "        self.image_path = image_path\n",
    "        self.transform = transform\n",
    "        self.label_mapping = {'negative': 0, 'neutral': 1, 'positive': 2}  # 标签映射\n",
    "\n",
    "    def __len__(self):\n",
    "        return len(self.guids)\n",
    "\n",
    "    def __getitem__(self, index):\n",
    "        guid = self.guids[index]\n",
    "\n",
    "        text_path = self.text_path + str(guid) + '.txt'\n",
    "        with open(text_path, 'r', encoding='utf-8', errors='ignore') as f:\n",
    "            text = [line.strip() for line in f.readlines() if line.strip()]  # 去除空行\n",
    "        text = ' '.join(text)\n",
    "        \n",
    "        tokens = word_tokenize(text)  # 分词\n",
    "        tokens = [word for word in tokens if word.isalpha()]  # 去除标点符号和数字\n",
    "        tokens = [word.lower() for word in tokens]  # 转换为小写字母     \n",
    "        ids = vocab.convert_tokens_to_ids(tokens)  # 利用词表进行转换\n",
    "        ids = torch.tensor(ids, dtype=torch.long)\n",
    "\n",
    "        image_path = self.image_path + str(guid) + '.jpg'\n",
    "        image = Image.open(image_path).convert('RGB')\n",
    "        if self.transform:\n",
    "            image = self.transform(image)\n",
    "            \n",
    "        tag = self.tags[index]\n",
    "        if pd.isna(tag):\n",
    "            label = 3\n",
    "        else:\n",
    "            label = self.label_mapping[tag]\n",
    "\n",
    "        return ids, image, label\n",
    "    \n",
    "def collate_fn(batch):\n",
    "    text = [sample[0] for sample in batch]\n",
    "    padded_text = pad_sequence(text, batch_first=True, padding_value=vocab[PAD_TOKEN])\n",
    "    attention_mask = (padded_text != vocab[PAD_TOKEN]).type(torch.float32)\n",
    "    \n",
    "    images = torch.stack([sample[1] for sample in batch])\n",
    "    \n",
    "    labels = torch.tensor([sample[2] for sample in batch], dtype=torch.long)\n",
    "    \n",
    "    return padded_text, attention_mask, images, labels\n",
    "\n",
    "train_set_path = '../dataset/train.txt'\n",
    "test_set_path = '../dataset/test_without_label.txt'\n",
    "text_path = '../dataset/data/'\n",
    "image_path = '../dataset/data/'\n",
    "\n",
    "# 读取训练数据\n",
    "train_df = pd.read_csv(train_set_path, index_col=False)\n",
    "\n",
    "# 将训练数据划分为训练集和验证集，固定划分（8:2）\n",
    "train_df, val_df = train_test_split(train_df, test_size=0.2, random_state=42)\n",
    "\n",
    "# 读取测试数据，即测试集\n",
    "test_df = pd.read_csv(test_set_path, index_col=False)\n",
    "\n",
    "num_train = train_df.shape[0]\n",
    "num_val = val_df.shape[0]\n",
    "num_test = test_df.shape[0]\n",
    "\n",
    "print('X_train: ', num_train)\n",
    "print('X_val: ', num_val)\n",
    "print('X_test: ', num_test)\n",
    "print()\n",
    "\n",
    "image_transform = transforms.Compose([\n",
    "    transforms.Resize((224, 224)),\n",
    "    transforms.ToTensor(),\n",
    "])\n",
    "\n",
    "train_dataset = SentimentDataset(train_df, text_path, image_path, image_transform)\n",
    "val_dataset = SentimentDataset(val_df, text_path, image_path, image_transform)\n",
    "test_dataset = SentimentDataset(test_df, text_path, image_path, image_transform)\n",
    "\n",
    "train_loader = DataLoader(train_dataset, batch_size=64, shuffle=True, collate_fn=collate_fn)\n",
    "val_loader = DataLoader(val_dataset, batch_size=64, shuffle=False, collate_fn=collate_fn)\n",
    "test_loader = DataLoader(test_dataset, batch_size=64, shuffle=False, collate_fn=collate_fn)"
   ],
   "metadata": {
    "collapsed": false,
    "ExecuteTime": {
     "end_time": "2024-01-26T04:34:52.311163600Z",
     "start_time": "2024-01-26T04:34:52.285145Z"
    }
   },
   "id": "974051affd25fa03"
  },
  {
   "cell_type": "markdown",
   "source": [
    "查看Dataloader数据格式"
   ],
   "metadata": {
    "collapsed": false
   },
   "id": "c489b3996cecdc5e"
  },
  {
   "cell_type": "code",
   "execution_count": 7,
   "outputs": [
    {
     "name": "stdout",
     "output_type": "stream",
     "text": [
      "tensor([   2, 5282,   36, 1533,   94,  169,  274,    1,    1,    1,    1,    1,\n",
      "           1,    1,    1,    1,    1,    1,    1,    1,    1,    1,    1,    1,\n",
      "           1])\n",
      "<class 'torch.Tensor'>\n",
      "tensor([1., 1., 1., 1., 1., 1., 1., 0., 0., 0., 0., 0., 0., 0., 0., 0., 0., 0.,\n",
      "        0., 0., 0., 0., 0., 0., 0.])\n",
      "<class 'torch.Tensor'>\n",
      "tensor([[[0.9725, 0.9686, 0.9647,  ..., 0.9725, 0.9725, 0.9725],\n",
      "         [0.9725, 0.9686, 0.9647,  ..., 0.9725, 0.9725, 0.9725],\n",
      "         [0.9725, 0.9686, 0.9647,  ..., 0.9686, 0.9725, 0.9765],\n",
      "         ...,\n",
      "         [0.9333, 0.9333, 0.9333,  ..., 0.9333, 0.9333, 0.9333],\n",
      "         [0.9333, 0.9333, 0.9333,  ..., 0.9333, 0.9333, 0.9333],\n",
      "         [0.9333, 0.9333, 0.9333,  ..., 0.9333, 0.9333, 0.9333]],\n",
      "\n",
      "        [[0.9725, 0.9686, 0.9647,  ..., 0.9725, 0.9725, 0.9725],\n",
      "         [0.9725, 0.9686, 0.9647,  ..., 0.9725, 0.9725, 0.9725],\n",
      "         [0.9725, 0.9686, 0.9647,  ..., 0.9686, 0.9725, 0.9765],\n",
      "         ...,\n",
      "         [0.9333, 0.9333, 0.9333,  ..., 0.9333, 0.9333, 0.9333],\n",
      "         [0.9333, 0.9333, 0.9333,  ..., 0.9333, 0.9333, 0.9333],\n",
      "         [0.9333, 0.9333, 0.9333,  ..., 0.9333, 0.9333, 0.9333]],\n",
      "\n",
      "        [[0.9725, 0.9686, 0.9647,  ..., 0.9725, 0.9725, 0.9725],\n",
      "         [0.9725, 0.9686, 0.9647,  ..., 0.9725, 0.9725, 0.9725],\n",
      "         [0.9725, 0.9686, 0.9647,  ..., 0.9686, 0.9725, 0.9765],\n",
      "         ...,\n",
      "         [0.9333, 0.9333, 0.9333,  ..., 0.9333, 0.9333, 0.9333],\n",
      "         [0.9333, 0.9333, 0.9333,  ..., 0.9333, 0.9333, 0.9333],\n",
      "         [0.9333, 0.9333, 0.9333,  ..., 0.9333, 0.9333, 0.9333]]])\n",
      "<class 'torch.Tensor'>\n",
      "tensor(0)\n",
      "<class 'torch.Tensor'>\n"
     ]
    }
   ],
   "source": [
    "for text, attention_mask, images, labels in train_loader:\n",
    "    print(text[0])\n",
    "    print(type(text[0]))\n",
    "    print(attention_mask[0])\n",
    "    print(type(attention_mask[0]))\n",
    "    print(images[0])\n",
    "    print(type(images[0]))\n",
    "    print(labels[0])\n",
    "    print(type(labels[0]))\n",
    "    break"
   ],
   "metadata": {
    "collapsed": false,
    "ExecuteTime": {
     "end_time": "2024-01-26T04:34:52.720293600Z",
     "start_time": "2024-01-26T04:34:52.310163800Z"
    }
   },
   "id": "600df0bbca2d4e50"
  },
  {
   "cell_type": "markdown",
   "source": [
    "# 训练并评价模型"
   ],
   "metadata": {
    "collapsed": false
   },
   "id": "f47f047251810ade"
  },
  {
   "cell_type": "markdown",
   "source": [
    "定义文本编码模型"
   ],
   "metadata": {
    "collapsed": false
   },
   "id": "24dd31a9ec0337f"
  },
  {
   "cell_type": "code",
   "execution_count": 8,
   "outputs": [],
   "source": [
    "class TextRNN(nn.Module):\n",
    "    def __init__(self, vocab_size, embed_dim, hidden_dim, output_dim):\n",
    "        super(TextRNN, self).__init__()\n",
    "        self.embedding = nn.Embedding(vocab_size, embed_dim)\n",
    "        self.rnn = nn.RNN(embed_dim, hidden_dim, batch_first=True)\n",
    "        self.fc = nn.Linear(hidden_dim, output_dim)\n",
    "\n",
    "    def forward(self, text):\n",
    "        embedded_text = self.embedding(text)\n",
    "        rnn_output, _ = self.rnn(embedded_text)\n",
    "        output = self.fc(rnn_output[:, -1, :])  # 使用最后一个隐藏层\n",
    "        return output\n",
    "\n",
    "class TextLSTM(nn.Module):\n",
    "    def __init__(self, vocab_size, embed_dim, hidden_dim, output_dim):\n",
    "        super(TextLSTM, self).__init__()\n",
    "        self.embedding = nn.Embedding(vocab_size, embed_dim)\n",
    "        self.rnn = nn.LSTM(embed_dim, hidden_dim, batch_first=True)\n",
    "        self.fc = nn.Linear(hidden_dim, output_dim)\n",
    "\n",
    "    def forward(self, text):\n",
    "        embedded_text = self.embedding(text)\n",
    "        rnn_output, _ = self.rnn(embedded_text)\n",
    "        output = self.fc(rnn_output[:, -1, :])  # 使用最后一个隐藏层\n",
    "        return output\n",
    "    \n",
    "class TextGRU(nn.Module):\n",
    "    def __init__(self, vocab_size, embed_dim, hidden_dim, output_dim):\n",
    "        super(TextGRU, self).__init__()\n",
    "        self.embedding = nn.Embedding(vocab_size, embed_dim)\n",
    "        self.rnn = nn.GRU(embed_dim, hidden_dim, batch_first=True)\n",
    "        self.fc = nn.Linear(hidden_dim, output_dim)\n",
    "\n",
    "    def forward(self, text):\n",
    "        embedded_text = self.embedding(text)\n",
    "        rnn_output, _ = self.rnn(embedded_text)\n",
    "        output = self.fc(rnn_output[:, -1, :])  # 使用最后一个隐藏层\n",
    "        return output\n",
    "\n",
    "class TextBERT(nn.Module):\n",
    "    def __init__(self, output_dim):\n",
    "        super(TextBERT, self).__init__()\n",
    "        self.bert = BertModel.from_pretrained('bert-base-uncased', cache_dir='../model')\n",
    "        self.fc = nn.Linear(self.bert.config.hidden_size, output_dim)\n",
    "\n",
    "    def forward(self, text, attention_mask):\n",
    "        outputs = self.bert(text, attention_mask=attention_mask)\n",
    "        pooled_output = outputs.pooler_output\n",
    "        output = self.fc(pooled_output)\n",
    "        return output"
   ],
   "metadata": {
    "collapsed": false,
    "ExecuteTime": {
     "end_time": "2024-01-26T04:34:52.764303500Z",
     "start_time": "2024-01-26T04:34:52.724295100Z"
    }
   },
   "id": "88df589b20b6462c"
  },
  {
   "cell_type": "markdown",
   "source": [
    "定义图像编码模型"
   ],
   "metadata": {
    "collapsed": false
   },
   "id": "42d0728f29491ff"
  },
  {
   "cell_type": "code",
   "execution_count": 9,
   "outputs": [],
   "source": [
    "class ImageAlexNet(nn.Module):\n",
    "    def __init__(self, output_dim, dropout=0.0):\n",
    "        super(ImageAlexNet, self).__init__()\n",
    "        self.features = nn.Sequential(\n",
    "            nn.Conv2d(3, 32, kernel_size=3, padding=1),\n",
    "            nn.ReLU(inplace=True),\n",
    "            nn.MaxPool2d(kernel_size=2, stride=2),\n",
    "            nn.Conv2d(32, 64, kernel_size=3, padding=1),\n",
    "            nn.ReLU(inplace=True),\n",
    "            nn.MaxPool2d(kernel_size=2, stride=2),\n",
    "            nn.Conv2d(64, 128, kernel_size=3, padding=1),\n",
    "            nn.ReLU(inplace=True),\n",
    "            nn.Conv2d(128, 256, kernel_size=3, padding=1),\n",
    "            nn.ReLU(inplace=True),\n",
    "            nn.Conv2d(256, 256, kernel_size=3, padding=1),\n",
    "            nn.ReLU(inplace=True),\n",
    "            nn.MaxPool2d(kernel_size=3, stride=2),\n",
    "        )\n",
    "        self.avgpool = nn.AdaptiveAvgPool2d((6, 6))\n",
    "        self.classifier = nn.Sequential(\n",
    "            nn.Dropout(p=dropout),\n",
    "            nn.Linear(256 * 6 * 6, 4096),\n",
    "            nn.ReLU(inplace=True),\n",
    "            nn.Dropout(p=dropout),\n",
    "            nn.Linear(4096, 4096),\n",
    "            nn.ReLU(inplace=True),\n",
    "            nn.Linear(4096, output_dim),\n",
    "        )\n",
    "\n",
    "    def forward(self, x):\n",
    "        x = self.features(x)\n",
    "        x = self.avgpool(x)\n",
    "        x = torch.flatten(x, 1)\n",
    "        x = self.classifier(x)\n",
    "        return x\n",
    "    \n",
    "    \n",
    "# 定义深度可分离卷积层\n",
    "class DepthwiseSeparableConv(nn.Module):\n",
    "    def __init__(self, in_channels, out_channels, stride, dropout):\n",
    "        super(DepthwiseSeparableConv, self).__init__()\n",
    "        self.depthwise_conv = nn.Conv2d(in_channels, in_channels, kernel_size=3, stride=stride, padding=1,\n",
    "                                        groups=in_channels, bias=False)\n",
    "        self.pointwise_conv = nn.Conv2d(in_channels, out_channels, kernel_size=1, stride=1, padding=0, bias=False)\n",
    "        self.batch_norm = nn.BatchNorm2d(out_channels)\n",
    "        self.relu = nn.ReLU(inplace=True)\n",
    "        self.dropout = nn.Dropout(p=dropout)  # 添加Dropout层\n",
    "\n",
    "    def forward(self, x):\n",
    "        x = self.depthwise_conv(x)\n",
    "        x = self.pointwise_conv(x)\n",
    "        x = self.batch_norm(x)\n",
    "        x = self.relu(x)\n",
    "        return x\n",
    "\n",
    "class ImageMobileNetV1(nn.Module):\n",
    "    def __init__(self, output_dim, dropout=0.0):\n",
    "        super(ImageMobileNetV1, self).__init__()\n",
    "        self.model = nn.Sequential(\n",
    "            nn.Conv2d(3, 32, kernel_size=3, stride=2, padding=1, bias=False),\n",
    "            nn.BatchNorm2d(32),\n",
    "            nn.ReLU(inplace=True),\n",
    "\n",
    "            DepthwiseSeparableConv(32, 64, stride=1, dropout=dropout),\n",
    "            DepthwiseSeparableConv(64, 128, stride=2, dropout=dropout),\n",
    "            DepthwiseSeparableConv(128, 128, stride=1, dropout=dropout),\n",
    "            DepthwiseSeparableConv(128, 256, stride=2, dropout=dropout),\n",
    "            DepthwiseSeparableConv(256, 256, stride=1, dropout=dropout),\n",
    "\n",
    "            DepthwiseSeparableConv(256, 512, stride=2, dropout=dropout),\n",
    "            DepthwiseSeparableConv(512, 512, stride=1, dropout=dropout),\n",
    "            DepthwiseSeparableConv(512, 512, stride=1, dropout=dropout),\n",
    "            DepthwiseSeparableConv(512, 512, stride=1, dropout=dropout),\n",
    "            DepthwiseSeparableConv(512, 512, stride=1, dropout=dropout),\n",
    "\n",
    "            DepthwiseSeparableConv(512, 1024, stride=2, dropout=dropout),\n",
    "            DepthwiseSeparableConv(1024, 1024, stride=1, dropout=dropout),\n",
    "\n",
    "            nn.AdaptiveAvgPool2d(1)\n",
    "        )\n",
    "\n",
    "        self.fc = nn.Linear(1024, output_dim)\n",
    "\n",
    "    def forward(self, x):\n",
    "        x = self.model(x)\n",
    "        x = x.view(x.size(0), -1)\n",
    "        x = self.fc(x)\n",
    "        return x"
   ],
   "metadata": {
    "collapsed": false,
    "ExecuteTime": {
     "end_time": "2024-01-26T04:34:52.773306Z",
     "start_time": "2024-01-26T04:34:52.744299Z"
    }
   },
   "id": "2e73bfde93c45338"
  },
  {
   "cell_type": "markdown",
   "source": [
    "定义多模态分类模型"
   ],
   "metadata": {
    "collapsed": false
   },
   "id": "a2a2fdbc39ee6f7f"
  },
  {
   "cell_type": "code",
   "execution_count": 10,
   "outputs": [],
   "source": [
    "class MultimodalModel(nn.Module):\n",
    "    def __init__(self, text_model_type, image_model_type, vocab_size, text_embed_dim, text_hidden_dim, output_dim, num_classes):\n",
    "        super(MultimodalModel, self).__init__()\n",
    "        self.text_model_type = text_model_type\n",
    "        self.image_model_type = image_model_type\n",
    "        \n",
    "        if text_model_type == 'rnn':\n",
    "            self.text_model = TextRNN(vocab_size, text_embed_dim, text_hidden_dim, output_dim)\n",
    "        elif text_model_type == 'lstm':\n",
    "            self.text_model = TextLSTM(vocab_size, text_embed_dim, text_hidden_dim, output_dim)\n",
    "        elif text_model_type == 'gru':\n",
    "            self.text_model = TextGRU(vocab_size, text_embed_dim, text_hidden_dim, output_dim)\n",
    "        elif text_model_type == 'bert':\n",
    "            self.text_model = TextBERT(output_dim)\n",
    "            \n",
    "        if image_model_type == 'alexnet':\n",
    "            self.image_model = ImageAlexNet(output_dim)\n",
    "        elif image_model_type == 'mobilenet':\n",
    "            self.image_model = ImageMobileNetV1(output_dim)\n",
    "        \n",
    "        self.relu = nn.ReLU(inplace=True)\n",
    "        self.fc = nn.Linear(2 * output_dim, num_classes)\n",
    "\n",
    "    def forward(self, text, attention_mask, image):\n",
    "        if self.text_model_type == 'bert':\n",
    "            text_output = self.text_model(text, attention_mask)\n",
    "        else:\n",
    "            text_output = self.text_model(text)\n",
    "        image_output = self.image_model(image)\n",
    "        combined = torch.cat((text_output, image_output), dim=1)\n",
    "        combined = self.relu(combined)\n",
    "        output = self.fc(combined)\n",
    "        return output"
   ],
   "metadata": {
    "collapsed": false,
    "ExecuteTime": {
     "end_time": "2024-01-26T04:34:52.774306200Z",
     "start_time": "2024-01-26T04:34:52.754301300Z"
    }
   },
   "id": "369d83e9180dee8f"
  },
  {
   "cell_type": "markdown",
   "source": [
    "检查模型准确率"
   ],
   "metadata": {
    "collapsed": false
   },
   "id": "7e83dd19a583b129"
  },
  {
   "cell_type": "code",
   "execution_count": 11,
   "outputs": [],
   "source": [
    "def check_accuracy(model):\n",
    "    num_correct = 0\n",
    "    num_samples = 0\n",
    "    model.eval()\n",
    "    with torch.no_grad():\n",
    "        for text, attention_mask, images, labels in val_loader:\n",
    "            text = text.to(device)\n",
    "            attention_mask = attention_mask.to(device)\n",
    "            images = images.to(device)\n",
    "            labels = labels.to(device)\n",
    "            scores = model(text, attention_mask, images)\n",
    "            _, preds = scores.max(1)\n",
    "            num_correct += (preds == labels).sum()\n",
    "            num_samples += preds.size(0)\n",
    "        acc = float(num_correct) / num_samples\n",
    "        return acc"
   ],
   "metadata": {
    "collapsed": false,
    "ExecuteTime": {
     "end_time": "2024-01-26T04:34:52.786309300Z",
     "start_time": "2024-01-26T04:34:52.766304800Z"
    }
   },
   "id": "7275dcd4b75d4c05"
  },
  {
   "cell_type": "markdown",
   "source": [
    "训练模型"
   ],
   "metadata": {
    "collapsed": false
   },
   "id": "c26b485b990579aa"
  },
  {
   "cell_type": "code",
   "execution_count": 12,
   "outputs": [],
   "source": [
    "def train_model(model, optimizer, epochs):\n",
    "    model.to(device)\n",
    "    model.train()\n",
    "    \n",
    "    train_loss = []\n",
    "    for epoch in range(epochs):\n",
    "        total_loss = 0\n",
    "        for text, attention_mask, images, labels in train_loader:\n",
    "            # 将待更新参数的梯度置为零\n",
    "            optimizer.zero_grad()\n",
    "            \n",
    "            text = text.to(device)\n",
    "            attention_mask = attention_mask.to(device)\n",
    "            images = images.to(device)\n",
    "            labels = labels.to(device)\n",
    "\n",
    "            scores = model(text, attention_mask, images)\n",
    "            \n",
    "            loss = F.cross_entropy(scores, labels)\n",
    "\n",
    "            # 反向传播，计算梯度\n",
    "            loss.backward()\n",
    "\n",
    "            # 利用梯度更新参数\n",
    "            optimizer.step()\n",
    "\n",
    "            total_loss += loss.item()\n",
    "\n",
    "        avg_loss = total_loss / num_train\n",
    "        print(f'Epoch: {epoch + 1}/{epochs}')\n",
    "        print(f'Train Loss: {avg_loss}')\n",
    "        train_loss.append(avg_loss)\n",
    "        \n",
    "    val_acc = check_accuracy(model)\n",
    "    \n",
    "    return model, train_loss, val_acc"
   ],
   "metadata": {
    "collapsed": false,
    "ExecuteTime": {
     "end_time": "2024-01-26T04:34:52.820316500Z",
     "start_time": "2024-01-26T04:34:52.785308800Z"
    }
   },
   "id": "dfa663d6a6592205"
  },
  {
   "cell_type": "markdown",
   "source": [
    "记录训练损失"
   ],
   "metadata": {
    "collapsed": false
   },
   "id": "798f6c3356946326"
  },
  {
   "cell_type": "code",
   "execution_count": 13,
   "outputs": [],
   "source": [
    "train_loss_all = dict()"
   ],
   "metadata": {
    "collapsed": false,
    "ExecuteTime": {
     "end_time": "2024-01-26T04:34:52.820316500Z",
     "start_time": "2024-01-26T04:34:52.799312Z"
    }
   },
   "id": "813d3439ab445a4e"
  },
  {
   "cell_type": "markdown",
   "source": [
    "使用AlexNet作为图像编码模型"
   ],
   "metadata": {
    "collapsed": false
   },
   "id": "bda9c3655c29886d"
  },
  {
   "cell_type": "code",
   "execution_count": 14,
   "outputs": [
    {
     "name": "stdout",
     "output_type": "stream",
     "text": [
      "Epoch: 1/30\n",
      "Train Loss: 0.014431136138737201\n",
      "Epoch: 2/30\n",
      "Train Loss: 0.014216297268867494\n",
      "Epoch: 3/30\n",
      "Train Loss: 0.014158542640507222\n",
      "Epoch: 4/30\n",
      "Train Loss: 0.014225426483899356\n",
      "Epoch: 5/30\n",
      "Train Loss: 0.014123383425176144\n",
      "Epoch: 6/30\n",
      "Train Loss: 0.014098816588521003\n",
      "Epoch: 7/30\n",
      "Train Loss: 0.013946657124906779\n",
      "Epoch: 8/30\n",
      "Train Loss: 0.014070758894085884\n",
      "Epoch: 9/30\n",
      "Train Loss: 0.013992629442363978\n",
      "Epoch: 10/30\n",
      "Train Loss: 0.01399424707517028\n",
      "Epoch: 11/30\n",
      "Train Loss: 0.013877524100244044\n",
      "Epoch: 12/30\n",
      "Train Loss: 0.01405947022140026\n",
      "Epoch: 13/30\n",
      "Train Loss: 0.014001764077693223\n",
      "Epoch: 14/30\n",
      "Train Loss: 0.013895782604813577\n",
      "Epoch: 15/30\n",
      "Train Loss: 0.014033268373459577\n",
      "Epoch: 16/30\n",
      "Train Loss: 0.013911729604005814\n",
      "Epoch: 17/30\n",
      "Train Loss: 0.013859620559960604\n",
      "Epoch: 18/30\n",
      "Train Loss: 0.013875639718025922\n",
      "Epoch: 19/30\n",
      "Train Loss: 0.013850659094750882\n",
      "Epoch: 20/30\n",
      "Train Loss: 0.013790416549891233\n",
      "Epoch: 21/30\n",
      "Train Loss: 0.013871368132531642\n",
      "Epoch: 22/30\n",
      "Train Loss: 0.013799740392714739\n",
      "Epoch: 23/30\n",
      "Train Loss: 0.013833656683564186\n",
      "Epoch: 24/30\n",
      "Train Loss: 0.013784484807401895\n",
      "Epoch: 25/30\n",
      "Train Loss: 0.013759977426379919\n",
      "Epoch: 26/30\n",
      "Train Loss: 0.013685500361025333\n",
      "Epoch: 27/30\n",
      "Train Loss: 0.013597371354699135\n",
      "Epoch: 28/30\n",
      "Train Loss: 0.01378045504912734\n",
      "Epoch: 29/30\n",
      "Train Loss: 0.013539110496640205\n",
      "Epoch: 30/30\n",
      "Train Loss: 0.013529984503984452\n",
      "text_model rnn image_model alexnet lr 5.000000e-04 val accuracy: 0.600000\n",
      "Epoch: 1/30\n",
      "Train Loss: 0.014420023579150438\n",
      "Epoch: 2/30\n",
      "Train Loss: 0.014206751696765423\n",
      "Epoch: 3/30\n",
      "Train Loss: 0.014226468335837126\n",
      "Epoch: 4/30\n",
      "Train Loss: 0.014142792746424675\n",
      "Epoch: 5/30\n",
      "Train Loss: 0.013697499223053456\n",
      "Epoch: 6/30\n",
      "Train Loss: 0.012555407471954822\n",
      "Epoch: 7/30\n",
      "Train Loss: 0.009627251895144582\n",
      "Epoch: 8/30\n",
      "Train Loss: 0.0063775197090581055\n",
      "Epoch: 9/30\n",
      "Train Loss: 0.003994909762404859\n",
      "Epoch: 10/30\n",
      "Train Loss: 0.0025005851476453244\n",
      "Epoch: 11/30\n",
      "Train Loss: 0.0015908051322912798\n",
      "Epoch: 12/30\n",
      "Train Loss: 0.0014819499471923337\n",
      "Epoch: 13/30\n",
      "Train Loss: 0.0011752104636980221\n",
      "Epoch: 14/30\n",
      "Train Loss: 0.0009271932010597084\n",
      "Epoch: 15/30\n",
      "Train Loss: 0.0008607356355787488\n",
      "Epoch: 16/30\n",
      "Train Loss: 0.0008206538535887375\n",
      "Epoch: 17/30\n",
      "Train Loss: 0.0007593610283220187\n",
      "Epoch: 18/30\n",
      "Train Loss: 0.0007508522199350409\n",
      "Epoch: 19/30\n",
      "Train Loss: 0.0007313500174495857\n",
      "Epoch: 20/30\n",
      "Train Loss: 0.0007112323582259705\n",
      "Epoch: 21/30\n",
      "Train Loss: 0.0007128718068997841\n",
      "Epoch: 22/30\n",
      "Train Loss: 0.0007014333544611873\n",
      "Epoch: 23/30\n",
      "Train Loss: 0.0006546801654985757\n",
      "Epoch: 24/30\n",
      "Train Loss: 0.0006711822783108801\n",
      "Epoch: 25/30\n",
      "Train Loss: 0.0006442851019528462\n",
      "Epoch: 26/30\n",
      "Train Loss: 0.0006690789403728559\n",
      "Epoch: 27/30\n",
      "Train Loss: 0.0008666513534262777\n",
      "Epoch: 28/30\n",
      "Train Loss: 0.0008276610460598022\n",
      "Epoch: 29/30\n",
      "Train Loss: 0.0009244078314804938\n",
      "Epoch: 30/30\n",
      "Train Loss: 0.0010868937484337948\n",
      "text_model lstm image_model alexnet lr 5.000000e-04 val accuracy: 0.590000\n",
      "Epoch: 1/30\n",
      "Train Loss: 0.014385566599667072\n",
      "Epoch: 2/30\n",
      "Train Loss: 0.014146652761846781\n",
      "Epoch: 3/30\n",
      "Train Loss: 0.013495319914072752\n",
      "Epoch: 4/30\n",
      "Train Loss: 0.011480308948084711\n",
      "Epoch: 5/30\n",
      "Train Loss: 0.008716966593638062\n",
      "Epoch: 6/30\n",
      "Train Loss: 0.005917612193152308\n",
      "Epoch: 7/30\n",
      "Train Loss: 0.003420871577691287\n",
      "Epoch: 8/30\n",
      "Train Loss: 0.0019281746039632708\n",
      "Epoch: 9/30\n",
      "Train Loss: 0.0015708982967771589\n",
      "Epoch: 10/30\n",
      "Train Loss: 0.0013242116011679171\n",
      "Epoch: 11/30\n",
      "Train Loss: 0.001074871111777611\n",
      "Epoch: 12/30\n",
      "Train Loss: 0.0010640853014774621\n",
      "Epoch: 13/30\n",
      "Train Loss: 0.0008936317646293901\n",
      "Epoch: 14/30\n",
      "Train Loss: 0.0009154045009199763\n",
      "Epoch: 15/30\n",
      "Train Loss: 0.0008449150621891022\n",
      "Epoch: 16/30\n",
      "Train Loss: 0.0007880204123648583\n",
      "Epoch: 17/30\n",
      "Train Loss: 0.0007722759978059913\n",
      "Epoch: 18/30\n",
      "Train Loss: 0.0007540934107964859\n",
      "Epoch: 19/30\n",
      "Train Loss: 0.0007143652239574294\n",
      "Epoch: 20/30\n",
      "Train Loss: 0.000725073641515337\n",
      "Epoch: 21/30\n",
      "Train Loss: 0.0006935465387687145\n",
      "Epoch: 22/30\n",
      "Train Loss: 0.0006836191161892202\n",
      "Epoch: 23/30\n",
      "Train Loss: 0.0006872202914928494\n",
      "Epoch: 24/30\n",
      "Train Loss: 0.0006654604777941131\n",
      "Epoch: 25/30\n",
      "Train Loss: 0.0006598679511080263\n",
      "Epoch: 26/30\n",
      "Train Loss: 0.000650027616547959\n",
      "Epoch: 27/30\n",
      "Train Loss: 0.000655033796265343\n",
      "Epoch: 28/30\n",
      "Train Loss: 0.0006931237657954625\n",
      "Epoch: 29/30\n",
      "Train Loss: 0.0011666221533960198\n",
      "Epoch: 30/30\n",
      "Train Loss: 0.00179105214192532\n",
      "text_model gru image_model alexnet lr 5.000000e-04 val accuracy: 0.540000\n",
      "best validation accuracy achieved:\n",
      "text_model rnn image_model alexnet lr 5.000000e-04 val accuracy: 0.600000\n"
     ]
    }
   ],
   "source": [
    "best_model = None\n",
    "best_text_model = None\n",
    "best_image_model = None\n",
    "best_val_acc = -1\n",
    "\n",
    "learning_rate = 5e-4\n",
    "vocab_size = len(vocab)\n",
    "text_embed_dim = 256\n",
    "text_hidden_dim = 512\n",
    "output_dim = 128\n",
    "num_classes = 3\n",
    "\n",
    "text_model_types = ['rnn', 'lstm', 'gru', 'bert']\n",
    "image_model_types = ['alexnet']\n",
    "\n",
    "for text_model_type in text_model_types:\n",
    "    for image_model_type in image_model_types:\n",
    "        model = MultimodalModel(text_model_type, image_model_type, vocab_size, text_embed_dim, text_hidden_dim, output_dim, num_classes)\n",
    "        optimizer = optim.Adam(model.parameters(), lr=learning_rate)\n",
    "\n",
    "        model, train_loss, val_acc = train_model(model, optimizer, epochs=30)\n",
    "        key = text_model_type.upper() + '/AlexNet'\n",
    "        train_loss_all[key] = train_loss\n",
    "        if val_acc > best_val_acc:\n",
    "            # best_model = model\n",
    "            best_val_acc = val_acc\n",
    "            best_text_model = text_model_type\n",
    "            best_image_model = image_model_type\n",
    "        print('text_model %s image_model %s lr %e val accuracy: %f' % (text_model_type,image_model_type, learning_rate, val_acc))\n",
    "        \n",
    "print('best validation accuracy achieved:')\n",
    "print('text_model %s image_model %s lr %e val accuracy: %f' % (best_text_model, best_image_model, learning_rate, best_val_acc))\n",
    "# text_model gru image_model alexnet lr 5.000000e-04 val accuracy: 0.618750"
   ],
   "metadata": {
    "collapsed": false,
    "ExecuteTime": {
     "end_time": "2024-01-26T07:18:26.190915500Z",
     "start_time": "2024-01-26T04:34:52.817316100Z"
    }
   },
   "id": "4e07cc1d3c79c9c3"
  },
  {
   "cell_type": "markdown",
   "source": [
    "使用MobileNet作为图像编码模型"
   ],
   "metadata": {
    "collapsed": false
   },
   "id": "3689cda19bffde45"
  },
  {
   "cell_type": "code",
   "execution_count": 15,
   "outputs": [
    {
     "name": "stdout",
     "output_type": "stream",
     "text": [
      "Epoch: 1/30\n",
      "Train Loss: 0.014279242120683194\n",
      "Epoch: 2/30\n",
      "Train Loss: 0.013438641875982284\n",
      "Epoch: 3/30\n",
      "Train Loss: 0.010440050642937421\n",
      "Epoch: 4/30\n",
      "Train Loss: 0.005953940534964204\n",
      "Epoch: 5/30\n",
      "Train Loss: 0.003485546128358692\n",
      "Epoch: 6/30\n",
      "Train Loss: 0.0023833270336035637\n",
      "Epoch: 7/30\n",
      "Train Loss: 0.00166842196485959\n",
      "Epoch: 8/30\n",
      "Train Loss: 0.0015151891985442489\n",
      "Epoch: 9/30\n",
      "Train Loss: 0.0014432930806651712\n",
      "Epoch: 10/30\n",
      "Train Loss: 0.0012320127079146915\n",
      "Epoch: 11/30\n",
      "Train Loss: 0.0011731591235729865\n",
      "Epoch: 12/30\n",
      "Train Loss: 0.0013455094350501894\n",
      "Epoch: 13/30\n",
      "Train Loss: 0.001358214297797531\n",
      "Epoch: 14/30\n",
      "Train Loss: 0.0015172074371366763\n",
      "Epoch: 15/30\n",
      "Train Loss: 0.0010442371442331933\n",
      "Epoch: 16/30\n",
      "Train Loss: 0.0007865012313413899\n",
      "Epoch: 17/30\n",
      "Train Loss: 0.0008024136829772033\n",
      "Epoch: 18/30\n",
      "Train Loss: 0.001481728188955458\n",
      "Epoch: 19/30\n",
      "Train Loss: 0.0018879955500597134\n",
      "Epoch: 20/30\n",
      "Train Loss: 0.0011146739730611443\n",
      "Epoch: 21/30\n",
      "Train Loss: 0.0006123465720156673\n",
      "Epoch: 22/30\n",
      "Train Loss: 0.0005207383563538315\n",
      "Epoch: 23/30\n",
      "Train Loss: 0.00046871098020346836\n",
      "Epoch: 24/30\n",
      "Train Loss: 0.0005617916700794012\n",
      "Epoch: 25/30\n",
      "Train Loss: 0.0009446663178823655\n",
      "Epoch: 26/30\n",
      "Train Loss: 0.0008419593214057386\n",
      "Epoch: 27/30\n",
      "Train Loss: 0.0008868096017977222\n",
      "Epoch: 28/30\n",
      "Train Loss: 0.00073083622744889\n",
      "Epoch: 29/30\n",
      "Train Loss: 0.000720430794171989\n",
      "Epoch: 30/30\n",
      "Train Loss: 0.0007302291919040727\n",
      "text_model rnn image_model mobilenet lr 5.000000e-04 val accuracy: 0.518750\n",
      "Epoch: 1/30\n",
      "Train Loss: 0.014071307200938464\n",
      "Epoch: 2/30\n",
      "Train Loss: 0.013430051095783711\n",
      "Epoch: 3/30\n",
      "Train Loss: 0.011350139621645211\n",
      "Epoch: 4/30\n",
      "Train Loss: 0.006670984625816345\n",
      "Epoch: 5/30\n",
      "Train Loss: 0.004454408446326852\n",
      "Epoch: 6/30\n",
      "Train Loss: 0.0029796218359842896\n",
      "Epoch: 7/30\n",
      "Train Loss: 0.0014258787891594693\n",
      "Epoch: 8/30\n",
      "Train Loss: 0.0009288121561985463\n",
      "Epoch: 9/30\n",
      "Train Loss: 0.000813443014776567\n",
      "Epoch: 10/30\n",
      "Train Loss: 0.0008803735257242807\n",
      "Epoch: 11/30\n",
      "Train Loss: 0.0006200845635612496\n",
      "Epoch: 12/30\n",
      "Train Loss: 0.0008491627647890709\n",
      "Epoch: 13/30\n",
      "Train Loss: 0.0011393521662103013\n",
      "Epoch: 14/30\n",
      "Train Loss: 0.0009626212014700286\n",
      "Epoch: 15/30\n",
      "Train Loss: 0.0009409073562710546\n",
      "Epoch: 16/30\n",
      "Train Loss: 0.0008329161694564391\n",
      "Epoch: 17/30\n",
      "Train Loss: 0.0005451043266657507\n",
      "Epoch: 18/30\n",
      "Train Loss: 0.0004171493787725922\n",
      "Epoch: 19/30\n",
      "Train Loss: 0.0003463551828099298\n",
      "Epoch: 20/30\n",
      "Train Loss: 0.00023591295179357984\n",
      "Epoch: 21/30\n",
      "Train Loss: 0.00022889965415743064\n",
      "Epoch: 22/30\n",
      "Train Loss: 0.000173205367382252\n",
      "Epoch: 23/30\n",
      "Train Loss: 0.0001562177441564927\n",
      "Epoch: 24/30\n",
      "Train Loss: 0.00017824058502810658\n",
      "Epoch: 25/30\n",
      "Train Loss: 0.0001579080391275056\n",
      "Epoch: 26/30\n",
      "Train Loss: 0.0001507943164961034\n",
      "Epoch: 27/30\n",
      "Train Loss: 0.0001409070819909175\n",
      "Epoch: 28/30\n",
      "Train Loss: 0.00016473010807203537\n",
      "Epoch: 29/30\n",
      "Train Loss: 0.00015164915325613037\n",
      "Epoch: 30/30\n",
      "Train Loss: 0.00012991485452403139\n",
      "text_model lstm image_model mobilenet lr 5.000000e-04 val accuracy: 0.577500\n",
      "Epoch: 1/30\n",
      "Train Loss: 0.014276552647352218\n",
      "Epoch: 2/30\n",
      "Train Loss: 0.013582063652575017\n",
      "Epoch: 3/30\n",
      "Train Loss: 0.011983905639499425\n",
      "Epoch: 4/30\n",
      "Train Loss: 0.007831735797226428\n",
      "Epoch: 5/30\n",
      "Train Loss: 0.004934940566308796\n",
      "Epoch: 6/30\n",
      "Train Loss: 0.002257893711794168\n",
      "Epoch: 7/30\n",
      "Train Loss: 0.0014598417357774452\n",
      "Epoch: 8/30\n",
      "Train Loss: 0.0009663737684604712\n",
      "Epoch: 9/30\n",
      "Train Loss: 0.0006452280214580241\n",
      "Epoch: 10/30\n",
      "Train Loss: 0.0004688371226075105\n",
      "Epoch: 11/30\n",
      "Train Loss: 0.00036840889570157744\n",
      "Epoch: 12/30\n",
      "Train Loss: 0.0002872713488250156\n",
      "Epoch: 13/30\n",
      "Train Loss: 0.0003411821761073952\n",
      "Epoch: 14/30\n",
      "Train Loss: 0.00024616586762931546\n",
      "Epoch: 15/30\n",
      "Train Loss: 0.0002449466495818342\n",
      "Epoch: 16/30\n",
      "Train Loss: 0.00023642591968382477\n",
      "Epoch: 17/30\n",
      "Train Loss: 0.00021740558389865327\n",
      "Epoch: 18/30\n",
      "Train Loss: 0.0002152953182667261\n",
      "Epoch: 19/30\n",
      "Train Loss: 0.00022576398145247368\n",
      "Epoch: 20/30\n",
      "Train Loss: 0.0001974203084319015\n",
      "Epoch: 21/30\n",
      "Train Loss: 0.00021161112287700233\n",
      "Epoch: 22/30\n",
      "Train Loss: 0.00019036689990571177\n",
      "Epoch: 23/30\n",
      "Train Loss: 0.00018795857142322347\n",
      "Epoch: 24/30\n",
      "Train Loss: 0.0001977852274194447\n",
      "Epoch: 25/30\n",
      "Train Loss: 0.00016639914178540494\n",
      "Epoch: 26/30\n",
      "Train Loss: 0.00018701636207879346\n",
      "Epoch: 27/30\n",
      "Train Loss: 0.00017683016635601235\n",
      "Epoch: 28/30\n",
      "Train Loss: 0.00018289862681740486\n",
      "Epoch: 29/30\n",
      "Train Loss: 0.00017402713228875655\n",
      "Epoch: 30/30\n",
      "Train Loss: 0.00016143167439167883\n",
      "text_model gru image_model mobilenet lr 5.000000e-04 val accuracy: 0.583750\n",
      "best validation accuracy achieved:\n",
      "text_model gru image_model mobilenet lr 5.000000e-04 val accuracy: 0.583750\n"
     ]
    }
   ],
   "source": [
    "best_model = None\n",
    "best_text_model = None\n",
    "best_image_model = None\n",
    "best_val_acc = -1\n",
    "\n",
    "learning_rate = 5e-4\n",
    "vocab_size = len(vocab)\n",
    "text_embed_dim = 256\n",
    "text_hidden_dim = 512\n",
    "output_dim = 128\n",
    "num_classes = 3\n",
    "\n",
    "text_model_types = ['rnn', 'lstm', 'gru', 'bert']\n",
    "image_model_types = ['mobilenet']\n",
    "\n",
    "for text_model_type in text_model_types:\n",
    "    for image_model_type in image_model_types:\n",
    "        model = MultimodalModel(text_model_type, image_model_type, vocab_size, text_embed_dim, text_hidden_dim, output_dim, num_classes)\n",
    "        optimizer = optim.Adam(model.parameters(), lr=learning_rate)\n",
    "\n",
    "        model, train_loss, val_acc = train_model(model, optimizer, epochs=30)\n",
    "        key = text_model_type.upper() + '/MobileNet'\n",
    "        train_loss_all[key] = train_loss\n",
    "        if val_acc > best_val_acc:\n",
    "            # best_model = model\n",
    "            best_val_acc = val_acc\n",
    "            best_text_model = text_model_type\n",
    "            best_image_model = image_model_type\n",
    "        print('text_model %s image_model %s lr %e val accuracy: %f' % (text_model_type,image_model_type, learning_rate, val_acc))\n",
    "        \n",
    "print('best validation accuracy achieved:')\n",
    "print('text_model %s image_model %s lr %e val accuracy: %f' % (best_text_model, best_image_model, learning_rate, best_val_acc))\n",
    "# text_model gru image_model mobilenet lr 5.000000e-04 val accuracy: 0.590000"
   ],
   "metadata": {
    "collapsed": false,
    "ExecuteTime": {
     "end_time": "2024-01-26T08:02:51.897341700Z",
     "start_time": "2024-01-26T07:19:10.194829200Z"
    }
   },
   "id": "e1b857921cf3810d"
  },
  {
   "cell_type": "markdown",
   "source": [
    "预测测试集的标签并补全保存"
   ],
   "metadata": {
    "collapsed": false
   },
   "id": "cb7d403971eeabeb"
  },
  {
   "cell_type": "code",
   "execution_count": null,
   "outputs": [],
   "source": [
    "def predict(model):\n",
    "    all_preds = []\n",
    "    \n",
    "    model.eval()\n",
    "    with torch.no_grad():\n",
    "        for text, attention_mask, images, labels in test_loader:\n",
    "            text = text.to(device)\n",
    "            attention_mask = attention_mask.to(device)\n",
    "            images = images.to(device)\n",
    "            scores = model(text, attention_mask, images)\n",
    "            _, preds = scores.max(1)\n",
    "            all_preds.append(preds.cpu().numpy())\n",
    "            \n",
    "    tag = np.concatenate(all_preds)\n",
    "    label_mapping = {0: 'negative', 1: 'neutral', 2: 'positive'}  # 标签映射\n",
    "    tag_mapping = []\n",
    "    for i in range(len(tag)):\n",
    "        tag_mapping.append(label_mapping[tag[i]])\n",
    "    \n",
    "    test_df = pd.read_csv(test_set_path, index_col=False)\n",
    "    test_df['tag'] = tag_mapping\n",
    "    result_path = '../result/result_early_fusion.txt'\n",
    "    test_df.to_csv(result_path, index=False)"
   ],
   "metadata": {
    "collapsed": false
   },
   "id": "7bbb5bdefac8bc36"
  },
  {
   "cell_type": "code",
   "execution_count": null,
   "outputs": [],
   "source": [
    "predict(best_model)"
   ],
   "metadata": {
    "collapsed": false
   },
   "id": "bd64a35d7737c8c3"
  },
  {
   "cell_type": "markdown",
   "source": [
    "# 绘制图像"
   ],
   "metadata": {
    "collapsed": false
   },
   "id": "d9b6f07451b8e1c5"
  },
  {
   "cell_type": "code",
   "execution_count": 16,
   "outputs": [],
   "source": [
    "# 绘制训练损失变化图\n",
    "def plot_train_loss(train_loss, path):\n",
    "    model_types = ['RNN/AlexNet', 'LSTM/AlexNet', 'GRU/AlexNet', 'BERT/AlexNet',\n",
    "                   'RNN/MobileNet', 'LSTM/MobileNet', 'GRU/MobileNet', 'BERT/MobileNet']\n",
    "    epoch = np.arange(1, 31)\n",
    "    \n",
    "    for i in range(len(model_types)):\n",
    "        plt.plot(epoch, train_loss[model_types[i]], label=model_types[i])\n",
    "    \n",
    "    plt.legend()\n",
    "    plt.title('Train Loss for Different Multimodal Models')\n",
    "    plt.xlabel('Epoch')\n",
    "    plt.ylabel('Train Loss')\n",
    "    plt.savefig(path)"
   ],
   "metadata": {
    "collapsed": false,
    "ExecuteTime": {
     "end_time": "2024-01-25T10:29:24.739636700Z",
     "start_time": "2024-01-25T10:29:24.729634Z"
    }
   },
   "id": "d9dcfd33c9e8bc65"
  },
  {
   "cell_type": "code",
   "execution_count": 18,
   "outputs": [],
   "source": [
    "# 绘制各模型在验证集上的预测准确率图\n",
    "def plot_val_acc(acc_values, path):    \n",
    "    model_types = ['RNN/AlexNet', 'LSTM/AlexNet', 'GRU/AlexNet', 'BERT/AlexNet',\n",
    "                   'RNN/MobileNet', 'LSTM/MobileNet', 'GRU/MobileNet', 'BERT/MobileNet']\n",
    "    \n",
    "    acc_mean = np.mean(acc_values, axis=1)\n",
    "    acc_std = np.std(acc_values, axis=1)\n",
    "    plt.errorbar(model_types, acc_mean, yerr=acc_std, fmt='o-')\n",
    "    \n",
    "    plt.xticks(rotation=30)\n",
    "    plt.xlabel('Model Type')\n",
    "    plt.ylabel('Validation Accuracy')\n",
    "    plt.title('Validation Accuracy for Different Multimodal Models')\n",
    "    plt.savefig(path, bbox_inches='tight')"
   ],
   "metadata": {
    "collapsed": false,
    "ExecuteTime": {
     "end_time": "2024-01-26T08:17:24.991925900Z",
     "start_time": "2024-01-26T08:17:24.972371500Z"
    }
   },
   "id": "f82b92ede5f9af02"
  },
  {
   "cell_type": "code",
   "execution_count": 17,
   "outputs": [
    {
     "data": {
      "text/plain": "<Figure size 640x480 with 1 Axes>",
      "image/png": "[encoded data removed]"
     },
     "metadata": {},
     "output_type": "display_data"
    }
   ],
   "source": [
    "train_loss_all['BERT/AlexNet'] = [0.0144316316395998, 0.014209425449371338, 0.014201303068548441, 0.014175209496170283, 0.014229300823062658, 0.014221064671874046, 0.014202858041971921, 0.014211858678609133, 0.014184899870306253, 0.014191989786922932, 0.014212284870445728, 0.014206120669841766, 0.014235711339861155, 0.015236162897199392, 0.014647097308188677, 0.014455397948622703, 0.01426804395392537, 0.014289715848863125, 0.014271138906478882, 0.014197083376348018, 0.014210193008184433, 0.014194745030254126, 0.014195105098187923, 0.014218574985861779, 0.014202489759773016, 0.014190802201628685, 0.014194680247455835, 0.014206053670495749, 0.014173309709876776, 0.014217128586024046]\n",
    "\n",
    "train_loss_all['BERT/MobileNet'] = [0.014330892153084277, 0.013814726769924164, 0.01243550430983305, 0.009485433641821146, 0.006629657512530684, 0.0044272555783391, 0.0022027908981544896, 0.0015263437834801153, 0.0016950614820234477, 0.0013532747869612648, 0.001120116364036221, 0.0013124868331942708, 0.0011843169768690131, 0.0010690005648939405, 0.0014451606104557869, 0.0014748587619396857, 0.0012656640107161366, 0.0008313027591793798, 0.0009459162596613168, 0.0008600907727668528, 0.0007185052969725802, 0.0008891155332094059, 0.0008737442122219363, 0.001067854681168683, 0.0008028388774255291, 0.000741446554166032, 0.0005662768473121104, 0.00042345819259935523, 0.00039930234554049095, 0.00044627782448515064]\n",
    "\n",
    "fig1_path = \"../graph/Train Loss for Different Multimodal Models.png\"\n",
    "plot_train_loss(train_loss_all, fig1_path)"
   ],
   "metadata": {
    "collapsed": false,
    "ExecuteTime": {
     "end_time": "2024-01-25T10:29:38.914328Z",
     "start_time": "2024-01-25T10:29:38.530077800Z"
    }
   },
   "id": "2a2e7f35069c4791"
  },
  {
   "cell_type": "code",
   "execution_count": 19,
   "outputs": [
    {
     "data": {
      "text/plain": "<Figure size 640x480 with 1 Axes>",
      "image/png": "[encoded data removed]"
     },
     "metadata": {},
     "output_type": "display_data"
    }
   ],
   "source": [
    "val_acc_values = np.array([[59.875, 60.125, 60.250, 58.875, 60.000],\n",
    "                           [57.375, 57.250, 56.000, 57.125, 59.000],\n",
    "                           [61.875, 59.625, 60.250, 58.000, 54.000],\n",
    "                           [60.375, 60.375, 60.375, 60.375, 60.375],\n",
    "                           [53.125, 49.375, 52.375, 46.000, 51.875],\n",
    "                           [54.250, 54.500, 56.875, 50.250, 57.750],\n",
    "                           [58.500, 58.375, 59.000, 55.375, 58.375],\n",
    "                           [52.500, 53.125, 55.375, 53.750, 53.750]])\n",
    "\n",
    "fig2_path = \"../graph/Validation Accuracy for Different Multimodal Models.png\"\n",
    "plot_val_acc(val_acc_values, fig2_path)"
   ],
   "metadata": {
    "collapsed": false,
    "ExecuteTime": {
     "end_time": "2024-01-26T08:17:28.451839400Z",
     "start_time": "2024-01-26T08:17:28.204304400Z"
    }
   },
   "id": "bae48afe27487a39"
  },
  {
   "cell_type": "code",
   "execution_count": 6,
   "outputs": [
    {
     "data": {
      "text/plain": "<Figure size 640x480 with 1 Axes>",
      "image/png": "[encoded data removed]"
     },
     "metadata": {},
     "output_type": "display_data"
    }
   ],
   "source": [
    "model_types = ['Text Model', 'Image Model', 'Early Fusion', 'Late Fusion']\n",
    "val_acc_values = [59.000, 56.625, 60.250, 60.175]\n",
    "\n",
    "plt.bar(model_types, val_acc_values)\n",
    "plt.ylim(50, 62)\n",
    "\n",
    "plt.title('Ablation Experiment(RNN/AlexNet)')\n",
    "plt.xlabel('Model Type')\n",
    "plt.ylabel('Validation Accuracy')\n",
    "\n",
    "fig3_path = \"../graph/Ablation Experiment(RNN AlexNet).png\"\n",
    "plt.savefig(fig3_path)"
   ],
   "metadata": {
    "collapsed": false,
    "ExecuteTime": {
     "end_time": "2024-01-28T06:11:21.100322200Z",
     "start_time": "2024-01-28T06:11:20.944343900Z"
    }
   },
   "id": "26f44505d02421e9"
  },
  {
   "cell_type": "code",
   "execution_count": 7,
   "outputs": [
    {
     "data": {
      "text/plain": "<Figure size 640x480 with 1 Axes>",
      "image/png": "[encoded data removed]"
     },
     "metadata": {},
     "output_type": "display_data"
    }
   ],
   "source": [
    "model_types = ['Text Model', 'Image Model', 'Early Fusion', 'Late Fusion']\n",
    "val_acc_values = [58.500, 54.375, 59.000, 58.750]\n",
    "\n",
    "plt.bar(model_types, val_acc_values)\n",
    "plt.ylim(50, 60)\n",
    "\n",
    "plt.title('Ablation Experiment(GRU/MobileNet)')\n",
    "plt.xlabel('Model Type')\n",
    "plt.ylabel('Validation Accuracy')\n",
    "\n",
    "fig4_path = \"../graph/Ablation Experiment(GRU MobileNet).png\"\n",
    "plt.savefig(fig4_path)"
   ],
   "metadata": {
    "collapsed": false,
    "ExecuteTime": {
     "end_time": "2024-01-28T06:11:50.778651300Z",
     "start_time": "2024-01-28T06:11:50.629494Z"
    }
   },
   "id": "51e9df249449bf3a"
  }
 ],
 "metadata": {
  "kernelspec": {
   "display_name": "Python 3",
   "language": "python",
   "name": "python3"
  },
  "language_info": {
   "codemirror_mode": {
    "name": "ipython",
    "version": 2
   },
   "file_extension": ".py",
   "mimetype": "text/x-python",
   "name": "python",
   "nbconvert_exporter": "python",
   "pygments_lexer": "ipython2",
   "version": "2.7.6"
  }
 },
 "nbformat": 4,
 "nbformat_minor": 5
}
