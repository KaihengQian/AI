{
 "cells": [
  {
   "cell_type": "markdown",
   "source": [
    "# 实验准备"
   ],
   "metadata": {
    "collapsed": false
   },
   "id": "a902fcebdc223667"
  },
  {
   "cell_type": "code",
   "execution_count": 1,
   "outputs": [],
   "source": [
    "import numpy as np\n",
    "import pandas as pd\n",
    "import matplotlib.pyplot as plt\n",
    "\n",
    "import torch\n",
    "import torch.nn as nn\n",
    "import torch.optim as optim\n",
    "from sklearn.model_selection import train_test_split\n",
    "from torch.utils.data import Dataset, DataLoader\n",
    "from torchvision import transforms\n",
    "import torch.nn.functional as F\n",
    "from torch.nn.utils.rnn import pad_sequence\n",
    "from collections import defaultdict, OrderedDict\n",
    "\n",
    "import nltk\n",
    "from nltk.tokenize import word_tokenize\n",
    "from PIL import Image\n",
    "\n",
    "from transformers import BertModel"
   ],
   "metadata": {
    "collapsed": false,
    "ExecuteTime": {
     "end_time": "2024-01-28T01:56:42.664339300Z",
     "start_time": "2024-01-28T01:56:34.321280500Z"
    }
   },
   "id": "fd45712d8471b68a"
  },
  {
   "cell_type": "code",
   "execution_count": 2,
   "outputs": [
    {
     "name": "stderr",
     "output_type": "stream",
     "text": [
      "[nltk_data] Error loading punkt: [WinError 10060]\n",
      "[nltk_data]     由于连接方在一段时间后没有正确答复或连接的主机没有反应，连接尝试失败。\n"
     ]
    },
    {
     "data": {
      "text/plain": "False"
     },
     "execution_count": 2,
     "metadata": {},
     "output_type": "execute_result"
    }
   ],
   "source": [
    "nltk.download('punkt')"
   ],
   "metadata": {
    "collapsed": false,
    "ExecuteTime": {
     "end_time": "2024-01-28T01:57:24.303598300Z",
     "start_time": "2024-01-28T01:56:42.668340500Z"
    }
   },
   "id": "e6f7dc16011be58a"
  },
  {
   "cell_type": "markdown",
   "source": [
    "如果计算机安装有CUDA，则使用CUDA进行接下来的全部训练，否则使用CPU"
   ],
   "metadata": {
    "collapsed": false
   },
   "id": "cd586d9a675d3c72"
  },
  {
   "cell_type": "code",
   "execution_count": 3,
   "outputs": [
    {
     "name": "stdout",
     "output_type": "stream",
     "text": [
      "using device: cuda\n"
     ]
    }
   ],
   "source": [
    "# 如果计算机安装有CUDA，则使用CUDA进行接下来的全部训练，否则使用CPU\n",
    "if torch.cuda.is_available():\n",
    "    device = torch.device('cuda')\n",
    "else:\n",
    "    device = torch.device('cpu')\n",
    "print('using device:', device)"
   ],
   "metadata": {
    "collapsed": false,
    "ExecuteTime": {
     "end_time": "2024-01-28T01:57:24.366153200Z",
     "start_time": "2024-01-28T01:57:24.304598300Z"
    }
   },
   "id": "652fc857b3e56842"
  },
  {
   "cell_type": "markdown",
   "source": [
    "根据训练数据查看文本的长度分布"
   ],
   "metadata": {
    "collapsed": false
   },
   "id": "b771f8745533f1e6"
  },
  {
   "cell_type": "code",
   "execution_count": 4,
   "outputs": [
    {
     "data": {
      "text/plain": "<Figure size 640x480 with 1 Axes>",
      "image/png": "[encoded data removed]"
     },
     "metadata": {},
     "output_type": "display_data"
    }
   ],
   "source": [
    "train_set_path = '../dataset/train.txt'\n",
    "text_path = '../dataset/data/'\n",
    "\n",
    "train_df = pd.read_csv(train_set_path, index_col=False)\n",
    "guids = train_df['guid'].values\n",
    "\n",
    "train_text = []\n",
    "train_text_len = []\n",
    "\n",
    "for guid in guids:\n",
    "    path = text_path + str(guid) + '.txt'\n",
    "    with open(path, 'r', encoding='utf-8', errors='ignore') as f:\n",
    "        text = [line.strip() for line in f.readlines() if line.strip()]  # 去除空行\n",
    "    text = ' '.join(text)\n",
    "        \n",
    "    tokens = word_tokenize(text)  # 分词\n",
    "    tokens = [word for word in tokens if word.isalpha()]  # 去除标点符号和数字\n",
    "    tokens = [word.lower() for word in tokens]  # 转换为小写字母\n",
    "    \n",
    "    train_text.append(tokens)\n",
    "    train_text_len.append(len(tokens))\n",
    "\n",
    "plt.hist(train_text_len, bins=80)\n",
    "plt.title('Distribution of Text Length')\n",
    "plt.xlabel('Length')\n",
    "plt.ylabel('Count')\n",
    "\n",
    "fig_path = \"../graph/Distribution of Text Length\"\n",
    "plt.savefig(fig_path)"
   ],
   "metadata": {
    "collapsed": false,
    "ExecuteTime": {
     "end_time": "2024-01-28T01:57:26.403895800Z",
     "start_time": "2024-01-28T01:57:24.369154200Z"
    }
   },
   "id": "f23898dbe9c8a16d"
  },
  {
   "cell_type": "markdown",
   "source": [
    "根据训练数据建立词表"
   ],
   "metadata": {
    "collapsed": false
   },
   "id": "8ec0348705a57f7c"
  },
  {
   "cell_type": "code",
   "execution_count": 5,
   "outputs": [],
   "source": [
    "class Vocab:\n",
    "    def __init__(self, text, min_freq=1, reserved_tokens=None):\n",
    "        self.idx2token = list()\n",
    "        self.token2idx = {}\n",
    "        token_freqs = defaultdict(int)\n",
    "        self.UNK_TOKEN = '<UNK>'\n",
    "        \n",
    "        for sentence in text:\n",
    "            for token in sentence:\n",
    "                token_freqs[token] += 1\n",
    "                \n",
    "        unique_tokens = [self.UNK_TOKEN]\n",
    "        if reserved_tokens:\n",
    "            unique_tokens += reserved_tokens\n",
    "        # 过滤掉出现频率过低的词\n",
    "        unique_tokens += [token for token, freq in token_freqs.items() if freq >= min_freq]\n",
    "\n",
    "        for token in unique_tokens:\n",
    "            self.idx2token.append(token)\n",
    "            self.token2idx[token] = len(self.idx2token) - 1\n",
    "        self.unk = self.token2idx[self.UNK_TOKEN]\n",
    "\n",
    "    def __len__(self):\n",
    "        return len(self.idx2token)\n",
    "\n",
    "    def __getitem__(self, token):\n",
    "        return self.token2idx.get(token, self.unk)\n",
    "\n",
    "    def convert_tokens_to_ids(self, tokens):\n",
    "        return [self[token] for token in tokens]\n",
    "\n",
    "    def convert_ids_to_tokens(self, ids):\n",
    "        return [self.idx2token[idx] for idx in ids]\n",
    "\n",
    "PAD_TOKEN = '<PAD>'\n",
    "reserved_tokens = [PAD_TOKEN]\n",
    "vocab = Vocab(train_text, reserved_tokens=reserved_tokens)"
   ],
   "metadata": {
    "collapsed": false,
    "ExecuteTime": {
     "end_time": "2024-01-28T01:57:26.474451300Z",
     "start_time": "2024-01-28T01:57:26.408466Z"
    }
   },
   "id": "5e6832d88d269167"
  },
  {
   "cell_type": "markdown",
   "source": [
    "划分训练集、验证集、测试集，并转换为Dataloader对象"
   ],
   "metadata": {
    "collapsed": false
   },
   "id": "7a112833c5f90618"
  },
  {
   "cell_type": "code",
   "execution_count": 6,
   "outputs": [
    {
     "name": "stdout",
     "output_type": "stream",
     "text": [
      "X_train:  3200\n",
      "X_val:  800\n",
      "X_test:  511\n"
     ]
    }
   ],
   "source": [
    "class SentimentDataset(Dataset):\n",
    "    def __init__(self, dataframe, text_path, image_path, transform=None):\n",
    "        self.guids = dataframe['guid'].values\n",
    "        self.tags = dataframe['tag'].values\n",
    "        self.text_path = text_path\n",
    "        self.image_path = image_path\n",
    "        self.transform = transform\n",
    "        self.label_mapping = {'negative': 0, 'neutral': 1, 'positive': 2}  # 标签映射\n",
    "\n",
    "    def __len__(self):\n",
    "        return len(self.guids)\n",
    "\n",
    "    def __getitem__(self, index):\n",
    "        guid = self.guids[index]\n",
    "\n",
    "        text_path = self.text_path + str(guid) + '.txt'\n",
    "        with open(text_path, 'r', encoding='utf-8', errors='ignore') as f:\n",
    "            text = [line.strip() for line in f.readlines() if line.strip()]  # 去除空行\n",
    "        text = ' '.join(text)\n",
    "        \n",
    "        tokens = word_tokenize(text)  # 分词\n",
    "        tokens = [word for word in tokens if word.isalpha()]  # 去除标点符号和数字\n",
    "        tokens = [word.lower() for word in tokens]  # 转换为小写字母     \n",
    "        ids = vocab.convert_tokens_to_ids(tokens)  # 利用词表进行转换\n",
    "        ids = torch.tensor(ids, dtype=torch.long)\n",
    "\n",
    "        image_path = self.image_path + str(guid) + '.jpg'\n",
    "        image = Image.open(image_path).convert('RGB')\n",
    "        if self.transform:\n",
    "            image = self.transform(image)\n",
    "            \n",
    "        tag = self.tags[index]\n",
    "        if pd.isna(tag):\n",
    "            label = 3\n",
    "        else:\n",
    "            label = self.label_mapping[tag]\n",
    "\n",
    "        return ids, image, label\n",
    "    \n",
    "def collate_fn(batch):\n",
    "    text = [sample[0] for sample in batch]\n",
    "    padded_text = pad_sequence(text, batch_first=True, padding_value=vocab[PAD_TOKEN])\n",
    "    attention_mask = (padded_text != vocab[PAD_TOKEN]).type(torch.float32)\n",
    "    \n",
    "    images = torch.stack([sample[1] for sample in batch])\n",
    "    \n",
    "    labels = torch.tensor([sample[2] for sample in batch], dtype=torch.long)\n",
    "    \n",
    "    return padded_text, attention_mask, images, labels\n",
    "\n",
    "train_set_path = '../dataset/train.txt'\n",
    "test_set_path = '../dataset/test_without_label.txt'\n",
    "text_path = '../dataset/data/'\n",
    "image_path = '../dataset/data/'\n",
    "\n",
    "# 读取训练数据\n",
    "train_df = pd.read_csv(train_set_path, index_col=False)\n",
    "\n",
    "# 将训练数据划分为训练集和验证集，固定划分（8:2）\n",
    "train_df, val_df = train_test_split(train_df, test_size=0.2, random_state=42)\n",
    "\n",
    "# 读取测试数据，即测试集\n",
    "test_df = pd.read_csv(test_set_path, index_col=False)\n",
    "\n",
    "num_train = train_df.shape[0]\n",
    "num_val = val_df.shape[0]\n",
    "num_test = test_df.shape[0]\n",
    "\n",
    "print('X_train: ', num_train)\n",
    "print('X_val: ', num_val)\n",
    "print('X_test: ', num_test)\n",
    "print()\n",
    "\n",
    "image_transform = transforms.Compose([\n",
    "    transforms.Resize((224, 224)),\n",
    "    transforms.ToTensor(),\n",
    "])\n",
    "\n",
    "train_dataset = SentimentDataset(train_df, text_path, image_path, image_transform)\n",
    "val_dataset = SentimentDataset(val_df, text_path, image_path, image_transform)\n",
    "test_dataset = SentimentDataset(test_df, text_path, image_path, image_transform)\n",
    "\n",
    "train_loader = DataLoader(train_dataset, batch_size=64, shuffle=True, collate_fn=collate_fn)\n",
    "val_loader = DataLoader(val_dataset, batch_size=64, shuffle=False, collate_fn=collate_fn)\n",
    "test_loader = DataLoader(test_dataset, batch_size=64, shuffle=False, collate_fn=collate_fn)"
   ],
   "metadata": {
    "collapsed": false,
    "ExecuteTime": {
     "end_time": "2024-01-28T01:57:26.475451800Z",
     "start_time": "2024-01-28T01:57:26.433441400Z"
    }
   },
   "id": "974051affd25fa03"
  },
  {
   "cell_type": "markdown",
   "source": [
    "查看Dataloader数据格式"
   ],
   "metadata": {
    "collapsed": false
   },
   "id": "34c68159de98f00c"
  },
  {
   "cell_type": "code",
   "execution_count": 7,
   "outputs": [
    {
     "name": "stdout",
     "output_type": "stream",
     "text": [
      "tensor([3720,  785, 1330, 3721, 3722,  889,   12,    3, 3723, 1734,    1,    1,\n",
      "           1,    1,    1,    1,    1,    1,    1,    1,    1,    1,    1])\n",
      "<class 'torch.Tensor'>\n",
      "tensor([1., 1., 1., 1., 1., 1., 1., 1., 1., 1., 0., 0., 0., 0., 0., 0., 0., 0.,\n",
      "        0., 0., 0., 0., 0.])\n",
      "<class 'torch.Tensor'>\n",
      "tensor([[[0.9451, 0.9451, 0.9451,  ..., 0.6941, 0.6863, 0.6745],\n",
      "         [0.9451, 0.9451, 0.9451,  ..., 0.7294, 0.7098, 0.6902],\n",
      "         [0.9451, 0.9451, 0.9451,  ..., 0.7059, 0.6824, 0.6627],\n",
      "         ...,\n",
      "         [0.7294, 0.7490, 0.7882,  ..., 0.2902, 0.1725, 0.0902],\n",
      "         [0.6627, 0.6784, 0.7098,  ..., 0.5765, 0.5020, 0.2627],\n",
      "         [0.6078, 0.6353, 0.6784,  ..., 0.2824, 0.4471, 0.3882]],\n",
      "\n",
      "        [[0.9451, 0.9451, 0.9451,  ..., 0.6941, 0.6863, 0.6745],\n",
      "         [0.9451, 0.9451, 0.9451,  ..., 0.7294, 0.7098, 0.6902],\n",
      "         [0.9451, 0.9451, 0.9451,  ..., 0.7059, 0.6824, 0.6627],\n",
      "         ...,\n",
      "         [0.7294, 0.7490, 0.7882,  ..., 0.2902, 0.1725, 0.0902],\n",
      "         [0.6627, 0.6784, 0.7098,  ..., 0.5765, 0.5020, 0.2627],\n",
      "         [0.6078, 0.6353, 0.6784,  ..., 0.2824, 0.4471, 0.3882]],\n",
      "\n",
      "        [[0.9451, 0.9451, 0.9451,  ..., 0.6941, 0.6863, 0.6745],\n",
      "         [0.9451, 0.9451, 0.9451,  ..., 0.7294, 0.7098, 0.6902],\n",
      "         [0.9451, 0.9451, 0.9451,  ..., 0.7059, 0.6824, 0.6627],\n",
      "         ...,\n",
      "         [0.7294, 0.7490, 0.7882,  ..., 0.2902, 0.1725, 0.0902],\n",
      "         [0.6627, 0.6784, 0.7098,  ..., 0.5765, 0.5020, 0.2627],\n",
      "         [0.6078, 0.6353, 0.6784,  ..., 0.2824, 0.4471, 0.3882]]])\n",
      "<class 'torch.Tensor'>\n",
      "tensor(0)\n",
      "<class 'torch.Tensor'>\n"
     ]
    }
   ],
   "source": [
    "for text, attention_mask, images, labels in train_loader:\n",
    "    print(text[0])\n",
    "    print(type(text[0]))\n",
    "    print(attention_mask[0])\n",
    "    print(type(attention_mask[0]))\n",
    "    print(images[0])\n",
    "    print(type(images[0]))\n",
    "    print(labels[0])\n",
    "    print(type(labels[0]))\n",
    "    break"
   ],
   "metadata": {
    "collapsed": false,
    "ExecuteTime": {
     "end_time": "2024-01-28T01:57:26.946474900Z",
     "start_time": "2024-01-28T01:57:26.466449600Z"
    }
   },
   "id": "600df0bbca2d4e50"
  },
  {
   "cell_type": "markdown",
   "source": [
    "# 训练并评价模型"
   ],
   "metadata": {
    "collapsed": false
   },
   "id": "f47f047251810ade"
  },
  {
   "cell_type": "markdown",
   "source": [
    "定义文本分类模型"
   ],
   "metadata": {
    "collapsed": false
   },
   "id": "29ca8675956752d0"
  },
  {
   "cell_type": "code",
   "execution_count": 8,
   "outputs": [],
   "source": [
    "class TextRNN(nn.Module):\n",
    "    def __init__(self, vocab_size, embed_dim, hidden_dim, output_dim):\n",
    "        super(TextRNN, self).__init__()\n",
    "        self.embedding = nn.Embedding(vocab_size, embed_dim)\n",
    "        self.rnn = nn.RNN(embed_dim, hidden_dim, batch_first=True)\n",
    "        self.fc = nn.Linear(hidden_dim, output_dim)\n",
    "\n",
    "    def forward(self, text):\n",
    "        embedded_text = self.embedding(text)\n",
    "        rnn_output, _ = self.rnn(embedded_text)\n",
    "        output = self.fc(rnn_output[:, -1, :])  # 使用最后一个隐藏层\n",
    "        return output\n",
    "\n",
    "class TextLSTM(nn.Module):\n",
    "    def __init__(self, vocab_size, embed_dim, hidden_dim, output_dim):\n",
    "        super(TextLSTM, self).__init__()\n",
    "        self.embedding = nn.Embedding(vocab_size, embed_dim)\n",
    "        self.rnn = nn.LSTM(embed_dim, hidden_dim, batch_first=True)\n",
    "        self.fc = nn.Linear(hidden_dim, output_dim)\n",
    "\n",
    "    def forward(self, text):\n",
    "        embedded_text = self.embedding(text)\n",
    "        rnn_output, _ = self.rnn(embedded_text)\n",
    "        output = self.fc(rnn_output[:, -1, :])  # 使用最后一个隐藏层\n",
    "        return output\n",
    "    \n",
    "class TextGRU(nn.Module):\n",
    "    def __init__(self, vocab_size, embed_dim, hidden_dim, output_dim):\n",
    "        super(TextGRU, self).__init__()\n",
    "        self.embedding = nn.Embedding(vocab_size, embed_dim)\n",
    "        self.rnn = nn.GRU(embed_dim, hidden_dim, batch_first=True)\n",
    "        self.fc = nn.Linear(hidden_dim, output_dim)\n",
    "\n",
    "    def forward(self, text):\n",
    "        embedded_text = self.embedding(text)\n",
    "        rnn_output, _ = self.rnn(embedded_text)\n",
    "        output = self.fc(rnn_output[:, -1, :])  # 使用最后一个隐藏层\n",
    "        return output\n",
    "\n",
    "class TextBERT(nn.Module):\n",
    "    def __init__(self, output_dim):\n",
    "        super(TextBERT, self).__init__()\n",
    "        self.bert = BertModel.from_pretrained('bert-base-uncased', cache_dir='../model')\n",
    "        self.fc = nn.Linear(self.bert.config.hidden_size, output_dim)\n",
    "\n",
    "    def forward(self, text, attention_mask):\n",
    "        outputs = self.bert(text, attention_mask=attention_mask)\n",
    "        pooled_output = outputs.pooler_output\n",
    "        output = self.fc(pooled_output)\n",
    "        return output"
   ],
   "metadata": {
    "collapsed": false,
    "ExecuteTime": {
     "end_time": "2024-01-28T01:57:26.989587500Z",
     "start_time": "2024-01-28T01:57:26.952578800Z"
    }
   },
   "id": "d628e2d46d6ae288"
  },
  {
   "cell_type": "markdown",
   "source": [
    "定义图像分类模型"
   ],
   "metadata": {
    "collapsed": false
   },
   "id": "63858bd345d71834"
  },
  {
   "cell_type": "code",
   "execution_count": 9,
   "outputs": [],
   "source": [
    "class ImageAlexNet(nn.Module):\n",
    "    def __init__(self, output_dim, dropout=0.0):\n",
    "        super(ImageAlexNet, self).__init__()\n",
    "        self.features = nn.Sequential(\n",
    "            nn.Conv2d(3, 32, kernel_size=3, padding=1),\n",
    "            nn.ReLU(inplace=True),\n",
    "            nn.MaxPool2d(kernel_size=2, stride=2),\n",
    "            nn.Conv2d(32, 64, kernel_size=3, padding=1),\n",
    "            nn.ReLU(inplace=True),\n",
    "            nn.MaxPool2d(kernel_size=2, stride=2),\n",
    "            nn.Conv2d(64, 128, kernel_size=3, padding=1),\n",
    "            nn.ReLU(inplace=True),\n",
    "            nn.Conv2d(128, 256, kernel_size=3, padding=1),\n",
    "            nn.ReLU(inplace=True),\n",
    "            nn.Conv2d(256, 256, kernel_size=3, padding=1),\n",
    "            nn.ReLU(inplace=True),\n",
    "            nn.MaxPool2d(kernel_size=3, stride=2),\n",
    "        )\n",
    "        self.avgpool = nn.AdaptiveAvgPool2d((6, 6))\n",
    "        self.classifier = nn.Sequential(\n",
    "            nn.Dropout(p=dropout),\n",
    "            nn.Linear(256 * 6 * 6, 4096),\n",
    "            nn.ReLU(inplace=True),\n",
    "            nn.Dropout(p=dropout),\n",
    "            nn.Linear(4096, 4096),\n",
    "            nn.ReLU(inplace=True),\n",
    "            nn.Linear(4096, output_dim),\n",
    "        )\n",
    "\n",
    "    def forward(self, x):\n",
    "        x = self.features(x)\n",
    "        x = self.avgpool(x)\n",
    "        x = torch.flatten(x, 1)\n",
    "        x = self.classifier(x)\n",
    "        return x\n",
    "    \n",
    "    \n",
    "# 定义深度可分离卷积层\n",
    "class DepthwiseSeparableConv(nn.Module):\n",
    "    def __init__(self, in_channels, out_channels, stride, dropout):\n",
    "        super(DepthwiseSeparableConv, self).__init__()\n",
    "        self.depthwise_conv = nn.Conv2d(in_channels, in_channels, kernel_size=3, stride=stride, padding=1,\n",
    "                                        groups=in_channels, bias=False)\n",
    "        self.pointwise_conv = nn.Conv2d(in_channels, out_channels, kernel_size=1, stride=1, padding=0, bias=False)\n",
    "        self.batch_norm = nn.BatchNorm2d(out_channels)\n",
    "        self.relu = nn.ReLU(inplace=True)\n",
    "        self.dropout = nn.Dropout(p=dropout)  # 添加Dropout层\n",
    "\n",
    "    def forward(self, x):\n",
    "        x = self.depthwise_conv(x)\n",
    "        x = self.pointwise_conv(x)\n",
    "        x = self.batch_norm(x)\n",
    "        x = self.relu(x)\n",
    "        return x\n",
    "\n",
    "class ImageMobileNetV1(nn.Module):\n",
    "    def __init__(self, output_dim, dropout=0.0):\n",
    "        super(ImageMobileNetV1, self).__init__()\n",
    "        self.model = nn.Sequential(\n",
    "            nn.Conv2d(3, 32, kernel_size=3, stride=2, padding=1, bias=False),\n",
    "            nn.BatchNorm2d(32),\n",
    "            nn.ReLU(inplace=True),\n",
    "\n",
    "            DepthwiseSeparableConv(32, 64, stride=1, dropout=dropout),\n",
    "            DepthwiseSeparableConv(64, 128, stride=2, dropout=dropout),\n",
    "            DepthwiseSeparableConv(128, 128, stride=1, dropout=dropout),\n",
    "            DepthwiseSeparableConv(128, 256, stride=2, dropout=dropout),\n",
    "            DepthwiseSeparableConv(256, 256, stride=1, dropout=dropout),\n",
    "\n",
    "            DepthwiseSeparableConv(256, 512, stride=2, dropout=dropout),\n",
    "            DepthwiseSeparableConv(512, 512, stride=1, dropout=dropout),\n",
    "            DepthwiseSeparableConv(512, 512, stride=1, dropout=dropout),\n",
    "            DepthwiseSeparableConv(512, 512, stride=1, dropout=dropout),\n",
    "            DepthwiseSeparableConv(512, 512, stride=1, dropout=dropout),\n",
    "\n",
    "            DepthwiseSeparableConv(512, 1024, stride=2, dropout=dropout),\n",
    "            DepthwiseSeparableConv(1024, 1024, stride=1, dropout=dropout),\n",
    "\n",
    "            nn.AdaptiveAvgPool2d(1)\n",
    "        )\n",
    "\n",
    "        self.fc = nn.Linear(1024, output_dim)\n",
    "\n",
    "    def forward(self, x):\n",
    "        x = self.model(x)\n",
    "        x = x.view(x.size(0), -1)\n",
    "        x = self.fc(x)\n",
    "        return x"
   ],
   "metadata": {
    "collapsed": false,
    "ExecuteTime": {
     "end_time": "2024-01-28T01:57:26.998589500Z",
     "start_time": "2024-01-28T01:57:26.974584300Z"
    }
   },
   "id": "2e73bfde93c45338"
  },
  {
   "cell_type": "markdown",
   "source": [
    "定义模态合并层（Merging Layer）"
   ],
   "metadata": {
    "collapsed": false
   },
   "id": "e426a475729dfe89"
  },
  {
   "cell_type": "code",
   "execution_count": 10,
   "outputs": [],
   "source": [
    "# 加法层（Sum Layer）\n",
    "class SumLayer(nn.Module):\n",
    "    def __init__(self):\n",
    "        super(SumLayer, self).__init__()\n",
    "\n",
    "    def forward(self, x1, x2):\n",
    "        return x1 + x2\n",
    "    \n",
    "\n",
    "# 最大层（Maximum Layer）\n",
    "class MaximumLayer(nn.Module):\n",
    "    def __init__(self):\n",
    "        super(MaximumLayer, self).__init__()\n",
    "\n",
    "    def forward(self, x1, x2):\n",
    "        return torch.max(x1, x2)\n",
    "\n",
    "\n",
    "# 加权融合层（Weighted Ensemble Layer）\n",
    "class WeightedEnsembleLayer(nn.Module):\n",
    "    def __init__(self, input_dim):\n",
    "        super(WeightedEnsembleLayer, self).__init__()\n",
    "        self.weights = nn.Parameter(torch.rand(1, input_dim))  # 初始化权重\n",
    "\n",
    "    def forward(self, x1, x2):\n",
    "        weighted_sum = self.weights * x1 + (1 - self.weights) * x2\n",
    "        return weighted_sum\n",
    "    \n",
    " \n",
    "# 拼接层（Concatenation Layer）   \n",
    "class ConcatenationLayer(nn.Module):\n",
    "    def __init__(self):\n",
    "        super(ConcatenationLayer, self).__init__()\n",
    "\n",
    "    def forward(self, x1, x2):\n",
    "        return torch.cat((x1, x2), dim=1)"
   ],
   "metadata": {
    "collapsed": false,
    "ExecuteTime": {
     "end_time": "2024-01-28T01:57:27.009592300Z",
     "start_time": "2024-01-28T01:57:26.997590100Z"
    }
   },
   "id": "1fd4005e0188f190"
  },
  {
   "cell_type": "markdown",
   "source": [
    "定义多模态分类模型"
   ],
   "metadata": {
    "collapsed": false
   },
   "id": "c35bd025bd0a9419"
  },
  {
   "cell_type": "code",
   "execution_count": 11,
   "outputs": [],
   "source": [
    "class MultimodalModel(nn.Module):\n",
    "    def __init__(self, text_model_type, image_model_type, merging_layer_type, vocab_size, text_embed_dim, text_hidden_dim, num_classes):\n",
    "        super(MultimodalModel, self).__init__()\n",
    "        self.text_model_type = text_model_type\n",
    "        self.image_model_type = image_model_type\n",
    "        self.merging_layer_type = merging_layer_type\n",
    "        \n",
    "        if text_model_type == 'rnn':\n",
    "            self.text_model = TextRNN(vocab_size, text_embed_dim, text_hidden_dim, num_classes)\n",
    "        elif text_model_type == 'lstm':\n",
    "            self.text_model = TextLSTM(vocab_size, text_embed_dim, text_hidden_dim, num_classes)\n",
    "        elif text_model_type == 'gru':\n",
    "            self.text_model = TextGRU(vocab_size, text_embed_dim, text_hidden_dim, num_classes)\n",
    "        elif text_model_type == 'bert':\n",
    "            self.text_model = TextBERT(num_classes)\n",
    "            \n",
    "        if image_model_type == 'alexnet':\n",
    "            self.image_model = ImageAlexNet(num_classes)\n",
    "        elif image_model_type == 'mobilenet':\n",
    "            self.image_model = ImageMobileNetV1(num_classes)\n",
    "        \n",
    "        if merging_layer_type == 'Sum':\n",
    "            self.merging = SumLayer()\n",
    "        elif merging_layer_type == 'Maximum':\n",
    "            self.merging = MaximumLayer()\n",
    "        elif merging_layer_type == 'Weighted Ensemble':\n",
    "            self.merging = WeightedEnsembleLayer(num_classes)\n",
    "        elif merging_layer_type == 'Concatenation':\n",
    "            self.merging = ConcatenationLayer()\n",
    "            self.relu = nn.ReLU(inplace=True)\n",
    "            self.fc = nn.Linear(2 * num_classes, num_classes)\n",
    "\n",
    "    def forward(self, text, attention_mask, image):\n",
    "        if self.text_model_type == 'bert':\n",
    "            text_output = self.text_model(text, attention_mask)\n",
    "        else:\n",
    "            text_output = self.text_model(text)\n",
    "        image_output = self.image_model(image)\n",
    "        combined = self.merging(text_output, image_output)\n",
    "        if self.merging_layer_type == 'Concatenation':\n",
    "            combined = self.relu(combined)\n",
    "            output = self.fc(combined)\n",
    "        else:\n",
    "            output = combined\n",
    "        return output"
   ],
   "metadata": {
    "collapsed": false,
    "ExecuteTime": {
     "end_time": "2024-01-28T01:57:27.037598100Z",
     "start_time": "2024-01-28T01:57:27.013592700Z"
    }
   },
   "id": "369d83e9180dee8f"
  },
  {
   "cell_type": "markdown",
   "source": [
    "检查模型准确率"
   ],
   "metadata": {
    "collapsed": false
   },
   "id": "ea6b6364b8bd1e48"
  },
  {
   "cell_type": "code",
   "execution_count": 12,
   "outputs": [],
   "source": [
    "def check_accuracy(model):\n",
    "    num_correct = 0\n",
    "    num_samples = 0\n",
    "    model.eval()\n",
    "    with torch.no_grad():\n",
    "        for text, attention_mask, images, labels in val_loader:\n",
    "            text = text.to(device)\n",
    "            attention_mask = attention_mask.to(device)\n",
    "            images = images.to(device)\n",
    "            labels = labels.to(device)\n",
    "            scores = model(text, attention_mask, images)\n",
    "            _, preds = scores.max(1)\n",
    "            num_correct += (preds == labels).sum()\n",
    "            num_samples += preds.size(0)\n",
    "        acc = float(num_correct) / num_samples\n",
    "        return acc"
   ],
   "metadata": {
    "collapsed": false,
    "ExecuteTime": {
     "end_time": "2024-01-28T01:57:27.039945400Z",
     "start_time": "2024-01-28T01:57:27.024594700Z"
    }
   },
   "id": "7275dcd4b75d4c05"
  },
  {
   "cell_type": "markdown",
   "source": [
    "训练模型"
   ],
   "metadata": {
    "collapsed": false
   },
   "id": "7b91de838e081d42"
  },
  {
   "cell_type": "code",
   "execution_count": 13,
   "outputs": [],
   "source": [
    "def train_model(model, optimizer, epochs):\n",
    "    model.to(device)\n",
    "    model.train()\n",
    "    \n",
    "    train_loss = []\n",
    "    for epoch in range(epochs):\n",
    "        total_loss = 0\n",
    "        for text, attention_mask, images, labels in train_loader:\n",
    "            # 将待更新参数的梯度置为零\n",
    "            optimizer.zero_grad()\n",
    "            \n",
    "            text = text.to(device)\n",
    "            attention_mask = attention_mask.to(device)\n",
    "            images = images.to(device)\n",
    "            labels = labels.to(device)\n",
    "\n",
    "            scores = model(text, attention_mask, images)\n",
    "            \n",
    "            loss = F.cross_entropy(scores, labels)\n",
    "\n",
    "            # 反向传播，计算梯度\n",
    "            loss.backward()\n",
    "\n",
    "            # 利用梯度更新参数\n",
    "            optimizer.step()\n",
    "\n",
    "            total_loss += loss.item()\n",
    "\n",
    "        avg_loss = total_loss / num_train\n",
    "        print(f'Epoch: {epoch + 1}/{epochs}')\n",
    "        print(f'Train Loss: {avg_loss}')\n",
    "        train_loss.append(avg_loss)\n",
    "        \n",
    "    val_acc = check_accuracy(model)\n",
    "    \n",
    "    return model, train_loss, val_acc"
   ],
   "metadata": {
    "collapsed": false,
    "ExecuteTime": {
     "end_time": "2024-01-28T01:57:27.052940900Z",
     "start_time": "2024-01-28T01:57:27.041937800Z"
    }
   },
   "id": "dfa663d6a6592205"
  },
  {
   "cell_type": "markdown",
   "source": [
    "记录训练损失"
   ],
   "metadata": {
    "collapsed": false
   },
   "id": "6bfe9bff63eb4c6c"
  },
  {
   "cell_type": "code",
   "execution_count": 14,
   "outputs": [],
   "source": [
    "train_loss_all = dict()"
   ],
   "metadata": {
    "collapsed": false,
    "ExecuteTime": {
     "end_time": "2024-01-28T01:57:27.085559600Z",
     "start_time": "2024-01-28T01:57:27.054940900Z"
    }
   },
   "id": "813d3439ab445a4e"
  },
  {
   "cell_type": "markdown",
   "source": [
    "使用RNN/AlexNet作为文本模型/图像模型组合"
   ],
   "metadata": {
    "collapsed": false
   },
   "id": "dc4576ddd168b671"
  },
  {
   "cell_type": "code",
   "execution_count": 15,
   "outputs": [
    {
     "name": "stdout",
     "output_type": "stream",
     "text": [
      "Epoch: 1/30\n",
      "Train Loss: 0.014652967844158411\n",
      "Epoch: 2/30\n",
      "Train Loss: 0.014312815442681313\n",
      "Epoch: 3/30\n",
      "Train Loss: 0.014426884576678276\n",
      "Epoch: 4/30\n",
      "Train Loss: 0.014133120756596326\n",
      "Epoch: 5/30\n",
      "Train Loss: 0.014076541010290385\n",
      "Epoch: 6/30\n",
      "Train Loss: 0.013937771543860436\n",
      "Epoch: 7/30\n",
      "Train Loss: 0.01393686231225729\n",
      "Epoch: 8/30\n",
      "Train Loss: 0.013830373827368021\n",
      "Epoch: 9/30\n",
      "Train Loss: 0.01373139364644885\n",
      "Epoch: 10/30\n",
      "Train Loss: 0.013616576995700598\n",
      "Epoch: 11/30\n",
      "Train Loss: 0.013573605883866548\n",
      "Epoch: 12/30\n",
      "Train Loss: 0.013524452056735754\n",
      "Epoch: 13/30\n",
      "Train Loss: 0.013464659433811903\n",
      "Epoch: 14/30\n",
      "Train Loss: 0.013310348503291608\n",
      "Epoch: 15/30\n",
      "Train Loss: 0.013281267676502466\n",
      "Epoch: 16/30\n",
      "Train Loss: 0.013481890186667442\n",
      "Epoch: 17/30\n",
      "Train Loss: 0.013185327090322971\n",
      "Epoch: 18/30\n",
      "Train Loss: 0.01275961685925722\n",
      "Epoch: 19/30\n",
      "Train Loss: 0.012450602240860462\n",
      "Epoch: 20/30\n",
      "Train Loss: 0.012139016389846801\n",
      "Epoch: 21/30\n",
      "Train Loss: 0.012065277472138404\n",
      "Epoch: 22/30\n",
      "Train Loss: 0.011884506177157163\n",
      "Epoch: 23/30\n",
      "Train Loss: 0.011179879726842045\n",
      "Epoch: 24/30\n",
      "Train Loss: 0.010751369390636683\n",
      "Epoch: 25/30\n",
      "Train Loss: 0.01010625222697854\n",
      "Epoch: 26/30\n",
      "Train Loss: 0.009099051132798195\n",
      "Epoch: 27/30\n",
      "Train Loss: 0.00820413151755929\n",
      "Epoch: 28/30\n",
      "Train Loss: 0.007461989261209965\n",
      "Epoch: 29/30\n",
      "Train Loss: 0.0062063335673883556\n",
      "Epoch: 30/30\n",
      "Train Loss: 0.005665849475190043\n",
      "text_model rnn image_model alexnet merging_layer Sum val accuracy: 0.538750\n",
      "Epoch: 1/30\n",
      "Train Loss: 0.015246831625699998\n",
      "Epoch: 2/30\n",
      "Train Loss: 0.014151637889444828\n",
      "Epoch: 3/30\n",
      "Train Loss: 0.014121325295418501\n",
      "Epoch: 4/30\n",
      "Train Loss: 0.01394496412947774\n",
      "Epoch: 5/30\n",
      "Train Loss: 0.013944600746035575\n",
      "Epoch: 6/30\n",
      "Train Loss: 0.013864744938910007\n",
      "Epoch: 7/30\n",
      "Train Loss: 0.01390940262004733\n",
      "Epoch: 8/30\n",
      "Train Loss: 0.01388374861329794\n",
      "Epoch: 9/30\n",
      "Train Loss: 0.013721630796790124\n",
      "Epoch: 10/30\n",
      "Train Loss: 0.013756364099681378\n",
      "Epoch: 11/30\n",
      "Train Loss: 0.01370860766619444\n",
      "Epoch: 12/30\n",
      "Train Loss: 0.013828523810952903\n",
      "Epoch: 13/30\n",
      "Train Loss: 0.013643690720200538\n",
      "Epoch: 14/30\n",
      "Train Loss: 0.013668623249977828\n",
      "Epoch: 15/30\n",
      "Train Loss: 0.013462933339178562\n",
      "Epoch: 16/30\n",
      "Train Loss: 0.013461968954652547\n",
      "Epoch: 17/30\n",
      "Train Loss: 0.013428347259759903\n",
      "Epoch: 18/30\n",
      "Train Loss: 0.013121928442269564\n",
      "Epoch: 19/30\n",
      "Train Loss: 0.012991051115095615\n",
      "Epoch: 20/30\n",
      "Train Loss: 0.012705666944384575\n",
      "Epoch: 21/30\n",
      "Train Loss: 0.012520819306373596\n",
      "Epoch: 22/30\n",
      "Train Loss: 0.01232318526133895\n",
      "Epoch: 23/30\n",
      "Train Loss: 0.011684388183057308\n",
      "Epoch: 24/30\n",
      "Train Loss: 0.011200539283454419\n",
      "Epoch: 25/30\n",
      "Train Loss: 0.010501077082008124\n",
      "Epoch: 26/30\n",
      "Train Loss: 0.00969318563118577\n",
      "Epoch: 27/30\n",
      "Train Loss: 0.008606266723945736\n",
      "Epoch: 28/30\n",
      "Train Loss: 0.007517146905884147\n",
      "Epoch: 29/30\n",
      "Train Loss: 0.006773475161753595\n",
      "Epoch: 30/30\n",
      "Train Loss: 0.004933772962540388\n",
      "text_model rnn image_model alexnet merging_layer Maximum val accuracy: 0.565000\n",
      "Epoch: 1/30\n",
      "Train Loss: 0.014456339664757251\n",
      "Epoch: 2/30\n",
      "Train Loss: 0.014250310827046633\n",
      "Epoch: 3/30\n",
      "Train Loss: 0.014261320270597934\n",
      "Epoch: 4/30\n",
      "Train Loss: 0.014218907915055751\n",
      "Epoch: 5/30\n",
      "Train Loss: 0.014173262715339661\n",
      "Epoch: 6/30\n",
      "Train Loss: 0.014173268899321556\n",
      "Epoch: 7/30\n",
      "Train Loss: 0.014137863498181105\n",
      "Epoch: 8/30\n",
      "Train Loss: 0.014063461236655712\n",
      "Epoch: 9/30\n",
      "Train Loss: 0.014031656105071306\n",
      "Epoch: 10/30\n",
      "Train Loss: 0.014063764661550522\n",
      "Epoch: 11/30\n",
      "Train Loss: 0.014100139420479536\n",
      "Epoch: 12/30\n",
      "Train Loss: 0.01420014889910817\n",
      "Epoch: 13/30\n",
      "Train Loss: 0.01405227268114686\n",
      "Epoch: 14/30\n",
      "Train Loss: 0.014001599047333002\n",
      "Epoch: 15/30\n",
      "Train Loss: 0.01412192890420556\n",
      "Epoch: 16/30\n",
      "Train Loss: 0.01401250772178173\n",
      "Epoch: 17/30\n",
      "Train Loss: 0.013919824678450822\n",
      "Epoch: 18/30\n",
      "Train Loss: 0.014070182479918003\n",
      "Epoch: 19/30\n",
      "Train Loss: 0.014100471399724484\n",
      "Epoch: 20/30\n",
      "Train Loss: 0.014051603619009256\n",
      "Epoch: 21/30\n",
      "Train Loss: 0.014095199145376682\n",
      "Epoch: 22/30\n",
      "Train Loss: 0.01395474750548601\n",
      "Epoch: 23/30\n",
      "Train Loss: 0.013830928765237331\n",
      "Epoch: 24/30\n",
      "Train Loss: 0.01381838446483016\n",
      "Epoch: 25/30\n",
      "Train Loss: 0.01396670076996088\n",
      "Epoch: 26/30\n",
      "Train Loss: 0.013905967362225055\n",
      "Epoch: 27/30\n",
      "Train Loss: 0.013878655787557363\n",
      "Epoch: 28/30\n",
      "Train Loss: 0.013830546047538519\n",
      "Epoch: 29/30\n",
      "Train Loss: 0.0137003187648952\n",
      "Epoch: 30/30\n",
      "Train Loss: 0.0137092543579638\n",
      "text_model rnn image_model alexnet merging_layer Weighted Ensemble val accuracy: 0.585000\n",
      "Epoch: 1/30\n",
      "Train Loss: 0.014351816102862357\n",
      "Epoch: 2/30\n",
      "Train Loss: 0.014219258185476065\n",
      "Epoch: 3/30\n",
      "Train Loss: 0.014196029826998711\n",
      "Epoch: 4/30\n",
      "Train Loss: 0.014185211211442948\n",
      "Epoch: 5/30\n",
      "Train Loss: 0.01419264182448387\n",
      "Epoch: 6/30\n",
      "Train Loss: 0.014215680584311486\n",
      "Epoch: 7/30\n",
      "Train Loss: 0.01416961770504713\n",
      "Epoch: 8/30\n",
      "Train Loss: 0.014137873295694589\n",
      "Epoch: 9/30\n",
      "Train Loss: 0.014154513366520405\n",
      "Epoch: 10/30\n",
      "Train Loss: 0.014145669005811214\n",
      "Epoch: 11/30\n",
      "Train Loss: 0.0141471722535789\n",
      "Epoch: 12/30\n",
      "Train Loss: 0.014147162269800902\n",
      "Epoch: 13/30\n",
      "Train Loss: 0.014113154616206885\n",
      "Epoch: 14/30\n",
      "Train Loss: 0.014140152335166932\n",
      "Epoch: 15/30\n",
      "Train Loss: 0.014148714281618594\n",
      "Epoch: 16/30\n",
      "Train Loss: 0.014150486886501312\n",
      "Epoch: 17/30\n",
      "Train Loss: 0.014178364761173725\n",
      "Epoch: 18/30\n",
      "Train Loss: 0.014126808401197195\n",
      "Epoch: 19/30\n",
      "Train Loss: 0.014122795350849628\n",
      "Epoch: 20/30\n",
      "Train Loss: 0.014111334793269634\n",
      "Epoch: 21/30\n",
      "Train Loss: 0.014104712195694447\n",
      "Epoch: 22/30\n",
      "Train Loss: 0.014107315931469203\n",
      "Epoch: 23/30\n",
      "Train Loss: 0.014109589606523514\n",
      "Epoch: 24/30\n",
      "Train Loss: 0.014111476819962263\n",
      "Epoch: 25/30\n",
      "Train Loss: 0.014067856054753065\n",
      "Epoch: 26/30\n",
      "Train Loss: 0.014067950733006\n",
      "Epoch: 27/30\n",
      "Train Loss: 0.014310177229344846\n",
      "Epoch: 28/30\n",
      "Train Loss: 0.014131427612155675\n",
      "Epoch: 29/30\n",
      "Train Loss: 0.014126725904643535\n",
      "Epoch: 30/30\n",
      "Train Loss: 0.014177472926676274\n",
      "text_model rnn image_model alexnet merging_layer Concatenation val accuracy: 0.605000\n",
      "best validation accuracy achieved:\n",
      "text_model rnn image_model alexnet merging_layer Concatenation val accuracy: 0.605000\n"
     ]
    }
   ],
   "source": [
    "best_model = None\n",
    "best_merging_layer = None\n",
    "best_val_acc = -1\n",
    "\n",
    "learning_rate = 5e-4\n",
    "vocab_size = len(vocab)\n",
    "text_embed_dim = 256\n",
    "text_hidden_dim = 512\n",
    "num_classes = 3\n",
    "\n",
    "text_model_type = 'rnn'\n",
    "image_model_type = 'alexnet'\n",
    "merging_layer_types = ['Sum', 'Maximum', 'Weighted Ensemble', 'Concatenation']\n",
    "\n",
    "for merging_layer_type in merging_layer_types:\n",
    "    model = MultimodalModel(text_model_type, image_model_type, merging_layer_type, vocab_size, text_embed_dim, text_hidden_dim, num_classes)\n",
    "    optimizer = optim.Adam(model.parameters(), lr=learning_rate)\n",
    "\n",
    "    model, train_loss, val_acc = train_model(model, optimizer, epochs=30)\n",
    "    train_loss_all[merging_layer_type] = train_loss\n",
    "    if val_acc > best_val_acc:\n",
    "        # best_model = model\n",
    "        best_val_acc = val_acc\n",
    "        best_merging_layer = merging_layer_type\n",
    "    print('text_model %s image_model %s merging_layer %s val accuracy: %f' % (text_model_type,image_model_type, merging_layer_type, val_acc))\n",
    "    \n",
    "print('best validation accuracy achieved:')\n",
    "print('text_model %s image_model %s merging_layer %s val accuracy: %f' % (text_model_type, image_model_type, best_merging_layer, best_val_acc))\n",
    "# text_model rnn image_model alexnet merging_layer Concatenation val accuracy: 0.607500"
   ],
   "metadata": {
    "collapsed": false,
    "ExecuteTime": {
     "end_time": "2024-01-28T04:56:03.997829900Z",
     "start_time": "2024-01-28T01:57:27.068359800Z"
    }
   },
   "id": "4e07cc1d3c79c9c3"
  },
  {
   "cell_type": "markdown",
   "source": [
    "使用GRU/MobileNet作为文本模型/图像模型组合"
   ],
   "metadata": {
    "collapsed": false
   },
   "id": "9f122ea5b4db8a07"
  },
  {
   "cell_type": "code",
   "execution_count": 16,
   "outputs": [
    {
     "name": "stdout",
     "output_type": "stream",
     "text": [
      "Epoch: 1/30\n",
      "Train Loss: 0.014941926430910826\n",
      "Epoch: 2/30\n",
      "Train Loss: 0.013354929517954589\n",
      "Epoch: 3/30\n",
      "Train Loss: 0.00996671718545258\n",
      "Epoch: 4/30\n",
      "Train Loss: 0.004813272699248045\n",
      "Epoch: 5/30\n",
      "Train Loss: 0.002942984888795763\n",
      "Epoch: 6/30\n",
      "Train Loss: 0.0015851007192395627\n",
      "Epoch: 7/30\n",
      "Train Loss: 0.0011453656427329406\n",
      "Epoch: 8/30\n",
      "Train Loss: 0.0007427566559636034\n",
      "Epoch: 9/30\n",
      "Train Loss: 0.000649111288075801\n",
      "Epoch: 10/30\n",
      "Train Loss: 0.0004059235486056423\n",
      "Epoch: 11/30\n",
      "Train Loss: 0.0003396608457478578\n",
      "Epoch: 12/30\n",
      "Train Loss: 0.0003274822329694871\n",
      "Epoch: 13/30\n",
      "Train Loss: 0.00030430202412389917\n",
      "Epoch: 14/30\n",
      "Train Loss: 0.0002735846696668887\n",
      "Epoch: 15/30\n",
      "Train Loss: 0.00024880299204596665\n",
      "Epoch: 16/30\n",
      "Train Loss: 0.0002353333926475898\n",
      "Epoch: 17/30\n",
      "Train Loss: 0.00020506256535554712\n",
      "Epoch: 18/30\n",
      "Train Loss: 0.00020013394392663032\n",
      "Epoch: 19/30\n",
      "Train Loss: 0.00019691657458679402\n",
      "Epoch: 20/30\n",
      "Train Loss: 0.00020611002782061405\n",
      "Epoch: 21/30\n",
      "Train Loss: 0.00019043442831389256\n",
      "Epoch: 22/30\n",
      "Train Loss: 0.00019354778703018383\n",
      "Epoch: 23/30\n",
      "Train Loss: 0.0001905117155820335\n",
      "Epoch: 24/30\n",
      "Train Loss: 0.00016859852787092677\n",
      "Epoch: 25/30\n",
      "Train Loss: 0.00020681668540419195\n",
      "Epoch: 26/30\n",
      "Train Loss: 0.0001792879098229605\n",
      "Epoch: 27/30\n",
      "Train Loss: 0.00016606202157163353\n",
      "Epoch: 28/30\n",
      "Train Loss: 0.00015748688739677163\n",
      "Epoch: 29/30\n",
      "Train Loss: 0.000141121099686643\n",
      "Epoch: 30/30\n",
      "Train Loss: 0.00016310270493704592\n",
      "text_model gru image_model mobilenet merging_layer Sum val accuracy: 0.582500\n",
      "Epoch: 1/30\n",
      "Train Loss: 0.014673314690589905\n",
      "Epoch: 2/30\n",
      "Train Loss: 0.012944685015827417\n",
      "Epoch: 3/30\n",
      "Train Loss: 0.009246702697128057\n",
      "Epoch: 4/30\n",
      "Train Loss: 0.004074644043575972\n",
      "Epoch: 5/30\n",
      "Train Loss: 0.0023651981912553312\n",
      "Epoch: 6/30\n",
      "Train Loss: 0.0018919122102670372\n",
      "Epoch: 7/30\n",
      "Train Loss: 0.0012801669270265847\n",
      "Epoch: 8/30\n",
      "Train Loss: 0.0009860961674712598\n",
      "Epoch: 9/30\n",
      "Train Loss: 0.0007999745491542854\n",
      "Epoch: 10/30\n",
      "Train Loss: 0.0004997690773598151\n",
      "Epoch: 11/30\n",
      "Train Loss: 0.0002837330486363499\n",
      "Epoch: 12/30\n",
      "Train Loss: 0.0002790631270545418\n",
      "Epoch: 13/30\n",
      "Train Loss: 0.0002662140219581488\n",
      "Epoch: 14/30\n",
      "Train Loss: 0.00018605303889671632\n",
      "Epoch: 15/30\n",
      "Train Loss: 0.0002140968758612871\n",
      "Epoch: 16/30\n",
      "Train Loss: 0.00017453794347602525\n",
      "Epoch: 17/30\n",
      "Train Loss: 0.00016918163532864128\n",
      "Epoch: 18/30\n",
      "Train Loss: 0.00019716401293408127\n",
      "Epoch: 19/30\n",
      "Train Loss: 0.0002252319058698049\n",
      "Epoch: 20/30\n",
      "Train Loss: 0.00258491498985677\n",
      "Epoch: 21/30\n",
      "Train Loss: 0.007146882875822484\n",
      "Epoch: 22/30\n",
      "Train Loss: 0.0021186919987667354\n",
      "Epoch: 23/30\n",
      "Train Loss: 0.0008747905460768379\n",
      "Epoch: 24/30\n",
      "Train Loss: 0.00033416541366023013\n",
      "Epoch: 25/30\n",
      "Train Loss: 0.00021153006220629323\n",
      "Epoch: 26/30\n",
      "Train Loss: 0.00018735225654381793\n",
      "Epoch: 27/30\n",
      "Train Loss: 0.00020401949737788527\n",
      "Epoch: 28/30\n",
      "Train Loss: 0.00016864117871591587\n",
      "Epoch: 29/30\n",
      "Train Loss: 0.00016924857867707034\n",
      "Epoch: 30/30\n",
      "Train Loss: 0.0001624096468276548\n",
      "text_model gru image_model mobilenet merging_layer Maximum val accuracy: 0.538750\n",
      "Epoch: 1/30\n",
      "Train Loss: 0.014717020504176616\n",
      "Epoch: 2/30\n",
      "Train Loss: 0.013411663100123405\n",
      "Epoch: 3/30\n",
      "Train Loss: 0.010336404535919427\n",
      "Epoch: 4/30\n",
      "Train Loss: 0.004984085764735937\n",
      "Epoch: 5/30\n",
      "Train Loss: 0.002479427623329684\n",
      "Epoch: 6/30\n",
      "Train Loss: 0.0013311171351233497\n",
      "Epoch: 7/30\n",
      "Train Loss: 0.0010813967481954024\n",
      "Epoch: 8/30\n",
      "Train Loss: 0.0006928851449629292\n",
      "Epoch: 9/30\n",
      "Train Loss: 0.000638782164460281\n",
      "Epoch: 10/30\n",
      "Train Loss: 0.0004094173578778282\n",
      "Epoch: 11/30\n",
      "Train Loss: 0.0002879848368684179\n",
      "Epoch: 12/30\n",
      "Train Loss: 0.00022778525155445095\n",
      "Epoch: 13/30\n",
      "Train Loss: 0.00026065225689308135\n",
      "Epoch: 14/30\n",
      "Train Loss: 0.00021342694330087398\n",
      "Epoch: 15/30\n",
      "Train Loss: 0.000199722446850501\n",
      "Epoch: 16/30\n",
      "Train Loss: 0.00020065104669811262\n",
      "Epoch: 17/30\n",
      "Train Loss: 0.00017564001562277553\n",
      "Epoch: 18/30\n",
      "Train Loss: 0.0001756562062746525\n",
      "Epoch: 19/30\n",
      "Train Loss: 0.0001635840919243492\n",
      "Epoch: 20/30\n",
      "Train Loss: 0.00015555217195469594\n",
      "Epoch: 21/30\n",
      "Train Loss: 0.00015757799223138137\n",
      "Epoch: 22/30\n",
      "Train Loss: 0.00017568997993294033\n",
      "Epoch: 23/30\n",
      "Train Loss: 0.0001499491010872589\n",
      "Epoch: 24/30\n",
      "Train Loss: 0.00013966224057185172\n",
      "Epoch: 25/30\n",
      "Train Loss: 0.00014787437040013175\n",
      "Epoch: 26/30\n",
      "Train Loss: 0.00016551368645650655\n",
      "Epoch: 27/30\n",
      "Train Loss: 0.00014424239941035922\n",
      "Epoch: 28/30\n",
      "Train Loss: 0.00013995723672906025\n",
      "Epoch: 29/30\n",
      "Train Loss: 0.00015570898692203626\n",
      "Epoch: 30/30\n",
      "Train Loss: 0.0001396643741236403\n",
      "text_model gru image_model mobilenet merging_layer Weighted Ensemble val accuracy: 0.593750\n",
      "Epoch: 1/30\n",
      "Train Loss: 0.01457624489441514\n",
      "Epoch: 2/30\n",
      "Train Loss: 0.013801112193614245\n",
      "Epoch: 3/30\n",
      "Train Loss: 0.01221810819581151\n",
      "Epoch: 4/30\n",
      "Train Loss: 0.008986855754628778\n",
      "Epoch: 5/30\n",
      "Train Loss: 0.006397542161867022\n",
      "Epoch: 6/30\n",
      "Train Loss: 0.00472661416977644\n",
      "Epoch: 7/30\n",
      "Train Loss: 0.003477898775599897\n",
      "Epoch: 8/30\n",
      "Train Loss: 0.002652784415986389\n",
      "Epoch: 9/30\n",
      "Train Loss: 0.0020512743096332995\n",
      "Epoch: 10/30\n",
      "Train Loss: 0.0017576105729676782\n",
      "Epoch: 11/30\n",
      "Train Loss: 0.0018027612008154393\n",
      "Epoch: 12/30\n",
      "Train Loss: 0.0016518939379602672\n",
      "Epoch: 13/30\n",
      "Train Loss: 0.001628652699291706\n",
      "Epoch: 14/30\n",
      "Train Loss: 0.0015752570005133748\n",
      "Epoch: 15/30\n",
      "Train Loss: 0.0018992078735027462\n",
      "Epoch: 16/30\n",
      "Train Loss: 0.0023175572557374833\n",
      "Epoch: 17/30\n",
      "Train Loss: 0.0021454153303056955\n",
      "Epoch: 18/30\n",
      "Train Loss: 0.0016025970026385039\n",
      "Epoch: 19/30\n",
      "Train Loss: 0.0014302541752113029\n",
      "Epoch: 20/30\n",
      "Train Loss: 0.0012486203250591642\n",
      "Epoch: 21/30\n",
      "Train Loss: 0.0011931823729537426\n",
      "Epoch: 22/30\n",
      "Train Loss: 0.0011024554172763602\n",
      "Epoch: 23/30\n",
      "Train Loss: 0.0010017029073787853\n",
      "Epoch: 24/30\n",
      "Train Loss: 0.0010219916462665423\n",
      "Epoch: 25/30\n",
      "Train Loss: 0.0010025697894161566\n",
      "Epoch: 26/30\n",
      "Train Loss: 0.0009321961697423831\n",
      "Epoch: 27/30\n",
      "Train Loss: 0.0009469152160454541\n",
      "Epoch: 28/30\n",
      "Train Loss: 0.0009707449126290157\n",
      "Epoch: 29/30\n",
      "Train Loss: 0.0008886260804138146\n",
      "Epoch: 30/30\n",
      "Train Loss: 0.0008513982305885292\n",
      "text_model gru image_model mobilenet merging_layer Concatenation val accuracy: 0.606250\n",
      "best validation accuracy achieved:\n",
      "text_model gru image_model mobilenet merging_layer Concatenation val accuracy: 0.606250\n"
     ]
    }
   ],
   "source": [
    "best_model = None\n",
    "best_merging_layer = None\n",
    "best_val_acc = -1\n",
    "\n",
    "learning_rate = 5e-4\n",
    "vocab_size = len(vocab)\n",
    "text_embed_dim = 256\n",
    "text_hidden_dim = 512\n",
    "num_classes = 3\n",
    "\n",
    "text_model_type = 'gru'\n",
    "image_model_type = 'mobilenet'\n",
    "merging_layer_types = ['Sum', 'Maximum', 'Weighted Ensemble', 'Concatenation']\n",
    "\n",
    "for merging_layer_type in merging_layer_types:\n",
    "    model = MultimodalModel(text_model_type, image_model_type, merging_layer_type, vocab_size, text_embed_dim, text_hidden_dim, num_classes)\n",
    "    optimizer = optim.Adam(model.parameters(), lr=learning_rate)\n",
    "\n",
    "    model, train_loss, val_acc = train_model(model, optimizer, epochs=30)\n",
    "    train_loss_all[merging_layer_type] = train_loss\n",
    "    if val_acc > best_val_acc:\n",
    "        # best_model = model\n",
    "        best_val_acc = val_acc\n",
    "        best_merging_layer = merging_layer_type\n",
    "    print('text_model %s image_model %s merging_layer %s val accuracy: %f' % (text_model_type,image_model_type, merging_layer_type, val_acc))\n",
    "    \n",
    "print('best validation accuracy achieved:')\n",
    "print('text_model %s image_model %s merging_layer %s val accuracy: %f' % (text_model_type, image_model_type, best_merging_layer, best_val_acc))\n",
    "# text_model gru image_model mobilenet merging_layer Maximum val accuracy: 0.617500"
   ],
   "metadata": {
    "collapsed": false,
    "ExecuteTime": {
     "end_time": "2024-01-28T05:58:07.041132Z",
     "start_time": "2024-01-28T04:56:40.140625800Z"
    }
   },
   "id": "9e21e5db840de22d"
  },
  {
   "cell_type": "markdown",
   "source": [
    "预测测试集的标签并补全保存"
   ],
   "metadata": {
    "collapsed": false
   },
   "id": "fb30705947ff77c9"
  },
  {
   "cell_type": "code",
   "execution_count": null,
   "outputs": [],
   "source": [
    "def predict(model):\n",
    "    all_preds = []\n",
    "    \n",
    "    model.eval()\n",
    "    with torch.no_grad():\n",
    "        for text, attention_mask, images, labels in test_loader:\n",
    "            text = text.to(device)\n",
    "            attention_mask = attention_mask.to(device)\n",
    "            images = images.to(device)\n",
    "            scores = model(text, attention_mask, images)\n",
    "            _, preds = scores.max(1)\n",
    "            all_preds.append(preds.cpu().numpy())\n",
    "            \n",
    "    tag = np.concatenate(all_preds)\n",
    "    label_mapping = {0: 'negative', 1: 'neutral', 2: 'positive'}  # 标签映射\n",
    "    tag_mapping = []\n",
    "    for i in range(len(tag)):\n",
    "        tag_mapping.append(label_mapping[tag[i]])\n",
    "    \n",
    "    test_df = pd.read_csv(test_set_path, index_col=False)\n",
    "    test_df['tag'] = tag\n",
    "    result_path = '../result/result_late_fusion.txt'\n",
    "    test_df.to_csv(result_path, index=False)"
   ],
   "metadata": {
    "collapsed": false
   },
   "id": "7bbb5bdefac8bc36"
  },
  {
   "cell_type": "code",
   "execution_count": null,
   "outputs": [],
   "source": [
    "predict(model)"
   ],
   "metadata": {
    "collapsed": false
   },
   "id": "ab3f23916e644148"
  },
  {
   "cell_type": "markdown",
   "source": [
    "# 绘制图像"
   ],
   "metadata": {
    "collapsed": false
   },
   "id": "d9b6f07451b8e1c5"
  },
  {
   "cell_type": "code",
   "execution_count": 16,
   "outputs": [],
   "source": [
    "# 绘制训练损失变化图\n",
    "def plot_train_loss(train_loss, title, path):\n",
    "    merging_methods = ['Sum', 'Maximum', 'Weighted Ensemble', 'Concatenation']\n",
    "    epoch = np.arange(1, 31)\n",
    "    \n",
    "    for i in range(len(merging_methods)):\n",
    "        plt.plot(epoch, train_loss[merging_methods[i]], label=merging_methods[i])\n",
    "    \n",
    "    plt.legend()\n",
    "    plt.title(title)\n",
    "    plt.xlabel('Epoch')\n",
    "    plt.ylabel('Train Loss')\n",
    "    plt.savefig(path)"
   ],
   "metadata": {
    "collapsed": false,
    "ExecuteTime": {
     "end_time": "2024-01-26T11:58:37.736882Z",
     "start_time": "2024-01-26T11:58:37.696874200Z"
    }
   },
   "id": "d9dcfd33c9e8bc65"
  },
  {
   "cell_type": "code",
   "execution_count": 24,
   "outputs": [],
   "source": [
    "# 绘制各模型在验证集上的预测准确率图\n",
    "def plot_val_acc(acc_values, title, path):    \n",
    "    merging_methods = ['Sum', 'Maximum', 'Weighted Ensemble', 'Concatenation']\n",
    "    \n",
    "    acc_mean = np.mean(acc_values, axis=1)\n",
    "    acc_std = np.std(acc_values, axis=1)\n",
    "    plt.errorbar(merging_methods, acc_mean, yerr=acc_std, fmt='o-')\n",
    "    \n",
    "    plt.xlabel('Merging Method')\n",
    "    plt.ylabel('Validation Accuracy')\n",
    "    plt.title(title)\n",
    "    plt.savefig(path, bbox_inches='tight')"
   ],
   "metadata": {
    "collapsed": false,
    "ExecuteTime": {
     "end_time": "2024-01-28T06:02:52.531896800Z",
     "start_time": "2024-01-28T06:02:52.499733300Z"
    }
   },
   "id": "f82b92ede5f9af02"
  },
  {
   "cell_type": "code",
   "execution_count": 18,
   "outputs": [
    {
     "data": {
      "text/plain": "<Figure size 640x480 with 1 Axes>",
      "image/png": "[encoded data removed]"
     },
     "metadata": {},
     "output_type": "display_data"
    }
   ],
   "source": [
    "title1 = \"Train Loss for Different Merging Methods in Late Fusion(RNN/AlexNet)\"\n",
    "fig1_path = \"../graph/Train Loss for Different Merging Methods in Late Fusion(RNN AlexNet).png\"\n",
    "plot_train_loss(train_loss_all, title1, fig1_path)"
   ],
   "metadata": {
    "collapsed": false,
    "ExecuteTime": {
     "end_time": "2024-01-26T12:00:57.706431100Z",
     "start_time": "2024-01-26T12:00:57.499384900Z"
    }
   },
   "id": "2a2e7f35069c4791"
  },
  {
   "cell_type": "code",
   "execution_count": 20,
   "outputs": [
    {
     "data": {
      "text/plain": "<Figure size 640x480 with 1 Axes>",
      "image/png": "[encoded data removed]"
     },
     "metadata": {},
     "output_type": "display_data"
    }
   ],
   "source": [
    "title2 = \"Train Loss for Different Merging Methods in Late Fusion(GRU/MobileNet)\"\n",
    "fig2_path = \"../graph/Train Loss for Different Merging Methods in Late Fusion(GRU MobileNet).png\"\n",
    "plot_train_loss(train_loss_all, title2, fig2_path)"
   ],
   "metadata": {
    "collapsed": false,
    "ExecuteTime": {
     "end_time": "2024-01-26T13:15:47.076695700Z",
     "start_time": "2024-01-26T13:15:46.830639500Z"
    }
   },
   "id": "fbf6d3b06c640bfd"
  },
  {
   "cell_type": "code",
   "execution_count": 25,
   "outputs": [
    {
     "data": {
      "text/plain": "<Figure size 640x480 with 1 Axes>",
      "image/png": "[encoded data removed]"
     },
     "metadata": {},
     "output_type": "display_data"
    }
   ],
   "source": [
    "val_acc_values = np.array([[60.500, 59.875, 59.875, 58.375, 53.875],\n",
    "                           [56.875, 58.750, 56.875, 57.500, 56.500],\n",
    "                           [60.625, 57.125, 60.250, 56.875, 58.500],\n",
    "                           [60.375, 60.750, 60.125, 59.125, 60.500]])\n",
    "\n",
    "title3 = \"Validation Accuracy for Different Merging Methods in Late Fusion(RNN/AlexNet)\"\n",
    "fig3_path = \"../graph/Validation Accuracy for Different Merging Methods in Late Fusion(RNN AlexNet).png\"\n",
    "plot_val_acc(val_acc_values, title3, fig3_path)"
   ],
   "metadata": {
    "collapsed": false,
    "ExecuteTime": {
     "end_time": "2024-01-28T06:02:58.128266200Z",
     "start_time": "2024-01-28T06:02:57.348083100Z"
    }
   },
   "id": "bae48afe27487a39"
  },
  {
   "cell_type": "code",
   "execution_count": 26,
   "outputs": [
    {
     "data": {
      "text/plain": "<Figure size 640x480 with 1 Axes>",
      "image/png": "[encoded data removed]"
     },
     "metadata": {},
     "output_type": "display_data"
    }
   ],
   "source": [
    "val_acc_values = np.array([[58.500, 59.875, 57.625, 57.625, 58.250],\n",
    "                           [57.000, 57.375, 56.375, 54.625, 53.875],\n",
    "                           [57.375, 58.750, 57.250, 55.750, 59.375],\n",
    "                           [61.750, 61.000, 58.250, 58.250, 60.625]])\n",
    "\n",
    "title4 = \"Validation Accuracy for Different Merging Methods in Late Fusion(GRU/MobileNet)\"\n",
    "fig4_path = \"../graph/Validation Accuracy for Different Merging Methods in Late Fusion(GRU MobileNet).png\"\n",
    "plot_val_acc(val_acc_values, title4, fig4_path)"
   ],
   "metadata": {
    "collapsed": false,
    "ExecuteTime": {
     "end_time": "2024-01-28T06:03:00.692875600Z",
     "start_time": "2024-01-28T06:03:00.479192400Z"
    }
   },
   "id": "9f791fbd05d58e23"
  }
 ],
 "metadata": {
  "kernelspec": {
   "display_name": "Python 3",
   "language": "python",
   "name": "python3"
  },
  "language_info": {
   "codemirror_mode": {
    "name": "ipython",
    "version": 2
   },
   "file_extension": ".py",
   "mimetype": "text/x-python",
   "name": "python",
   "nbconvert_exporter": "python",
   "pygments_lexer": "ipython2",
   "version": "2.7.6"
  }
 },
 "nbformat": 4,
 "nbformat_minor": 5
}
